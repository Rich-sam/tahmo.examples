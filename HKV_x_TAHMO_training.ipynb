{
 "cells": [
  {
   "cell_type": "markdown",
   "metadata": {},
   "source": [
    "# Developing dashboards in Python\n",
    "\n",
    "<img src=\"data/images/partners.png\" width=\"75%\"/>\n",
    "\n",
    "Welcome to the technical training on data integration in seasonal forecasting, made by HKV. \n",
    "\n",
    "### Table of content\n",
    "\n",
    "1. [Introduction to Jupyter Notebooks & Application Programming Interfaces (API's)](#section-1)\n",
    "    - 1.1 Introduction to Jupyter notebook\n",
    "    - 1.2 Introduction to REST APIs in Python\n",
    "2. [Working with TAHMO weather station data](#section-2)\n",
    "3. [Using weahter forecast from Open-meteo](#section-3)\n",
    "4. [Dashboards development with Solara](#section-4)\n"
   ]
  },
  {
   "cell_type": "markdown",
   "metadata": {},
   "source": [
    "## 1. Introduction to Jupyter Notebooks & Application Programming Interfaces (API's) <a name=\"section-1\"></a>\n",
    "\n",
    "### 1.1 Introduction to Jupyter Notebook\n",
    "[Jupyter Notebooks](https://jupyter-notebook.readthedocs.io/en/latest/) are interactive computing environments that allow you to create and share documents containing live code, equations, visualizations, and narrative text. They are widely used in data science, research, and education due to their versatility and ease of use.\n",
    "\n",
    "Jupyter Notebooks consist of cells which can contain code, text, or visualizations."
   ]
  },
  {
   "cell_type": "markdown",
   "metadata": {},
   "source": [
    "#### Running a Cell:\n",
    "Click on the cell below, and you'll notice a border around it. To run the code within the cell, press **Shift + Enter** or use the \"Run\" button in the toolbar above.\n"
   ]
  },
  {
   "cell_type": "code",
   "execution_count": 1,
   "metadata": {},
   "outputs": [
    {
     "name": "stdout",
     "output_type": "stream",
     "text": [
      "Welcome to the training!\n"
     ]
    }
   ],
   "source": [
    "print('Welcome to the training!')"
   ]
  },
  {
   "cell_type": "markdown",
   "metadata": {},
   "source": [
    "#### Saving and Closing:\n",
    "Remember to save your work by clicking the floppy disk icon or using **Ctrl + S**. You can close a notebook when you're done, and the changes will be saved."
   ]
  },
  {
   "cell_type": "code",
   "execution_count": 2,
   "metadata": {},
   "outputs": [
    {
     "name": "stdout",
     "output_type": "stream",
     "text": [
      "let's start coding\n"
     ]
    }
   ],
   "source": [
    "# using variables\n",
    "\n",
    "var = \"let's start coding\"\n",
    "\n",
    "print(var)"
   ]
  },
  {
   "cell_type": "markdown",
   "metadata": {},
   "source": [
    "### 1.2  Introduction to REST APIs in Python\n",
    "Welcome to the world of REST APIs! If you're curious about how different applications communicate with each other over the web, you're in the right place. In this introduction, we'll explore the basics of REST (Representational State Transfer) APIs and how you can interact with them using Python.\n",
    "\n",
    "#### What is a REST API?\n",
    "\n",
    "<img src=\"data/images/api.png\" width=\"75%\"/>\n",
    "\n",
    "A REST API (Application Programming Interface) is a set of rules and conventions for building and interacting with web services. It allows different software applications to communicate with each other over the internet by using standard HTTP methods, such as GET, POST, PUT, and DELETE.\n",
    "\n",
    "#### Key Concepts:\n",
    "1. Resources:\n",
    "In a REST API, everything is considered a resource. These resources can be data objects, services, or entities, and each is uniquely identified by a URL, often referred to as an endpoint.\n",
    "\n",
    "2. HTTP Methods:\n",
    "RESTful APIs use standard HTTP methods to perform different operations on resources:\n",
    "\n",
    "GET: Retrieve data from a specified resource.\n",
    "POST: Create a new resource.\n",
    "PUT: Update an existing resource.\n",
    "DELETE: Remove a resource.\n",
    "3. Request and Response:\n",
    "When you make a request to a REST API endpoint, you send an HTTP request, and the server responds with an HTTP response. The response typically includes the requested data or information about the success or failure of the request.\n",
    "\n",
    "#### Interacting with REST APIs in Python:\n",
    "1. Requests Library:\n",
    "Python provides the requests library, which simplifies the process of sending HTTP requests. You can install it using:"
   ]
  },
  {
   "cell_type": "markdown",
   "metadata": {},
   "source": [
    "#### Conclusion:\n",
    "Understanding REST APIs and how to interact with them is a fundamental skill for any programmer. Whether you're building web applications, working with data, or integrating services, the ability to communicate with RESTful APIs using Python opens up a world of possibilities. So, let's dive in and start exploring the power of REST in Python!"
   ]
  },
  {
   "cell_type": "markdown",
   "metadata": {},
   "source": [
    "# Working with TAHMO weather station data <a name=\"section-2\"></a>\n",
    "\n",
    "TAHMO is a network of weather stations across Africa. The TAHMO initiative aims to provide high-quality, real-time weather and hydrological data to support various applications, including agriculture, water resource management, and scientific research.\n",
    "\n",
    "The TAHMO weather stations are strategically placed to gather data on various meteorological parameters such as temperature, humidity, wind speed, and rainfall. The data collected from these stations can be valuable for understanding weather patterns, predicting climate trends, and making informed decisions in sectors like agriculture and water management.\n",
    "\n",
    "Accessing TAHMO weather station data typically involves using the TAHMO API (Application Programming Interface), which allows developers to retrieve weather data programmatically. See the website below:"
   ]
  },
  {
   "cell_type": "code",
   "execution_count": 1,
   "metadata": {},
   "outputs": [
    {
     "data": {
      "text/html": [
       "\n",
       "        <iframe\n",
       "            width=\"75%\"\n",
       "            height=\"400\"\n",
       "            src=\"https://tahmo.org/\"\n",
       "            frameborder=\"0\"\n",
       "            allowfullscreen\n",
       "            \n",
       "        ></iframe>\n",
       "        "
      ],
      "text/plain": [
       "<IPython.lib.display.IFrame at 0x7f240c42e5f0>"
      ]
     },
     "execution_count": 1,
     "metadata": {},
     "output_type": "execute_result"
    }
   ],
   "source": [
    "from IPython.display import IFrame\n",
    "IFrame(\"https://tahmo.org/\", '75%',400)"
   ]
  },
  {
   "cell_type": "markdown",
   "metadata": {},
   "source": [
    "### Example: TAHMO data by API request\n",
    "\n",
    "In this example we will request data from the TAHMO station using this [API](https://github.com/TAHMO/API-V2-Python-examples/tree/master). This contains a client that makes it easier to use the API. First we need to import the module and create an instance of the API client. Also we need to login using our demo credentials.\n"
   ]
  },
  {
   "cell_type": "code",
   "execution_count": 4,
   "metadata": {},
   "outputs": [],
   "source": [
    "# Import the TAHMO module\n",
    "import TAHMO\n",
    "\n",
    "# The demo credentials listed below give you access to three pre-defined stations. \n",
    "api = TAHMO.apiWrapper()\n",
    "\n",
    "# set the credentials\n",
    "api.setCredentials('demo', 'DemoPassword1!')"
   ]
  },
  {
   "cell_type": "markdown",
   "metadata": {},
   "source": [
    "In the cell below we can list all the TAHMO stations that we have access to. Also we can list al the variables that are recorded by the weather stations."
   ]
  },
  {
   "cell_type": "code",
   "execution_count": 5,
   "metadata": {},
   "outputs": [
    {
     "name": "stdout",
     "output_type": "stream",
     "text": [
      "API request: services/assets/v2/stations\n",
      "Account has access to stations: TA00134, TA00252, TA00567\n"
     ]
    }
   ],
   "source": [
    "# list other stations that are available\n",
    "stations = api.getStations()\n",
    "print('Account has access to stations: %s' % ', '.join(list(stations)))"
   ]
  },
  {
   "cell_type": "code",
   "execution_count": 6,
   "metadata": {},
   "outputs": [
    {
     "data": {
      "text/plain": [
       "['TA00134', 'TA00252', 'TA00567']"
      ]
     },
     "execution_count": 6,
     "metadata": {},
     "output_type": "execute_result"
    }
   ],
   "source": [
    "list(stations)"
   ]
  },
  {
   "cell_type": "code",
   "execution_count": 7,
   "metadata": {},
   "outputs": [
    {
     "name": "stdout",
     "output_type": "stream",
     "text": [
      "API request: services/assets/v2/variables\n",
      "Available variables in TAHMO API:\n",
      "Atmospheric pressure [kPa] with shortcode \"ap\"\n",
      "Depth of water [mm] with shortcode \"dw\"\n",
      "Electrical conductivity of precipitation [mS/cm] with shortcode \"ec\"\n",
      "Electrical conductivity of water [mS/cm] with shortcode \"ew\"\n",
      "Lightning distance [km] with shortcode \"ld\"\n",
      "Lightning events [-] with shortcode \"le\"\n",
      "Shortwave radiation [W/m2] with shortcode \"ra\"\n",
      "Soil moisture content [m3/m3] with shortcode \"sm\"\n",
      "Soil temperature [degrees Celsius] with shortcode \"st\"\n",
      "Surface air temperature [degrees Celsius] with shortcode \"te\"\n",
      "Vapor pressure [kPa] with shortcode \"vp\"\n",
      "Wind gusts [m/s] with shortcode \"wg\"\n",
      "Wind speed [m/s] with shortcode \"ws\"\n",
      "Temperature of humidity sensor [degrees Celsius] with shortcode \"ht\"\n",
      "X-axis level [degrees] with shortcode \"tx\"\n",
      "Y-axis level [degrees] with shortcode \"ty\"\n",
      "Logger battery percentage [-] with shortcode \"lb\"\n",
      "Logger reference pressure [kPa] with shortcode \"lp\"\n",
      "Logger temperature [degrees Celsius] with shortcode \"lt\"\n",
      "Cumulative precipitation [mm] with shortcode \"cp\"\n",
      "Water level [m] with shortcode \"wl\"\n",
      "Water velocity [m/s] with shortcode \"wv\"\n",
      "Precipitation [mm] with shortcode \"pr\"\n",
      "Relative humidity [-] with shortcode \"rh\"\n",
      "Wind direction [degrees] with shortcode \"wd\"\n",
      "Soil electrical conductivity [mS/cm] with shortcode \"se\"\n",
      "Water temperature [degrees Celsius] with shortcode \"tw\"\n",
      "Water discharge [m3/s] with shortcode \"wq\"\n",
      "Matric potential [kPa] with shortcode \"mp\"\n"
     ]
    }
   ],
   "source": [
    "# list available variables\n",
    "\n",
    "variables = api.getVariables()\n",
    "print('Available variables in TAHMO API:')\n",
    "for variable in variables:\n",
    "    print('%s [%s] with shortcode \"%s\"' %\n",
    "          (variables[variable]['description'], variables[variable]['units'], variables[variable]['shortcode']))"
   ]
  },
  {
   "cell_type": "markdown",
   "metadata": {},
   "source": [
    "Let's take one of the stations and retrieve the name of the weather stations and the geographical coordinates of the station:"
   ]
  },
  {
   "cell_type": "code",
   "execution_count": 8,
   "metadata": {},
   "outputs": [
    {
     "name": "stdout",
     "output_type": "stream",
     "text": [
      "API request: services/assets/v2/stations\n",
      "\n",
      "Station name =  Accra Girls SHS\n",
      "Longitude =  -0.19\n",
      "Latitude =  5.60\n"
     ]
    }
   ],
   "source": [
    "# choose a station\n",
    "station = 'TA00567'\n",
    "\n",
    "# get the data\n",
    "station_data = api.getStations()[station]\n",
    "\n",
    "print()\n",
    "print( f\"Station name =  {station_data['location']['name']}\")\n",
    "print( f\"Longitude =  {station_data['location']['longitude']:.02f}\")\n",
    "print( f\"Latitude =  {station_data['location']['latitude']:.02f}\")"
   ]
  },
  {
   "cell_type": "markdown",
   "metadata": {},
   "source": [
    "### Retrieve data"
   ]
  },
  {
   "cell_type": "code",
   "execution_count": 9,
   "metadata": {},
   "outputs": [
    {
     "name": "stdout",
     "output_type": "stream",
     "text": [
      "API request: services/measurements/v2/stations/TA00567/measurements/controlled\n"
     ]
    },
    {
     "name": "stdout",
     "output_type": "stream",
     "text": [
      "Timeseries saved to file \"timeseries.csv\"\n"
     ]
    }
   ],
   "source": [
    "# Example 3: Retrieve a pandas dataframe containing the time serie of surface air observations and save to CSV file.\n",
    "\n",
    "startDate = '2023-01-01'\n",
    "endDate = '2023-11-22'\n",
    "variables = ['pr']\n",
    "\n",
    "df = api.getMeasurements(station, startDate=startDate, endDate=endDate, variables=variables)\n",
    "df.index.name = 'Timestamp'\n",
    "df.to_csv('data/timeseries.csv', na_rep='', date_format='%Y-%m-%d %H:%M')\n",
    "print('Timeseries saved to file \"timeseries.csv\"')\n"
   ]
  },
  {
   "cell_type": "code",
   "execution_count": 10,
   "metadata": {},
   "outputs": [
    {
     "data": {
      "text/html": [
       "<div>\n",
       "<style scoped>\n",
       "    .dataframe tbody tr th:only-of-type {\n",
       "        vertical-align: middle;\n",
       "    }\n",
       "\n",
       "    .dataframe tbody tr th {\n",
       "        vertical-align: top;\n",
       "    }\n",
       "\n",
       "    .dataframe thead th {\n",
       "        text-align: right;\n",
       "    }\n",
       "</style>\n",
       "<table border=\"1\" class=\"dataframe\">\n",
       "  <thead>\n",
       "    <tr style=\"text-align: right;\">\n",
       "      <th></th>\n",
       "      <th>pr</th>\n",
       "    </tr>\n",
       "    <tr>\n",
       "      <th>Timestamp</th>\n",
       "      <th></th>\n",
       "    </tr>\n",
       "  </thead>\n",
       "  <tbody>\n",
       "    <tr>\n",
       "      <th>2023-01-01 00:00:00+00:00</th>\n",
       "      <td>0.0</td>\n",
       "    </tr>\n",
       "    <tr>\n",
       "      <th>2023-01-01 00:05:00+00:00</th>\n",
       "      <td>0.0</td>\n",
       "    </tr>\n",
       "    <tr>\n",
       "      <th>2023-01-01 00:10:00+00:00</th>\n",
       "      <td>0.0</td>\n",
       "    </tr>\n",
       "    <tr>\n",
       "      <th>2023-01-01 00:15:00+00:00</th>\n",
       "      <td>0.0</td>\n",
       "    </tr>\n",
       "    <tr>\n",
       "      <th>2023-01-01 00:20:00+00:00</th>\n",
       "      <td>0.0</td>\n",
       "    </tr>\n",
       "    <tr>\n",
       "      <th>...</th>\n",
       "      <td>...</td>\n",
       "    </tr>\n",
       "    <tr>\n",
       "      <th>2023-11-21 23:40:00+00:00</th>\n",
       "      <td>0.0</td>\n",
       "    </tr>\n",
       "    <tr>\n",
       "      <th>2023-11-21 23:45:00+00:00</th>\n",
       "      <td>0.0</td>\n",
       "    </tr>\n",
       "    <tr>\n",
       "      <th>2023-11-21 23:50:00+00:00</th>\n",
       "      <td>0.0</td>\n",
       "    </tr>\n",
       "    <tr>\n",
       "      <th>2023-11-21 23:55:00+00:00</th>\n",
       "      <td>0.0</td>\n",
       "    </tr>\n",
       "    <tr>\n",
       "      <th>2023-11-22 00:00:00+00:00</th>\n",
       "      <td>0.0</td>\n",
       "    </tr>\n",
       "  </tbody>\n",
       "</table>\n",
       "<p>93601 rows × 1 columns</p>\n",
       "</div>"
      ],
      "text/plain": [
       "                            pr\n",
       "Timestamp                     \n",
       "2023-01-01 00:00:00+00:00  0.0\n",
       "2023-01-01 00:05:00+00:00  0.0\n",
       "2023-01-01 00:10:00+00:00  0.0\n",
       "2023-01-01 00:15:00+00:00  0.0\n",
       "2023-01-01 00:20:00+00:00  0.0\n",
       "...                        ...\n",
       "2023-11-21 23:40:00+00:00  0.0\n",
       "2023-11-21 23:45:00+00:00  0.0\n",
       "2023-11-21 23:50:00+00:00  0.0\n",
       "2023-11-21 23:55:00+00:00  0.0\n",
       "2023-11-22 00:00:00+00:00  0.0\n",
       "\n",
       "[93601 rows x 1 columns]"
      ]
     },
     "execution_count": 10,
     "metadata": {},
     "output_type": "execute_result"
    }
   ],
   "source": [
    "df"
   ]
  },
  {
   "cell_type": "code",
   "execution_count": 11,
   "metadata": {},
   "outputs": [
    {
     "data": {
      "text/html": [
       "<div>\n",
       "<style scoped>\n",
       "    .dataframe tbody tr th:only-of-type {\n",
       "        vertical-align: middle;\n",
       "    }\n",
       "\n",
       "    .dataframe tbody tr th {\n",
       "        vertical-align: top;\n",
       "    }\n",
       "\n",
       "    .dataframe thead th {\n",
       "        text-align: right;\n",
       "    }\n",
       "</style>\n",
       "<table border=\"1\" class=\"dataframe\">\n",
       "  <thead>\n",
       "    <tr style=\"text-align: right;\">\n",
       "      <th></th>\n",
       "      <th>date</th>\n",
       "      <th>precipitation</th>\n",
       "    </tr>\n",
       "  </thead>\n",
       "  <tbody>\n",
       "    <tr>\n",
       "      <th>0</th>\n",
       "      <td>2023-01-01</td>\n",
       "      <td>0.0</td>\n",
       "    </tr>\n",
       "    <tr>\n",
       "      <th>1</th>\n",
       "      <td>2023-01-02</td>\n",
       "      <td>0.0</td>\n",
       "    </tr>\n",
       "    <tr>\n",
       "      <th>2</th>\n",
       "      <td>2023-01-03</td>\n",
       "      <td>0.0</td>\n",
       "    </tr>\n",
       "    <tr>\n",
       "      <th>3</th>\n",
       "      <td>2023-01-04</td>\n",
       "      <td>0.0</td>\n",
       "    </tr>\n",
       "    <tr>\n",
       "      <th>4</th>\n",
       "      <td>2023-01-05</td>\n",
       "      <td>0.0</td>\n",
       "    </tr>\n",
       "    <tr>\n",
       "      <th>...</th>\n",
       "      <td>...</td>\n",
       "      <td>...</td>\n",
       "    </tr>\n",
       "    <tr>\n",
       "      <th>321</th>\n",
       "      <td>2023-11-18</td>\n",
       "      <td>0.0</td>\n",
       "    </tr>\n",
       "    <tr>\n",
       "      <th>322</th>\n",
       "      <td>2023-11-19</td>\n",
       "      <td>0.0</td>\n",
       "    </tr>\n",
       "    <tr>\n",
       "      <th>323</th>\n",
       "      <td>2023-11-20</td>\n",
       "      <td>0.0</td>\n",
       "    </tr>\n",
       "    <tr>\n",
       "      <th>324</th>\n",
       "      <td>2023-11-21</td>\n",
       "      <td>0.0</td>\n",
       "    </tr>\n",
       "    <tr>\n",
       "      <th>325</th>\n",
       "      <td>2023-11-22</td>\n",
       "      <td>0.0</td>\n",
       "    </tr>\n",
       "  </tbody>\n",
       "</table>\n",
       "<p>326 rows × 2 columns</p>\n",
       "</div>"
      ],
      "text/plain": [
       "          date  precipitation\n",
       "0   2023-01-01            0.0\n",
       "1   2023-01-02            0.0\n",
       "2   2023-01-03            0.0\n",
       "3   2023-01-04            0.0\n",
       "4   2023-01-05            0.0\n",
       "..         ...            ...\n",
       "321 2023-11-18            0.0\n",
       "322 2023-11-19            0.0\n",
       "323 2023-11-20            0.0\n",
       "324 2023-11-21            0.0\n",
       "325 2023-11-22            0.0\n",
       "\n",
       "[326 rows x 2 columns]"
      ]
     },
     "execution_count": 11,
     "metadata": {},
     "output_type": "execute_result"
    }
   ],
   "source": [
    "import pandas as pd\n",
    "\n",
    "def load_precip_data():\n",
    "    df = pd.read_csv(\"data/timeseries.csv\", parse_dates=True, index_col=0).reset_index().rename(columns={\"Timestamp\" : \"date\", \"pr\": \"precipitation\"})\n",
    "    df.loc[:,'date'] = df['date'].dt.date\n",
    "    df = df.groupby('date').max().reset_index().dropna()\n",
    "    return df\n",
    "\n",
    "df = load_precip_data()\n",
    "df"
   ]
  },
  {
   "cell_type": "markdown",
   "metadata": {},
   "source": [
    "#### Interactive chart in Vega-Altair\n",
    "\n",
    "\n",
    "[Vega-Altair](https://altair-viz.github.io/)  is a handy Python library that allows you to create statistical visualizations using declarative principles without complex programming code. It provides a straightforward way to quickly generate various types of charts.\n",
    "\n",
    "Altair is built on  [Vega-Lite](https://vega.github.io/vega-lite/), which is a Grammar of Interactive Graphics. Vega-Altair provides a user-friendly way to use this through Python, storing the graphical specifications in JSON (JavaScript Object Notation) format. You can directly view these specifications in any web browser, and coding is easy in JupyterLab, Jupyter Notebook, Microsoft VS-Code, and Google Colab."
   ]
  },
  {
   "cell_type": "code",
   "execution_count": 12,
   "metadata": {},
   "outputs": [
    {
     "data": {
      "text/html": [
       "\n",
       "<style>\n",
       "  #altair-viz-ecc81068f9644f348255c54c348ce55c.vega-embed {\n",
       "    width: 100%;\n",
       "    display: flex;\n",
       "  }\n",
       "\n",
       "  #altair-viz-ecc81068f9644f348255c54c348ce55c.vega-embed details,\n",
       "  #altair-viz-ecc81068f9644f348255c54c348ce55c.vega-embed details summary {\n",
       "    position: relative;\n",
       "  }\n",
       "</style>\n",
       "<div id=\"altair-viz-ecc81068f9644f348255c54c348ce55c\"></div>\n",
       "<script type=\"text/javascript\">\n",
       "  var VEGA_DEBUG = (typeof VEGA_DEBUG == \"undefined\") ? {} : VEGA_DEBUG;\n",
       "  (function(spec, embedOpt){\n",
       "    let outputDiv = document.currentScript.previousElementSibling;\n",
       "    if (outputDiv.id !== \"altair-viz-ecc81068f9644f348255c54c348ce55c\") {\n",
       "      outputDiv = document.getElementById(\"altair-viz-ecc81068f9644f348255c54c348ce55c\");\n",
       "    }\n",
       "    const paths = {\n",
       "      \"vega\": \"https://cdn.jsdelivr.net/npm/vega@5?noext\",\n",
       "      \"vega-lib\": \"https://cdn.jsdelivr.net/npm/vega-lib?noext\",\n",
       "      \"vega-lite\": \"https://cdn.jsdelivr.net/npm/vega-lite@5.15.1?noext\",\n",
       "      \"vega-embed\": \"https://cdn.jsdelivr.net/npm/vega-embed@6?noext\",\n",
       "    };\n",
       "\n",
       "    function maybeLoadScript(lib, version) {\n",
       "      var key = `${lib.replace(\"-\", \"\")}_version`;\n",
       "      return (VEGA_DEBUG[key] == version) ?\n",
       "        Promise.resolve(paths[lib]) :\n",
       "        new Promise(function(resolve, reject) {\n",
       "          var s = document.createElement('script');\n",
       "          document.getElementsByTagName(\"head\")[0].appendChild(s);\n",
       "          s.async = true;\n",
       "          s.onload = () => {\n",
       "            VEGA_DEBUG[key] = version;\n",
       "            return resolve(paths[lib]);\n",
       "          };\n",
       "          s.onerror = () => reject(`Error loading script: ${paths[lib]}`);\n",
       "          s.src = paths[lib];\n",
       "        });\n",
       "    }\n",
       "\n",
       "    function showError(err) {\n",
       "      outputDiv.innerHTML = `<div class=\"error\" style=\"color:red;\">${err}</div>`;\n",
       "      throw err;\n",
       "    }\n",
       "\n",
       "    function displayChart(vegaEmbed) {\n",
       "      vegaEmbed(outputDiv, spec, embedOpt)\n",
       "        .catch(err => showError(`Javascript Error: ${err.message}<br>This usually means there's a typo in your chart specification. See the javascript console for the full traceback.`));\n",
       "    }\n",
       "\n",
       "    if(typeof define === \"function\" && define.amd) {\n",
       "      requirejs.config({paths});\n",
       "      require([\"vega-embed\"], displayChart, err => showError(`Error loading script: ${err.message}`));\n",
       "    } else {\n",
       "      maybeLoadScript(\"vega\", \"5\")\n",
       "        .then(() => maybeLoadScript(\"vega-lite\", \"5.15.1\"))\n",
       "        .then(() => maybeLoadScript(\"vega-embed\", \"6\"))\n",
       "        .catch(showError)\n",
       "        .then(() => displayChart(vegaEmbed));\n",
       "    }\n",
       "  })({\"config\": {\"view\": {\"continuousWidth\": 300, \"continuousHeight\": 300}}, \"data\": {\"name\": \"data-6fa606d319b95fd74f260f7d5cd6bd3c\"}, \"mark\": {\"type\": \"bar\"}, \"encoding\": {\"tooltip\": [{\"field\": \"precipitation\", \"type\": \"quantitative\"}, {\"field\": \"date\", \"type\": \"temporal\"}], \"x\": {\"field\": \"date\", \"type\": \"temporal\"}, \"y\": {\"field\": \"precipitation\", \"type\": \"quantitative\"}}, \"height\": 200, \"params\": [{\"name\": \"param_1\", \"select\": {\"type\": \"interval\", \"encodings\": [\"x\", \"y\"]}, \"bind\": \"scales\"}], \"width\": 1200, \"$schema\": \"https://vega.github.io/schema/vega-lite/v5.15.1.json\", \"datasets\": {\"data-6fa606d319b95fd74f260f7d5cd6bd3c\": [{\"date\": \"2023-01-01T00:00:00\", \"precipitation\": 0.0}, {\"date\": \"2023-01-02T00:00:00\", \"precipitation\": 0.0}, {\"date\": \"2023-01-03T00:00:00\", \"precipitation\": 0.0}, {\"date\": \"2023-01-04T00:00:00\", \"precipitation\": 0.0}, {\"date\": \"2023-01-05T00:00:00\", \"precipitation\": 0.0}, {\"date\": \"2023-01-06T00:00:00\", \"precipitation\": 0.0}, {\"date\": \"2023-01-07T00:00:00\", \"precipitation\": 0.0}, {\"date\": \"2023-01-08T00:00:00\", \"precipitation\": 0.0}, {\"date\": \"2023-01-09T00:00:00\", \"precipitation\": 0.0}, {\"date\": \"2023-01-10T00:00:00\", \"precipitation\": 0.0}, {\"date\": \"2023-01-11T00:00:00\", \"precipitation\": 0.0}, {\"date\": \"2023-01-12T00:00:00\", \"precipitation\": 0.0}, {\"date\": \"2023-01-13T00:00:00\", \"precipitation\": 0.0}, {\"date\": \"2023-01-14T00:00:00\", \"precipitation\": 0.0}, {\"date\": \"2023-01-15T00:00:00\", \"precipitation\": 0.0}, {\"date\": \"2023-01-16T00:00:00\", \"precipitation\": 0.0}, {\"date\": \"2023-01-17T00:00:00\", \"precipitation\": 0.0}, {\"date\": \"2023-01-18T00:00:00\", \"precipitation\": 0.0}, {\"date\": \"2023-01-19T00:00:00\", \"precipitation\": 0.0}, {\"date\": \"2023-01-20T00:00:00\", \"precipitation\": 0.0}, {\"date\": \"2023-01-21T00:00:00\", \"precipitation\": 0.0}, {\"date\": \"2023-01-22T00:00:00\", \"precipitation\": 0.0}, {\"date\": \"2023-01-23T00:00:00\", \"precipitation\": 0.0}, {\"date\": \"2023-01-24T00:00:00\", \"precipitation\": 0.0}, {\"date\": \"2023-01-25T00:00:00\", \"precipitation\": 0.0}, {\"date\": \"2023-01-26T00:00:00\", \"precipitation\": 0.0}, {\"date\": \"2023-01-27T00:00:00\", \"precipitation\": 0.0}, {\"date\": \"2023-01-28T00:00:00\", \"precipitation\": 0.0}, {\"date\": \"2023-01-29T00:00:00\", \"precipitation\": 0.0}, {\"date\": \"2023-01-30T00:00:00\", \"precipitation\": 0.0}, {\"date\": \"2023-01-31T00:00:00\", \"precipitation\": 0.0}, {\"date\": \"2023-02-01T00:00:00\", \"precipitation\": 0.017}, {\"date\": \"2023-02-02T00:00:00\", \"precipitation\": 0.017}, {\"date\": \"2023-02-03T00:00:00\", \"precipitation\": 0.0}, {\"date\": \"2023-02-04T00:00:00\", \"precipitation\": 0.102}, {\"date\": \"2023-02-05T00:00:00\", \"precipitation\": 0.562}, {\"date\": \"2023-02-06T00:00:00\", \"precipitation\": 0.0}, {\"date\": \"2023-02-07T00:00:00\", \"precipitation\": 0.102}, {\"date\": \"2023-02-08T00:00:00\", \"precipitation\": 0.0}, {\"date\": \"2023-02-09T00:00:00\", \"precipitation\": 0.0}, {\"date\": \"2023-02-10T00:00:00\", \"precipitation\": 0.0}, {\"date\": \"2023-02-11T00:00:00\", \"precipitation\": 0.0}, {\"date\": \"2023-02-12T00:00:00\", \"precipitation\": 0.0}, {\"date\": \"2023-02-13T00:00:00\", \"precipitation\": 0.0}, {\"date\": \"2023-02-14T00:00:00\", \"precipitation\": 0.0}, {\"date\": \"2023-02-15T00:00:00\", \"precipitation\": 0.0}, {\"date\": \"2023-02-16T00:00:00\", \"precipitation\": 0.0}, {\"date\": \"2023-02-17T00:00:00\", \"precipitation\": 0.0}, {\"date\": \"2023-02-18T00:00:00\", \"precipitation\": 0.0}, {\"date\": \"2023-02-19T00:00:00\", \"precipitation\": 0.0}, {\"date\": \"2023-02-20T00:00:00\", \"precipitation\": 0.0}, {\"date\": \"2023-02-21T00:00:00\", \"precipitation\": 0.0}, {\"date\": \"2023-02-22T00:00:00\", \"precipitation\": 0.0}, {\"date\": \"2023-02-23T00:00:00\", \"precipitation\": 0.0}, {\"date\": \"2023-02-24T00:00:00\", \"precipitation\": 0.0}, {\"date\": \"2023-02-25T00:00:00\", \"precipitation\": 0.596}, {\"date\": \"2023-02-26T00:00:00\", \"precipitation\": 5.813}, {\"date\": \"2023-02-27T00:00:00\", \"precipitation\": 0.0}, {\"date\": \"2023-02-28T00:00:00\", \"precipitation\": 0.0}, {\"date\": \"2023-03-01T00:00:00\", \"precipitation\": 0.0}, {\"date\": \"2023-03-02T00:00:00\", \"precipitation\": 0.0}, {\"date\": \"2023-03-03T00:00:00\", \"precipitation\": 0.0}, {\"date\": \"2023-03-04T00:00:00\", \"precipitation\": 0.0}, {\"date\": \"2023-03-05T00:00:00\", \"precipitation\": 0.0}, {\"date\": \"2023-03-06T00:00:00\", \"precipitation\": 0.0}, {\"date\": \"2023-03-07T00:00:00\", \"precipitation\": 13.021}, {\"date\": \"2023-03-08T00:00:00\", \"precipitation\": 0.0}, {\"date\": \"2023-03-09T00:00:00\", \"precipitation\": 0.0}, {\"date\": \"2023-03-10T00:00:00\", \"precipitation\": 0.0}, {\"date\": \"2023-03-11T00:00:00\", \"precipitation\": 0.0}, {\"date\": \"2023-03-12T00:00:00\", \"precipitation\": 0.0}, {\"date\": \"2023-03-13T00:00:00\", \"precipitation\": 0.0}, {\"date\": \"2023-03-14T00:00:00\", \"precipitation\": 0.0}, {\"date\": \"2023-03-15T00:00:00\", \"precipitation\": 0.0}, {\"date\": \"2023-03-16T00:00:00\", \"precipitation\": 1.396}, {\"date\": \"2023-03-17T00:00:00\", \"precipitation\": 0.0}, {\"date\": \"2023-03-18T00:00:00\", \"precipitation\": 7.498}, {\"date\": \"2023-03-19T00:00:00\", \"precipitation\": 0.0}, {\"date\": \"2023-03-20T00:00:00\", \"precipitation\": 0.0}, {\"date\": \"2023-03-21T00:00:00\", \"precipitation\": 0.0}, {\"date\": \"2023-03-22T00:00:00\", \"precipitation\": 4.081}, {\"date\": \"2023-03-23T00:00:00\", \"precipitation\": 0.732}, {\"date\": \"2023-03-24T00:00:00\", \"precipitation\": 2.26}, {\"date\": \"2023-03-25T00:00:00\", \"precipitation\": 0.0}, {\"date\": \"2023-03-26T00:00:00\", \"precipitation\": 0.0}, {\"date\": \"2023-03-27T00:00:00\", \"precipitation\": 0.0}, {\"date\": \"2023-03-28T00:00:00\", \"precipitation\": 0.0}, {\"date\": \"2023-03-29T00:00:00\", \"precipitation\": 0.0}, {\"date\": \"2023-03-30T00:00:00\", \"precipitation\": 0.0}, {\"date\": \"2023-03-31T00:00:00\", \"precipitation\": 0.0}, {\"date\": \"2023-04-01T00:00:00\", \"precipitation\": 0.0}, {\"date\": \"2023-04-02T00:00:00\", \"precipitation\": 0.0}, {\"date\": \"2023-04-03T00:00:00\", \"precipitation\": 0.0}, {\"date\": \"2023-04-04T00:00:00\", \"precipitation\": 8.094}, {\"date\": \"2023-04-05T00:00:00\", \"precipitation\": 0.0}, {\"date\": \"2023-04-06T00:00:00\", \"precipitation\": 0.0}, {\"date\": \"2023-04-07T00:00:00\", \"precipitation\": 0.0}, {\"date\": \"2023-04-08T00:00:00\", \"precipitation\": 1.566}, {\"date\": \"2023-04-09T00:00:00\", \"precipitation\": 0.068}, {\"date\": \"2023-04-10T00:00:00\", \"precipitation\": 0.0}, {\"date\": \"2023-04-11T00:00:00\", \"precipitation\": 0.051}, {\"date\": \"2023-04-12T00:00:00\", \"precipitation\": 0.255}, {\"date\": \"2023-04-13T00:00:00\", \"precipitation\": 0.0}, {\"date\": \"2023-04-14T00:00:00\", \"precipitation\": 0.0}, {\"date\": \"2023-04-15T00:00:00\", \"precipitation\": 0.0}, {\"date\": \"2023-04-16T00:00:00\", \"precipitation\": 0.0}, {\"date\": \"2023-04-17T00:00:00\", \"precipitation\": 2.328}, {\"date\": \"2023-04-18T00:00:00\", \"precipitation\": 0.0}, {\"date\": \"2023-04-19T00:00:00\", \"precipitation\": 0.0}, {\"date\": \"2023-04-20T00:00:00\", \"precipitation\": 0.0}, {\"date\": \"2023-04-21T00:00:00\", \"precipitation\": 0.0}, {\"date\": \"2023-04-22T00:00:00\", \"precipitation\": 0.034}, {\"date\": \"2023-04-23T00:00:00\", \"precipitation\": 0.0}, {\"date\": \"2023-04-24T00:00:00\", \"precipitation\": 2.055}, {\"date\": \"2023-04-25T00:00:00\", \"precipitation\": 0.0}, {\"date\": \"2023-04-26T00:00:00\", \"precipitation\": 0.0}, {\"date\": \"2023-04-27T00:00:00\", \"precipitation\": 6.085}, {\"date\": \"2023-04-28T00:00:00\", \"precipitation\": 0.017}, {\"date\": \"2023-04-29T00:00:00\", \"precipitation\": 0.919}, {\"date\": \"2023-04-30T00:00:00\", \"precipitation\": 0.085}, {\"date\": \"2023-05-01T00:00:00\", \"precipitation\": 0.0}, {\"date\": \"2023-05-02T00:00:00\", \"precipitation\": 0.0}, {\"date\": \"2023-05-03T00:00:00\", \"precipitation\": 0.0}, {\"date\": \"2023-05-04T00:00:00\", \"precipitation\": 0.0}, {\"date\": \"2023-05-05T00:00:00\", \"precipitation\": 0.0}, {\"date\": \"2023-05-06T00:00:00\", \"precipitation\": 5.353}, {\"date\": \"2023-05-07T00:00:00\", \"precipitation\": 0.0}, {\"date\": \"2023-05-08T00:00:00\", \"precipitation\": 0.0}, {\"date\": \"2023-05-09T00:00:00\", \"precipitation\": 0.0}, {\"date\": \"2023-05-10T00:00:00\", \"precipitation\": 0.0}, {\"date\": \"2023-05-11T00:00:00\", \"precipitation\": 0.0}, {\"date\": \"2023-05-12T00:00:00\", \"precipitation\": 1.6}, {\"date\": \"2023-05-13T00:00:00\", \"precipitation\": 0.0}, {\"date\": \"2023-05-14T00:00:00\", \"precipitation\": 5.813}, {\"date\": \"2023-05-15T00:00:00\", \"precipitation\": 0.0}, {\"date\": \"2023-05-16T00:00:00\", \"precipitation\": 0.0}, {\"date\": \"2023-05-17T00:00:00\", \"precipitation\": 0.0}, {\"date\": \"2023-05-18T00:00:00\", \"precipitation\": 0.0}, {\"date\": \"2023-05-19T00:00:00\", \"precipitation\": 0.017}, {\"date\": \"2023-05-20T00:00:00\", \"precipitation\": 0.613}, {\"date\": \"2023-05-21T00:00:00\", \"precipitation\": 9.672}, {\"date\": \"2023-05-22T00:00:00\", \"precipitation\": 0.0}, {\"date\": \"2023-05-23T00:00:00\", \"precipitation\": 0.0}, {\"date\": \"2023-05-24T00:00:00\", \"precipitation\": 0.0}, {\"date\": \"2023-05-25T00:00:00\", \"precipitation\": 0.0}, {\"date\": \"2023-05-26T00:00:00\", \"precipitation\": 0.0}, {\"date\": \"2023-05-27T00:00:00\", \"precipitation\": 0.204}, {\"date\": \"2023-05-28T00:00:00\", \"precipitation\": 0.017}, {\"date\": \"2023-05-29T00:00:00\", \"precipitation\": 2.362}, {\"date\": \"2023-05-30T00:00:00\", \"precipitation\": 0.0}, {\"date\": \"2023-05-31T00:00:00\", \"precipitation\": 1.668}, {\"date\": \"2023-06-01T00:00:00\", \"precipitation\": 3.86}, {\"date\": \"2023-06-02T00:00:00\", \"precipitation\": 6.8}, {\"date\": \"2023-06-03T00:00:00\", \"precipitation\": 0.306}, {\"date\": \"2023-06-04T00:00:00\", \"precipitation\": 0.068}, {\"date\": \"2023-06-05T00:00:00\", \"precipitation\": 0.0}, {\"date\": \"2023-06-06T00:00:00\", \"precipitation\": 6.562}, {\"date\": \"2023-06-07T00:00:00\", \"precipitation\": 0.357}, {\"date\": \"2023-06-08T00:00:00\", \"precipitation\": 0.102}, {\"date\": \"2023-06-09T00:00:00\", \"precipitation\": 0.0}, {\"date\": \"2023-06-10T00:00:00\", \"precipitation\": 0.0}, {\"date\": \"2023-06-11T00:00:00\", \"precipitation\": 4.132}, {\"date\": \"2023-06-12T00:00:00\", \"precipitation\": 0.0}, {\"date\": \"2023-06-13T00:00:00\", \"precipitation\": 0.0}, {\"date\": \"2023-06-14T00:00:00\", \"precipitation\": 0.0}, {\"date\": \"2023-06-15T00:00:00\", \"precipitation\": 0.0}, {\"date\": \"2023-06-16T00:00:00\", \"precipitation\": 0.0}, {\"date\": \"2023-06-17T00:00:00\", \"precipitation\": 0.0}, {\"date\": \"2023-06-18T00:00:00\", \"precipitation\": 0.0}, {\"date\": \"2023-06-19T00:00:00\", \"precipitation\": 0.153}, {\"date\": \"2023-06-20T00:00:00\", \"precipitation\": 0.0}, {\"date\": \"2023-06-21T00:00:00\", \"precipitation\": 3.094}, {\"date\": \"2023-06-22T00:00:00\", \"precipitation\": 0.0}, {\"date\": \"2023-06-23T00:00:00\", \"precipitation\": 1.783}, {\"date\": \"2023-06-24T00:00:00\", \"precipitation\": 0.068}, {\"date\": \"2023-06-25T00:00:00\", \"precipitation\": 0.17}, {\"date\": \"2023-06-26T00:00:00\", \"precipitation\": 0.0}, {\"date\": \"2023-06-27T00:00:00\", \"precipitation\": 0.0}, {\"date\": \"2023-06-28T00:00:00\", \"precipitation\": 0.0}, {\"date\": \"2023-06-29T00:00:00\", \"precipitation\": 0.0}, {\"date\": \"2023-06-30T00:00:00\", \"precipitation\": 0.0}, {\"date\": \"2023-07-01T00:00:00\", \"precipitation\": 0.0}, {\"date\": \"2023-07-02T00:00:00\", \"precipitation\": 0.0}, {\"date\": \"2023-07-03T00:00:00\", \"precipitation\": 0.0}, {\"date\": \"2023-07-04T00:00:00\", \"precipitation\": 0.0}, {\"date\": \"2023-07-05T00:00:00\", \"precipitation\": 0.0}, {\"date\": \"2023-07-06T00:00:00\", \"precipitation\": 0.272}, {\"date\": \"2023-07-07T00:00:00\", \"precipitation\": 5.336}, {\"date\": \"2023-07-08T00:00:00\", \"precipitation\": 2.123}, {\"date\": \"2023-07-09T00:00:00\", \"precipitation\": 4.064}, {\"date\": \"2023-07-10T00:00:00\", \"precipitation\": 0.017}, {\"date\": \"2023-07-11T00:00:00\", \"precipitation\": 0.0}, {\"date\": \"2023-07-12T00:00:00\", \"precipitation\": 4.268}, {\"date\": \"2023-07-13T00:00:00\", \"precipitation\": 0.017}, {\"date\": \"2023-07-14T00:00:00\", \"precipitation\": 0.051}, {\"date\": \"2023-07-15T00:00:00\", \"precipitation\": 0.0}, {\"date\": \"2023-07-16T00:00:00\", \"precipitation\": 0.0}, {\"date\": \"2023-07-17T00:00:00\", \"precipitation\": 0.0}, {\"date\": \"2023-07-18T00:00:00\", \"precipitation\": 0.0}, {\"date\": \"2023-07-19T00:00:00\", \"precipitation\": 0.034}, {\"date\": \"2023-07-20T00:00:00\", \"precipitation\": 0.034}, {\"date\": \"2023-07-21T00:00:00\", \"precipitation\": 1.311}, {\"date\": \"2023-07-22T00:00:00\", \"precipitation\": 2.055}, {\"date\": \"2023-07-23T00:00:00\", \"precipitation\": 0.017}, {\"date\": \"2023-07-24T00:00:00\", \"precipitation\": 0.0}, {\"date\": \"2023-07-25T00:00:00\", \"precipitation\": 0.409}, {\"date\": \"2023-07-26T00:00:00\", \"precipitation\": 0.102}, {\"date\": \"2023-07-27T00:00:00\", \"precipitation\": 0.562}, {\"date\": \"2023-07-28T00:00:00\", \"precipitation\": 0.119}, {\"date\": \"2023-07-29T00:00:00\", \"precipitation\": 0.0}, {\"date\": \"2023-07-30T00:00:00\", \"precipitation\": 0.0}, {\"date\": \"2023-07-31T00:00:00\", \"precipitation\": 0.817}, {\"date\": \"2023-08-01T00:00:00\", \"precipitation\": 0.834}, {\"date\": \"2023-08-02T00:00:00\", \"precipitation\": 0.681}, {\"date\": \"2023-08-03T00:00:00\", \"precipitation\": 0.068}, {\"date\": \"2023-08-04T00:00:00\", \"precipitation\": 0.0}, {\"date\": \"2023-08-05T00:00:00\", \"precipitation\": 0.0}, {\"date\": \"2023-08-06T00:00:00\", \"precipitation\": 0.085}, {\"date\": \"2023-08-07T00:00:00\", \"precipitation\": 0.136}, {\"date\": \"2023-08-08T00:00:00\", \"precipitation\": 0.0}, {\"date\": \"2023-08-09T00:00:00\", \"precipitation\": 0.374}, {\"date\": \"2023-08-10T00:00:00\", \"precipitation\": 0.221}, {\"date\": \"2023-08-11T00:00:00\", \"precipitation\": 0.0}, {\"date\": \"2023-08-12T00:00:00\", \"precipitation\": 0.0}, {\"date\": \"2023-08-13T00:00:00\", \"precipitation\": 1.106}, {\"date\": \"2023-08-14T00:00:00\", \"precipitation\": 0.0}, {\"date\": \"2023-08-15T00:00:00\", \"precipitation\": 0.0}, {\"date\": \"2023-08-16T00:00:00\", \"precipitation\": 0.0}, {\"date\": \"2023-08-17T00:00:00\", \"precipitation\": 0.238}, {\"date\": \"2023-08-18T00:00:00\", \"precipitation\": 0.477}, {\"date\": \"2023-08-19T00:00:00\", \"precipitation\": 0.0}, {\"date\": \"2023-08-20T00:00:00\", \"precipitation\": 0.017}, {\"date\": \"2023-08-21T00:00:00\", \"precipitation\": 0.204}, {\"date\": \"2023-08-22T00:00:00\", \"precipitation\": 0.0}, {\"date\": \"2023-08-23T00:00:00\", \"precipitation\": 0.017}, {\"date\": \"2023-08-24T00:00:00\", \"precipitation\": 0.017}, {\"date\": \"2023-08-25T00:00:00\", \"precipitation\": 0.0}, {\"date\": \"2023-08-26T00:00:00\", \"precipitation\": 0.068}, {\"date\": \"2023-08-27T00:00:00\", \"precipitation\": 0.0}, {\"date\": \"2023-08-28T00:00:00\", \"precipitation\": 0.0}, {\"date\": \"2023-08-29T00:00:00\", \"precipitation\": 0.136}, {\"date\": \"2023-08-30T00:00:00\", \"precipitation\": 0.0}, {\"date\": \"2023-08-31T00:00:00\", \"precipitation\": 0.204}, {\"date\": \"2023-09-01T00:00:00\", \"precipitation\": 0.102}, {\"date\": \"2023-09-02T00:00:00\", \"precipitation\": 6.46}, {\"date\": \"2023-09-03T00:00:00\", \"precipitation\": 1.021}, {\"date\": \"2023-09-04T00:00:00\", \"precipitation\": 0.017}, {\"date\": \"2023-09-05T00:00:00\", \"precipitation\": 0.221}, {\"date\": \"2023-09-06T00:00:00\", \"precipitation\": 0.323}, {\"date\": \"2023-09-07T00:00:00\", \"precipitation\": 0.0}, {\"date\": \"2023-09-08T00:00:00\", \"precipitation\": 0.0}, {\"date\": \"2023-09-09T00:00:00\", \"precipitation\": 1.311}, {\"date\": \"2023-09-10T00:00:00\", \"precipitation\": 0.0}, {\"date\": \"2023-09-11T00:00:00\", \"precipitation\": 0.0}, {\"date\": \"2023-09-12T00:00:00\", \"precipitation\": 0.0}, {\"date\": \"2023-09-13T00:00:00\", \"precipitation\": 0.834}, {\"date\": \"2023-09-14T00:00:00\", \"precipitation\": 0.068}, {\"date\": \"2023-09-15T00:00:00\", \"precipitation\": 0.0}, {\"date\": \"2023-09-16T00:00:00\", \"precipitation\": 0.187}, {\"date\": \"2023-09-17T00:00:00\", \"precipitation\": 0.0}, {\"date\": \"2023-09-18T00:00:00\", \"precipitation\": 0.068}, {\"date\": \"2023-09-19T00:00:00\", \"precipitation\": 0.0}, {\"date\": \"2023-09-20T00:00:00\", \"precipitation\": 0.0}, {\"date\": \"2023-09-21T00:00:00\", \"precipitation\": 0.0}, {\"date\": \"2023-09-22T00:00:00\", \"precipitation\": 8.515}, {\"date\": \"2023-09-23T00:00:00\", \"precipitation\": 0.204}, {\"date\": \"2023-09-24T00:00:00\", \"precipitation\": 0.017}, {\"date\": \"2023-09-25T00:00:00\", \"precipitation\": 1.243}, {\"date\": \"2023-09-26T00:00:00\", \"precipitation\": 0.0}, {\"date\": \"2023-09-27T00:00:00\", \"precipitation\": 0.0}, {\"date\": \"2023-09-28T00:00:00\", \"precipitation\": 0.0}, {\"date\": \"2023-09-29T00:00:00\", \"precipitation\": 0.204}, {\"date\": \"2023-09-30T00:00:00\", \"precipitation\": 0.017}, {\"date\": \"2023-10-01T00:00:00\", \"precipitation\": 5.085}, {\"date\": \"2023-10-02T00:00:00\", \"precipitation\": 0.391}, {\"date\": \"2023-10-03T00:00:00\", \"precipitation\": 0.562}, {\"date\": \"2023-10-04T00:00:00\", \"precipitation\": 0.017}, {\"date\": \"2023-10-05T00:00:00\", \"precipitation\": 0.0}, {\"date\": \"2023-10-06T00:00:00\", \"precipitation\": 0.0}, {\"date\": \"2023-10-07T00:00:00\", \"precipitation\": 0.0}, {\"date\": \"2023-10-08T00:00:00\", \"precipitation\": 0.221}, {\"date\": \"2023-10-09T00:00:00\", \"precipitation\": 0.017}, {\"date\": \"2023-10-10T00:00:00\", \"precipitation\": 0.0}, {\"date\": \"2023-10-11T00:00:00\", \"precipitation\": 0.0}, {\"date\": \"2023-10-12T00:00:00\", \"precipitation\": 0.0}, {\"date\": \"2023-10-13T00:00:00\", \"precipitation\": 5.506}, {\"date\": \"2023-10-14T00:00:00\", \"precipitation\": 0.0}, {\"date\": \"2023-10-15T00:00:00\", \"precipitation\": 2.174}, {\"date\": \"2023-10-16T00:00:00\", \"precipitation\": 0.306}, {\"date\": \"2023-10-17T00:00:00\", \"precipitation\": 6.749}, {\"date\": \"2023-10-18T00:00:00\", \"precipitation\": 0.017}, {\"date\": \"2023-10-19T00:00:00\", \"precipitation\": 0.0}, {\"date\": \"2023-10-20T00:00:00\", \"precipitation\": 0.0}, {\"date\": \"2023-10-21T00:00:00\", \"precipitation\": 0.0}, {\"date\": \"2023-10-22T00:00:00\", \"precipitation\": 0.0}, {\"date\": \"2023-10-23T00:00:00\", \"precipitation\": 1.294}, {\"date\": \"2023-10-24T00:00:00\", \"precipitation\": 10.864}, {\"date\": \"2023-10-25T00:00:00\", \"precipitation\": 0.0}, {\"date\": \"2023-10-26T00:00:00\", \"precipitation\": 0.0}, {\"date\": \"2023-10-27T00:00:00\", \"precipitation\": 0.0}, {\"date\": \"2023-10-28T00:00:00\", \"precipitation\": 0.0}, {\"date\": \"2023-10-29T00:00:00\", \"precipitation\": 0.0}, {\"date\": \"2023-10-30T00:00:00\", \"precipitation\": 0.0}, {\"date\": \"2023-10-31T00:00:00\", \"precipitation\": 3.128}, {\"date\": \"2023-11-01T00:00:00\", \"precipitation\": 0.0}, {\"date\": \"2023-11-02T00:00:00\", \"precipitation\": 0.0}, {\"date\": \"2023-11-03T00:00:00\", \"precipitation\": 0.0}, {\"date\": \"2023-11-04T00:00:00\", \"precipitation\": 0.0}, {\"date\": \"2023-11-05T00:00:00\", \"precipitation\": 0.0}, {\"date\": \"2023-11-06T00:00:00\", \"precipitation\": 2.021}, {\"date\": \"2023-11-07T00:00:00\", \"precipitation\": 3.57}, {\"date\": \"2023-11-08T00:00:00\", \"precipitation\": 0.102}, {\"date\": \"2023-11-09T00:00:00\", \"precipitation\": 0.017}, {\"date\": \"2023-11-10T00:00:00\", \"precipitation\": 0.0}, {\"date\": \"2023-11-11T00:00:00\", \"precipitation\": 0.0}, {\"date\": \"2023-11-12T00:00:00\", \"precipitation\": 0.0}, {\"date\": \"2023-11-13T00:00:00\", \"precipitation\": 0.0}, {\"date\": \"2023-11-14T00:00:00\", \"precipitation\": 0.0}, {\"date\": \"2023-11-15T00:00:00\", \"precipitation\": 0.0}, {\"date\": \"2023-11-16T00:00:00\", \"precipitation\": 0.17}, {\"date\": \"2023-11-17T00:00:00\", \"precipitation\": 0.0}, {\"date\": \"2023-11-18T00:00:00\", \"precipitation\": 0.0}, {\"date\": \"2023-11-19T00:00:00\", \"precipitation\": 0.0}, {\"date\": \"2023-11-20T00:00:00\", \"precipitation\": 0.0}, {\"date\": \"2023-11-21T00:00:00\", \"precipitation\": 0.0}, {\"date\": \"2023-11-22T00:00:00\", \"precipitation\": 0.0}]}}, {\"mode\": \"vega-lite\"});\n",
       "</script>"
      ],
      "text/plain": [
       "alt.Chart(...)"
      ]
     },
     "execution_count": 12,
     "metadata": {},
     "output_type": "execute_result"
    }
   ],
   "source": [
    "import altair as alt\n",
    "\n",
    "chart =  alt.Chart(df).mark_bar().encode(x=\"date\", y=\"precipitation\", tooltip=['precipitation', 'date']).properties(width=1200, height=200).interactive()\n",
    "chart"
   ]
  },
  {
   "cell_type": "markdown",
   "metadata": {},
   "source": [
    "### Section 2: Open-meteo data\n",
    "\n",
    "[Open-Meteo](https://github.com/open-meteo/open-meteo) is an open-source weather API and offers free access for non-commercial use. It includes hourly forecasts up to 16 days, but also historic weather. See the website below for more details:\n"
   ]
  },
  {
   "cell_type": "code",
   "execution_count": 2,
   "metadata": {},
   "outputs": [
    {
     "data": {
      "text/html": [
       "\n",
       "        <iframe\n",
       "            width=\"75%\"\n",
       "            height=\"400\"\n",
       "            src=\"https://open-meteo.com/\"\n",
       "            frameborder=\"0\"\n",
       "            allowfullscreen\n",
       "            \n",
       "        ></iframe>\n",
       "        "
      ],
      "text/plain": [
       "<IPython.lib.display.IFrame at 0x7f240c42c8b0>"
      ]
     },
     "execution_count": 2,
     "metadata": {},
     "output_type": "execute_result"
    }
   ],
   "source": [
    "from IPython.display import IFrame\n",
    "IFrame(\"https://open-meteo.com/\", \"75%\", 400)"
   ]
  },
  {
   "cell_type": "code",
   "execution_count": 14,
   "metadata": {},
   "outputs": [],
   "source": [
    "import requests\n",
    "\n",
    "\n",
    "def get_ecmwf_precipitation(api_key, lon, lat):\n",
    "    base_url = \"https://api.open-meteo.com/v1/forecast\"\n",
    "    \n",
    "    # Specify the parameters for the ECMWF precipitation forecast\n",
    "    params = {\n",
    "        \"longitude\" : lon,\n",
    "        \"latitude\" : lat,\n",
    "        \"daily\" : \"precipitation_sum\",\n",
    "        # \"start_date\" : startDate,\n",
    "        # \"end_date\" : endDate,\n",
    "        \"past_days\" : 90,\n",
    "        \"timezone\" : \"auto\",\n",
    "        \"hourly\" : \"precipitation\",\n",
    "        \"start\" : \"current\",\n",
    "        \"forecast_days\" : 10,\n",
    "        \"models\" : \"ecmwf_ifs04\", \n",
    "        \"apikey\" : api_key,\n",
    "    }\n",
    "\n",
    "    try:\n",
    "        # Make a request to the Open-Meteo API\n",
    "        response = requests.get(base_url, params=params)\n",
    "        data = response.json()\n",
    "        return data\n",
    "    except requests.RequestException as e:\n",
    "        print(f\"Error: {e}\")\n",
    "\n",
    "data = get_ecmwf_precipitation('', lon=station_data['location']['longitude'], lat=station_data['location']['latitude'])"
   ]
  },
  {
   "cell_type": "code",
   "execution_count": 15,
   "metadata": {},
   "outputs": [
    {
     "data": {
      "text/html": [
       "<div>\n",
       "<style scoped>\n",
       "    .dataframe tbody tr th:only-of-type {\n",
       "        vertical-align: middle;\n",
       "    }\n",
       "\n",
       "    .dataframe tbody tr th {\n",
       "        vertical-align: top;\n",
       "    }\n",
       "\n",
       "    .dataframe thead th {\n",
       "        text-align: right;\n",
       "    }\n",
       "</style>\n",
       "<table border=\"1\" class=\"dataframe\">\n",
       "  <thead>\n",
       "    <tr style=\"text-align: right;\">\n",
       "      <th></th>\n",
       "      <th>date</th>\n",
       "      <th>precipitation</th>\n",
       "    </tr>\n",
       "  </thead>\n",
       "  <tbody>\n",
       "    <tr>\n",
       "      <th>0</th>\n",
       "      <td>2023-08-27</td>\n",
       "      <td>0.1</td>\n",
       "    </tr>\n",
       "    <tr>\n",
       "      <th>1</th>\n",
       "      <td>2023-08-28</td>\n",
       "      <td>1.0</td>\n",
       "    </tr>\n",
       "    <tr>\n",
       "      <th>2</th>\n",
       "      <td>2023-08-29</td>\n",
       "      <td>0.4</td>\n",
       "    </tr>\n",
       "    <tr>\n",
       "      <th>3</th>\n",
       "      <td>2023-08-30</td>\n",
       "      <td>3.5</td>\n",
       "    </tr>\n",
       "    <tr>\n",
       "      <th>4</th>\n",
       "      <td>2023-08-31</td>\n",
       "      <td>0.5</td>\n",
       "    </tr>\n",
       "    <tr>\n",
       "      <th>...</th>\n",
       "      <td>...</td>\n",
       "      <td>...</td>\n",
       "    </tr>\n",
       "    <tr>\n",
       "      <th>95</th>\n",
       "      <td>2023-11-30</td>\n",
       "      <td>0.1</td>\n",
       "    </tr>\n",
       "    <tr>\n",
       "      <th>96</th>\n",
       "      <td>2023-12-01</td>\n",
       "      <td>0.3</td>\n",
       "    </tr>\n",
       "    <tr>\n",
       "      <th>97</th>\n",
       "      <td>2023-12-02</td>\n",
       "      <td>0.1</td>\n",
       "    </tr>\n",
       "    <tr>\n",
       "      <th>98</th>\n",
       "      <td>2023-12-03</td>\n",
       "      <td>0.4</td>\n",
       "    </tr>\n",
       "    <tr>\n",
       "      <th>99</th>\n",
       "      <td>2023-12-04</td>\n",
       "      <td>0.2</td>\n",
       "    </tr>\n",
       "  </tbody>\n",
       "</table>\n",
       "<p>100 rows × 2 columns</p>\n",
       "</div>"
      ],
      "text/plain": [
       "         date  precipitation\n",
       "0  2023-08-27            0.1\n",
       "1  2023-08-28            1.0\n",
       "2  2023-08-29            0.4\n",
       "3  2023-08-30            3.5\n",
       "4  2023-08-31            0.5\n",
       "..        ...            ...\n",
       "95 2023-11-30            0.1\n",
       "96 2023-12-01            0.3\n",
       "97 2023-12-02            0.1\n",
       "98 2023-12-03            0.4\n",
       "99 2023-12-04            0.2\n",
       "\n",
       "[100 rows x 2 columns]"
      ]
     },
     "execution_count": 15,
     "metadata": {},
     "output_type": "execute_result"
    }
   ],
   "source": [
    "df = pd.DataFrame.from_dict(data['hourly'])\n",
    "\n",
    "df['time'] = pd.to_datetime(df['time'])\n",
    "df.loc[:,'date'] = df['time'].dt.date\n",
    "df['date'] = pd.to_datetime(df['date'])\n",
    "df = df[['date', 'precipitation']].dropna()\n",
    "df = df.groupby('date').max().reset_index()# .set_index('date')\n",
    "\n",
    "df"
   ]
  },
  {
   "cell_type": "code",
   "execution_count": 16,
   "metadata": {},
   "outputs": [
    {
     "data": {
      "text/html": [
       "\n",
       "<style>\n",
       "  #altair-viz-9c573bcacc864f6dbc72cb9d19cee163.vega-embed {\n",
       "    width: 100%;\n",
       "    display: flex;\n",
       "  }\n",
       "\n",
       "  #altair-viz-9c573bcacc864f6dbc72cb9d19cee163.vega-embed details,\n",
       "  #altair-viz-9c573bcacc864f6dbc72cb9d19cee163.vega-embed details summary {\n",
       "    position: relative;\n",
       "  }\n",
       "</style>\n",
       "<div id=\"altair-viz-9c573bcacc864f6dbc72cb9d19cee163\"></div>\n",
       "<script type=\"text/javascript\">\n",
       "  var VEGA_DEBUG = (typeof VEGA_DEBUG == \"undefined\") ? {} : VEGA_DEBUG;\n",
       "  (function(spec, embedOpt){\n",
       "    let outputDiv = document.currentScript.previousElementSibling;\n",
       "    if (outputDiv.id !== \"altair-viz-9c573bcacc864f6dbc72cb9d19cee163\") {\n",
       "      outputDiv = document.getElementById(\"altair-viz-9c573bcacc864f6dbc72cb9d19cee163\");\n",
       "    }\n",
       "    const paths = {\n",
       "      \"vega\": \"https://cdn.jsdelivr.net/npm/vega@5?noext\",\n",
       "      \"vega-lib\": \"https://cdn.jsdelivr.net/npm/vega-lib?noext\",\n",
       "      \"vega-lite\": \"https://cdn.jsdelivr.net/npm/vega-lite@5.15.1?noext\",\n",
       "      \"vega-embed\": \"https://cdn.jsdelivr.net/npm/vega-embed@6?noext\",\n",
       "    };\n",
       "\n",
       "    function maybeLoadScript(lib, version) {\n",
       "      var key = `${lib.replace(\"-\", \"\")}_version`;\n",
       "      return (VEGA_DEBUG[key] == version) ?\n",
       "        Promise.resolve(paths[lib]) :\n",
       "        new Promise(function(resolve, reject) {\n",
       "          var s = document.createElement('script');\n",
       "          document.getElementsByTagName(\"head\")[0].appendChild(s);\n",
       "          s.async = true;\n",
       "          s.onload = () => {\n",
       "            VEGA_DEBUG[key] = version;\n",
       "            return resolve(paths[lib]);\n",
       "          };\n",
       "          s.onerror = () => reject(`Error loading script: ${paths[lib]}`);\n",
       "          s.src = paths[lib];\n",
       "        });\n",
       "    }\n",
       "\n",
       "    function showError(err) {\n",
       "      outputDiv.innerHTML = `<div class=\"error\" style=\"color:red;\">${err}</div>`;\n",
       "      throw err;\n",
       "    }\n",
       "\n",
       "    function displayChart(vegaEmbed) {\n",
       "      vegaEmbed(outputDiv, spec, embedOpt)\n",
       "        .catch(err => showError(`Javascript Error: ${err.message}<br>This usually means there's a typo in your chart specification. See the javascript console for the full traceback.`));\n",
       "    }\n",
       "\n",
       "    if(typeof define === \"function\" && define.amd) {\n",
       "      requirejs.config({paths});\n",
       "      require([\"vega-embed\"], displayChart, err => showError(`Error loading script: ${err.message}`));\n",
       "    } else {\n",
       "      maybeLoadScript(\"vega\", \"5\")\n",
       "        .then(() => maybeLoadScript(\"vega-lite\", \"5.15.1\"))\n",
       "        .then(() => maybeLoadScript(\"vega-embed\", \"6\"))\n",
       "        .catch(showError)\n",
       "        .then(() => displayChart(vegaEmbed));\n",
       "    }\n",
       "  })({\"config\": {\"view\": {\"continuousWidth\": 300, \"continuousHeight\": 300}, \"mark\": {\"color\": \"orange\"}}, \"data\": {\"name\": \"data-24f8b53084533c0d7e6cd1f5b654b7a4\"}, \"mark\": {\"type\": \"bar\"}, \"encoding\": {\"tooltip\": [{\"field\": \"precipitation\", \"type\": \"quantitative\"}, {\"field\": \"date\", \"type\": \"temporal\"}], \"x\": {\"field\": \"date\", \"type\": \"temporal\"}, \"y\": {\"field\": \"precipitation\", \"type\": \"quantitative\"}}, \"height\": 300, \"params\": [{\"name\": \"param_2\", \"select\": {\"type\": \"interval\", \"encodings\": [\"x\", \"y\"]}, \"bind\": \"scales\"}], \"width\": 1200, \"$schema\": \"https://vega.github.io/schema/vega-lite/v5.15.1.json\", \"datasets\": {\"data-24f8b53084533c0d7e6cd1f5b654b7a4\": [{\"date\": \"2023-08-27T00:00:00\", \"precipitation\": 0.1}, {\"date\": \"2023-08-28T00:00:00\", \"precipitation\": 1.0}, {\"date\": \"2023-08-29T00:00:00\", \"precipitation\": 0.4}, {\"date\": \"2023-08-30T00:00:00\", \"precipitation\": 3.5}, {\"date\": \"2023-08-31T00:00:00\", \"precipitation\": 0.5}, {\"date\": \"2023-09-01T00:00:00\", \"precipitation\": 0.5}, {\"date\": \"2023-09-02T00:00:00\", \"precipitation\": 0.9}, {\"date\": \"2023-09-03T00:00:00\", \"precipitation\": 1.1}, {\"date\": \"2023-09-04T00:00:00\", \"precipitation\": 0.5}, {\"date\": \"2023-09-05T00:00:00\", \"precipitation\": 0.4}, {\"date\": \"2023-09-06T00:00:00\", \"precipitation\": 0.4}, {\"date\": \"2023-09-07T00:00:00\", \"precipitation\": 0.4}, {\"date\": \"2023-09-08T00:00:00\", \"precipitation\": 0.3}, {\"date\": \"2023-09-09T00:00:00\", \"precipitation\": 1.8}, {\"date\": \"2023-09-10T00:00:00\", \"precipitation\": 0.4}, {\"date\": \"2023-09-11T00:00:00\", \"precipitation\": 0.5}, {\"date\": \"2023-09-12T00:00:00\", \"precipitation\": 3.2}, {\"date\": \"2023-09-13T00:00:00\", \"precipitation\": 1.4}, {\"date\": \"2023-09-14T00:00:00\", \"precipitation\": 0.3}, {\"date\": \"2023-09-15T00:00:00\", \"precipitation\": 1.3}, {\"date\": \"2023-09-16T00:00:00\", \"precipitation\": 0.9}, {\"date\": \"2023-09-17T00:00:00\", \"precipitation\": 1.1}, {\"date\": \"2023-09-18T00:00:00\", \"precipitation\": 0.2}, {\"date\": \"2023-09-19T00:00:00\", \"precipitation\": 0.2}, {\"date\": \"2023-09-20T00:00:00\", \"precipitation\": 0.5}, {\"date\": \"2023-09-21T00:00:00\", \"precipitation\": 0.1}, {\"date\": \"2023-09-22T00:00:00\", \"precipitation\": 4.5}, {\"date\": \"2023-09-23T00:00:00\", \"precipitation\": 4.8}, {\"date\": \"2023-09-24T00:00:00\", \"precipitation\": 0.6}, {\"date\": \"2023-09-25T00:00:00\", \"precipitation\": 0.1}, {\"date\": \"2023-09-26T00:00:00\", \"precipitation\": 0.2}, {\"date\": \"2023-09-27T00:00:00\", \"precipitation\": 0.3}, {\"date\": \"2023-09-28T00:00:00\", \"precipitation\": 0.5}, {\"date\": \"2023-09-29T00:00:00\", \"precipitation\": 1.1}, {\"date\": \"2023-09-30T00:00:00\", \"precipitation\": 0.5}, {\"date\": \"2023-10-01T00:00:00\", \"precipitation\": 1.0}, {\"date\": \"2023-10-02T00:00:00\", \"precipitation\": 0.5}, {\"date\": \"2023-10-03T00:00:00\", \"precipitation\": 0.3}, {\"date\": \"2023-10-04T00:00:00\", \"precipitation\": 0.5}, {\"date\": \"2023-10-05T00:00:00\", \"precipitation\": 1.7}, {\"date\": \"2023-10-06T00:00:00\", \"precipitation\": 0.6}, {\"date\": \"2023-10-07T00:00:00\", \"precipitation\": 1.2}, {\"date\": \"2023-10-08T00:00:00\", \"precipitation\": 1.3}, {\"date\": \"2023-10-09T00:00:00\", \"precipitation\": 4.6}, {\"date\": \"2023-10-10T00:00:00\", \"precipitation\": 0.8}, {\"date\": \"2023-10-11T00:00:00\", \"precipitation\": 0.4}, {\"date\": \"2023-10-12T00:00:00\", \"precipitation\": 2.6}, {\"date\": \"2023-10-13T00:00:00\", \"precipitation\": 0.2}, {\"date\": \"2023-10-14T00:00:00\", \"precipitation\": 0.8}, {\"date\": \"2023-10-15T00:00:00\", \"precipitation\": 0.2}, {\"date\": \"2023-10-16T00:00:00\", \"precipitation\": 1.4}, {\"date\": \"2023-10-17T00:00:00\", \"precipitation\": 2.0}, {\"date\": \"2023-10-18T00:00:00\", \"precipitation\": 0.0}, {\"date\": \"2023-10-19T00:00:00\", \"precipitation\": 0.0}, {\"date\": \"2023-10-20T00:00:00\", \"precipitation\": 0.2}, {\"date\": \"2023-10-21T00:00:00\", \"precipitation\": 0.8}, {\"date\": \"2023-10-22T00:00:00\", \"precipitation\": 1.1}, {\"date\": \"2023-10-23T00:00:00\", \"precipitation\": 1.1}, {\"date\": \"2023-10-24T00:00:00\", \"precipitation\": 2.6}, {\"date\": \"2023-10-25T00:00:00\", \"precipitation\": 0.1}, {\"date\": \"2023-10-26T00:00:00\", \"precipitation\": 0.4}, {\"date\": \"2023-10-27T00:00:00\", \"precipitation\": 0.2}, {\"date\": \"2023-10-28T00:00:00\", \"precipitation\": 0.0}, {\"date\": \"2023-10-29T00:00:00\", \"precipitation\": 0.2}, {\"date\": \"2023-10-30T00:00:00\", \"precipitation\": 0.7}, {\"date\": \"2023-10-31T00:00:00\", \"precipitation\": 0.3}, {\"date\": \"2023-11-01T00:00:00\", \"precipitation\": 0.0}, {\"date\": \"2023-11-02T00:00:00\", \"precipitation\": 0.6}, {\"date\": \"2023-11-03T00:00:00\", \"precipitation\": 0.1}, {\"date\": \"2023-11-04T00:00:00\", \"precipitation\": 0.3}, {\"date\": \"2023-11-05T00:00:00\", \"precipitation\": 0.7}, {\"date\": \"2023-11-06T00:00:00\", \"precipitation\": 1.2}, {\"date\": \"2023-11-07T00:00:00\", \"precipitation\": 0.4}, {\"date\": \"2023-11-08T00:00:00\", \"precipitation\": 1.3}, {\"date\": \"2023-11-09T00:00:00\", \"precipitation\": 0.6}, {\"date\": \"2023-11-10T00:00:00\", \"precipitation\": 0.3}, {\"date\": \"2023-11-11T00:00:00\", \"precipitation\": 0.6}, {\"date\": \"2023-11-12T00:00:00\", \"precipitation\": 0.3}, {\"date\": \"2023-11-13T00:00:00\", \"precipitation\": 0.4}, {\"date\": \"2023-11-14T00:00:00\", \"precipitation\": 0.2}, {\"date\": \"2023-11-15T00:00:00\", \"precipitation\": 0.6}, {\"date\": \"2023-11-16T00:00:00\", \"precipitation\": 0.0}, {\"date\": \"2023-11-17T00:00:00\", \"precipitation\": 0.0}, {\"date\": \"2023-11-18T00:00:00\", \"precipitation\": 3.3}, {\"date\": \"2023-11-19T00:00:00\", \"precipitation\": 0.3}, {\"date\": \"2023-11-20T00:00:00\", \"precipitation\": 0.5}, {\"date\": \"2023-11-21T00:00:00\", \"precipitation\": 0.0}, {\"date\": \"2023-11-22T00:00:00\", \"precipitation\": 0.4}, {\"date\": \"2023-11-23T00:00:00\", \"precipitation\": 0.0}, {\"date\": \"2023-11-24T00:00:00\", \"precipitation\": 0.4}, {\"date\": \"2023-11-25T00:00:00\", \"precipitation\": 3.1}, {\"date\": \"2023-11-26T00:00:00\", \"precipitation\": 2.6}, {\"date\": \"2023-11-27T00:00:00\", \"precipitation\": 0.9}, {\"date\": \"2023-11-28T00:00:00\", \"precipitation\": 0.4}, {\"date\": \"2023-11-29T00:00:00\", \"precipitation\": 1.0}, {\"date\": \"2023-11-30T00:00:00\", \"precipitation\": 0.1}, {\"date\": \"2023-12-01T00:00:00\", \"precipitation\": 0.3}, {\"date\": \"2023-12-02T00:00:00\", \"precipitation\": 0.1}, {\"date\": \"2023-12-03T00:00:00\", \"precipitation\": 0.4}, {\"date\": \"2023-12-04T00:00:00\", \"precipitation\": 0.2}]}}, {\"mode\": \"vega-lite\"});\n",
       "</script>"
      ],
      "text/plain": [
       "alt.Chart(...)"
      ]
     },
     "execution_count": 16,
     "metadata": {},
     "output_type": "execute_result"
    }
   ],
   "source": [
    "chart =  alt.Chart(df).mark_bar().encode(x=\"date\", y=\"precipitation\", tooltip=['precipitation', 'date']).properties(width=1200, height=300).interactive().configure_mark(color='orange')\n",
    "chart"
   ]
  },
  {
   "cell_type": "code",
   "execution_count": null,
   "metadata": {},
   "outputs": [],
   "source": []
  },
  {
   "cell_type": "markdown",
   "metadata": {},
   "source": [
    "## 4. Introduction to web apps in Solara \n",
    "\n",
    "[Solara](https://solara.dev/) is a python library for data-focused web apps which you can run in a Jupyter notebook as well as in production-grade web frameworks (FastAPI, Starlette, Flask, ...). It uses IPywidgets for UI components which saves you from having to learn Javascript and CSS. "
   ]
  },
  {
   "cell_type": "code",
   "execution_count": 17,
   "metadata": {},
   "outputs": [
    {
     "name": "stdout",
     "output_type": "stream",
     "text": [
      "API request: services/assets/v2/stations\n",
      "API request: services/assets/v2/stations\n",
      "API request: services/assets/v2/stations\n"
     ]
    }
   ],
   "source": [
    "station_list = [\"TA00134\", \"TA00252\", \"TA00567\"]\n",
    "station_data = {}\n",
    "\n",
    "for station in station_list:\n",
    "    station_data[station] = api.getStations()[station]"
   ]
  },
  {
   "cell_type": "code",
   "execution_count": 18,
   "metadata": {},
   "outputs": [
    {
     "data": {
      "application/vnd.jupyter.widget-view+json": {
       "model_id": "4020e670835e498c8ef29da8e584b85e",
       "version_major": 2,
       "version_minor": 0
      },
      "text/html": [
       "Cannot show widget. You probably want to rerun the code cell above (<i>Click in the code cell, and press Shift+Enter <kbd>⇧</kbd>+<kbd>↩</kbd></i>)."
      ],
      "text/plain": [
       "Cannot show ipywidgets in text"
      ]
     },
     "metadata": {},
     "output_type": "display_data"
    }
   ],
   "source": [
    "import solara\n",
    "import ipyleaflet\n",
    "import TAHMO\n",
    "from ipywidgets import HTML\n",
    "\n",
    "# Create a TAHMO API wrapper and set credentials\n",
    "api = TAHMO.apiWrapper()\n",
    "api.setCredentials('demo', 'DemoPassword1!')\n",
    "\n",
    "# Define reactive variables for station data\n",
    "station = solara.reactive('TA00134')\n",
    "\n",
    "def set_station(value):\n",
    "    station.value = value\n",
    "\n",
    "@ solara.component\n",
    "def StationSelect():\n",
    "    \"\"\"Solara component for a station selection dropdown.\"\"\"\n",
    "    solara.Select(label=\"station\", values=station_list, value=station.value, on_value=set_station)\n",
    "    \n",
    "@solara.component\n",
    "def View():\n",
    "    \"\"\"Solara component for displaying a map view with a marker for the selected station.\"\"\"\n",
    "    m = ipyleaflet.Map(center=[station_data[station.value]['location']['latitude'], \n",
    "                               station_data[station.value]['location']['longitude']], \n",
    "                       zoom=9, \n",
    "                        scroll_wheel_zoom=True, )\n",
    "    marker = ipyleaflet.Marker(location=(station_data[station.value]['location']['latitude'], \n",
    "                               station_data[station.value]['location']['longitude']), draggable=False)\n",
    "    marker.popup = HTML(station_data[station.value]['location']['name'])\n",
    "    m.add_layer(marker)\n",
    "    solara.display(m)\n",
    "\n",
    "@solara.component\n",
    "def Page():\n",
    "    \"\"\"Solara component for a page with two cards: View and StationSelect.\"\"\"\n",
    "    \n",
    "    with solara.Card():\n",
    "        View()\n",
    "\n",
    "    with solara.Card():\n",
    "        StationSelect()\n",
    "\n",
    "\n",
    "Page()"
   ]
  },
  {
   "cell_type": "code",
   "execution_count": 27,
   "metadata": {},
   "outputs": [
    {
     "name": "stdout",
     "output_type": "stream",
     "text": [
      "API request: services/measurements/v2/stations/TA00252/measurements/controlled\n"
     ]
    },
    {
     "data": {
      "application/vnd.jupyter.widget-view+json": {
       "model_id": "e3870faf27b24ffb95e0071090fdd5da",
       "version_major": 2,
       "version_minor": 0
      },
      "text/html": [
       "Cannot show widget. You probably want to rerun the code cell above (<i>Click in the code cell, and press Shift+Enter <kbd>⇧</kbd>+<kbd>↩</kbd></i>)."
      ],
      "text/plain": [
       "Cannot show ipywidgets in text"
      ]
     },
     "metadata": {},
     "output_type": "display_data"
    }
   ],
   "source": [
    "# Define reactive variables for station data\n",
    "station = solara.reactive('TA00252')\n",
    "\n",
    "def set_station(value):\n",
    "    station.value = value\n",
    "    \n",
    "def request_precip_data(station, variables=['pr'], startDate='2023-01-01', endDate='2023-11-22'):\n",
    "    \"\"\"Request precipitation data from the TAHMO API and return a pandas dataframe.\"\"\"\n",
    "    df = api.getMeasurements(station, startDate=startDate, endDate=endDate, variables=variables)\n",
    "    if df.empty:\n",
    "        df = pd.DataFrame(columns=['date', 'precipitation'])\n",
    "        return df\n",
    "    else:\n",
    "        df.index.name = 'Timestamp'\n",
    "        df = df.reset_index()\n",
    "        df['Timestamp'] = pd.to_datetime(df['Timestamp'])\n",
    "        df.loc[:,'date'] = df['Timestamp'].dt.date\n",
    "        df = df.drop(columns=['Timestamp']).groupby('date').max().reset_index().dropna()\n",
    "        df['date'] = pd.to_datetime(df['date'])\n",
    "        df = df.rename(columns={\"pr\": \"precipitation\"})\n",
    "        return df\n",
    "\n",
    "@ solara.component\n",
    "def StationSelect():\n",
    "    \"\"\"Solara component for a station selection dropdown.\"\"\"\n",
    "    solara.Select(label=\"station\", values=station_list, value=station.value, on_value=set_station)\n",
    "\n",
    "@solara.component\n",
    "def Timeseries():\n",
    "    \"\"\"Solara component for a timeseries chart of precipitation.\"\"\"\t\n",
    "    df = request_precip_data(station.value)\n",
    "    chart =  alt.Chart(df).mark_bar().encode(x=\"date\", y=\"precipitation\", tooltip=['precipitation', 'date']).properties(width=950, height=350).interactive()\n",
    "    solara.display(chart)\n",
    "\n",
    "@solara.component\n",
    "def Page():\n",
    "    \"\"\"Solara component for a page with two cards: View and StationSelect.\"\"\"\n",
    "    with solara.Card():\n",
    "        Timeseries()\n",
    "    with solara.Card():\n",
    "        StationSelect()\n",
    "\n",
    "Page()"
   ]
  },
  {
   "cell_type": "code",
   "execution_count": 21,
   "metadata": {},
   "outputs": [
    {
     "data": {
      "text/plain": [
       "'TA00252'"
      ]
     },
     "execution_count": 21,
     "metadata": {},
     "output_type": "execute_result"
    }
   ],
   "source": [
    "station.value"
   ]
  },
  {
   "cell_type": "code",
   "execution_count": null,
   "metadata": {},
   "outputs": [],
   "source": []
  }
 ],
 "metadata": {
  "kernelspec": {
   "display_name": "Python 3.10.4 64-bit",
   "language": "python",
   "name": "python3"
  },
  "language_info": {
   "codemirror_mode": {
    "name": "ipython",
    "version": 3
   },
   "file_extension": ".py",
   "mimetype": "text/x-python",
   "name": "python",
   "nbconvert_exporter": "python",
   "pygments_lexer": "ipython3",
   "version": "3.10.13"
  },
  "vscode": {
   "interpreter": {
    "hash": "3ad933181bd8a04b432d3370b9dc3b0662ad032c4dfaa4e4f1596c548f763858"
   }
  }
 },
 "nbformat": 4,
 "nbformat_minor": 4
}
