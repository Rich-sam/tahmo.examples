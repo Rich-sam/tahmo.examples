{
 "cells": [
  {
   "cell_type": "markdown",
   "metadata": {},
   "source": [
    "# Training\n",
    "\n",
    "Welcome to the technical training on data integration in seasonal forecasting, made by HKV. \n",
    "\n",
    "### Table of content\n",
    "\n",
    "1. [Introduction to Jupyter Notebooks & Application Programming Interfaces (API's)](#section-1)\n",
    "    - 1.1 Introduction to Jupyter notebook\n",
    "    - 1.2 Introduction to REST APIs in Python\n",
    "2. [Working with TAHMO weather station data](#section-2)\n",
    "3. [Using weahter forecast from Open-meteo](#section-3)\n",
    "4. [Dashboards development with Solara](#section-4)\n"
   ]
  },
  {
   "cell_type": "markdown",
   "metadata": {},
   "source": [
    "## 1. Introduction to Jupyter Notebooks & Application Programming Interfaces (API's) <a name=\"section-1\"></a>\n",
    "\n",
    "### 1.1 Introduction to Jupyter Notebook\n",
    "[Jupyter Notebooks](https://jupyter-notebook.readthedocs.io/en/latest/) are interactive computing environments that allow you to create and share documents containing live code, equations, visualizations, and narrative text. They are widely used in data science, research, and education due to their versatility and ease of use.\n",
    "\n",
    "Jupyter Notebooks consist of cells which can contain code, text, or visualizations."
   ]
  },
  {
   "cell_type": "markdown",
   "metadata": {},
   "source": [
    "#### Running a Cell:\n",
    "Click on the cell below, and you'll notice a border around it. To run the code within the cell, press **Shift + Enter** or use the \"Run\" button in the toolbar above.\n"
   ]
  },
  {
   "cell_type": "code",
   "execution_count": 1,
   "metadata": {},
   "outputs": [
    {
     "name": "stdout",
     "output_type": "stream",
     "text": [
      "Welcome to the training!\n"
     ]
    }
   ],
   "source": [
    "print('Welcome to the training!')"
   ]
  },
  {
   "cell_type": "markdown",
   "metadata": {},
   "source": [
    "#### Saving and Closing:\n",
    "Remember to save your work by clicking the floppy disk icon or using **Ctrl + S**. You can close a notebook when you're done, and the changes will be saved."
   ]
  },
  {
   "cell_type": "code",
   "execution_count": 2,
   "metadata": {},
   "outputs": [
    {
     "name": "stdout",
     "output_type": "stream",
     "text": [
      "let's start coding\n"
     ]
    }
   ],
   "source": [
    "# using variables\n",
    "\n",
    "var = \"let's start coding\"\n",
    "\n",
    "print(var)"
   ]
  },
  {
   "cell_type": "markdown",
   "metadata": {},
   "source": [
    "### 1.2  Introduction to REST APIs in Python\n",
    "Welcome to the world of REST APIs! If you're curious about how different applications communicate with each other over the web, you're in the right place. In this introduction, we'll explore the basics of REST (Representational State Transfer) APIs and how you can interact with them using Python.\n",
    "\n",
    "#### What is a REST API?\n",
    "\n",
    "<img src=\"data/images/rest_api.svg\" width=\"100%\"/>\n",
    "\n",
    "A REST API (Application Programming Interface) is a set of rules and conventions for building and interacting with web services. It allows different software applications to communicate with each other over the internet by using standard HTTP methods, such as GET, POST, PUT, and DELETE.\n",
    "\n",
    "#### Key Concepts:\n",
    "1. Resources:\n",
    "In a REST API, everything is considered a resource. These resources can be data objects, services, or entities, and each is uniquely identified by a URL, often referred to as an endpoint.\n",
    "\n",
    "2. HTTP Methods:\n",
    "RESTful APIs use standard HTTP methods to perform different operations on resources:\n",
    "\n",
    "GET: Retrieve data from a specified resource.\n",
    "POST: Create a new resource.\n",
    "PUT: Update an existing resource.\n",
    "DELETE: Remove a resource.\n",
    "3. Request and Response:\n",
    "When you make a request to a REST API endpoint, you send an HTTP request, and the server responds with an HTTP response. The response typically includes the requested data or information about the success or failure of the request.\n",
    "\n",
    "#### Interacting with REST APIs in Python:\n",
    "1. Requests Library:\n",
    "Python provides the requests library, which simplifies the process of sending HTTP requests. You can install it using:"
   ]
  },
  {
   "cell_type": "markdown",
   "metadata": {},
   "source": [
    "#### Conclusion:\n",
    "Understanding REST APIs and how to interact with them is a fundamental skill for any programmer. Whether you're building web applications, working with data, or integrating services, the ability to communicate with RESTful APIs using Python opens up a world of possibilities. So, let's dive in and start exploring the power of REST in Python!"
   ]
  },
  {
   "cell_type": "markdown",
   "metadata": {},
   "source": [
    "# Working with TAHMO weather station data <a name=\"section-2\"></a>\n",
    "\n",
    "TAHMO is a network of weather stations across Africa. The TAHMO initiative aims to provide high-quality, real-time weather and hydrological data to support various applications, including agriculture, water resource management, and scientific research.\n",
    "\n",
    "The TAHMO weather stations are strategically placed to gather data on various meteorological parameters such as temperature, humidity, wind speed, and rainfall. The data collected from these stations can be valuable for understanding weather patterns, predicting climate trends, and making informed decisions in sectors like agriculture and water management.\n",
    "\n",
    "Accessing TAHMO weather station data typically involves using the TAHMO API (Application Programming Interface), which allows developers to retrieve weather data programmatically. See the website below:"
   ]
  },
  {
   "cell_type": "code",
   "execution_count": 56,
   "metadata": {},
   "outputs": [
    {
     "data": {
      "text/html": [
       "\n",
       "        <iframe\n",
       "            width=\"100%\"\n",
       "            height=\"400\"\n",
       "            src=\"https://tahmo.org/\"\n",
       "            frameborder=\"0\"\n",
       "            allowfullscreen\n",
       "            \n",
       "        ></iframe>\n",
       "        "
      ],
      "text/plain": [
       "<IPython.lib.display.IFrame at 0x7f7dc515f2e0>"
      ]
     },
     "execution_count": 56,
     "metadata": {},
     "output_type": "execute_result"
    }
   ],
   "source": [
    "from IPython.display import IFrame\n",
    "IFrame(\"https://tahmo.org/\", '100%',400)"
   ]
  },
  {
   "cell_type": "markdown",
   "metadata": {},
   "source": [
    "### Example: TAHMO data by API request\n",
    "\n",
    "In this example we will request data from the TAHMO station using this [API](https://github.com/TAHMO/API-V2-Python-examples/tree/master). This contains a client that makes it easier to use the API. First we need to import the module and create an instance of the API client. Also we need to login using our demo credentials.\n"
   ]
  },
  {
   "cell_type": "code",
   "execution_count": 2,
   "metadata": {},
   "outputs": [],
   "source": [
    "# first we import the TAHMO module\n",
    "import TAHMO\n",
    "\n",
    "# The demo credentials listed below give you access to three pre-defined stations. \n",
    "api = TAHMO.apiWrapper()\n",
    "\n",
    "# set the credentials\n",
    "api.setCredentials('demo', 'DemoPassword1!')"
   ]
  },
  {
   "cell_type": "markdown",
   "metadata": {},
   "source": [
    "In the cell below we can list all the TAHMO stations that we have access to. Also we can list al the variables that are recorded by the weather stations."
   ]
  },
  {
   "cell_type": "code",
   "execution_count": 3,
   "metadata": {},
   "outputs": [
    {
     "name": "stdout",
     "output_type": "stream",
     "text": [
      "API request: services/assets/v2/stations\n",
      "Account has access to stations: TA00016, TA00134, TA00252\n"
     ]
    }
   ],
   "source": [
    "# list other stations that are available\n",
    "stations = api.getStations()\n",
    "print('Account has access to stations: %s' % ', '.join(list(stations)))"
   ]
  },
  {
   "cell_type": "code",
   "execution_count": 4,
   "metadata": {},
   "outputs": [
    {
     "name": "stdout",
     "output_type": "stream",
     "text": [
      "API request: services/assets/v2/variables\n"
     ]
    },
    {
     "name": "stdout",
     "output_type": "stream",
     "text": [
      "Available variables in TAHMO API:\n",
      "Atmospheric pressure [kPa] with shortcode \"ap\"\n",
      "Depth of water [mm] with shortcode \"dw\"\n",
      "Electrical conductivity of precipitation [mS/cm] with shortcode \"ec\"\n",
      "Electrical conductivity of water [mS/cm] with shortcode \"ew\"\n",
      "Lightning distance [km] with shortcode \"ld\"\n",
      "Lightning events [-] with shortcode \"le\"\n",
      "Shortwave radiation [W/m2] with shortcode \"ra\"\n",
      "Soil moisture content [m3/m3] with shortcode \"sm\"\n",
      "Soil temperature [degrees Celsius] with shortcode \"st\"\n",
      "Surface air temperature [degrees Celsius] with shortcode \"te\"\n",
      "Vapor pressure [kPa] with shortcode \"vp\"\n",
      "Wind gusts [m/s] with shortcode \"wg\"\n",
      "Wind speed [m/s] with shortcode \"ws\"\n",
      "Temperature of humidity sensor [degrees Celsius] with shortcode \"ht\"\n",
      "X-axis level [degrees] with shortcode \"tx\"\n",
      "Y-axis level [degrees] with shortcode \"ty\"\n",
      "Logger battery percentage [-] with shortcode \"lb\"\n",
      "Logger reference pressure [kPa] with shortcode \"lp\"\n",
      "Logger temperature [degrees Celsius] with shortcode \"lt\"\n",
      "Cumulative precipitation [mm] with shortcode \"cp\"\n",
      "Water level [m] with shortcode \"wl\"\n",
      "Water velocity [m/s] with shortcode \"wv\"\n",
      "Precipitation [mm] with shortcode \"pr\"\n",
      "Relative humidity [-] with shortcode \"rh\"\n",
      "Wind direction [degrees] with shortcode \"wd\"\n",
      "Soil electrical conductivity [mS/cm] with shortcode \"se\"\n",
      "Water temperature [degrees Celsius] with shortcode \"tw\"\n",
      "Water discharge [m3/s] with shortcode \"wq\"\n",
      "Matric potential [kPa] with shortcode \"mp\"\n"
     ]
    }
   ],
   "source": [
    "# list available variables\n",
    "\n",
    "variables = api.getVariables()\n",
    "print('Available variables in TAHMO API:')\n",
    "for variable in variables:\n",
    "    print('%s [%s] with shortcode \"%s\"' %\n",
    "          (variables[variable]['description'], variables[variable]['units'], variables[variable]['shortcode']))"
   ]
  },
  {
   "cell_type": "markdown",
   "metadata": {},
   "source": [
    "Let's take one of the stations and retrieve the name of the weather stations and the geographical coordinates of the station:"
   ]
  },
  {
   "cell_type": "code",
   "execution_count": 5,
   "metadata": {},
   "outputs": [
    {
     "name": "stdout",
     "output_type": "stream",
     "text": [
      "API request: services/assets/v2/stations\n",
      "\n",
      "Station name =  Accra Academy School, Accra\n",
      "Longitude =  -0.24\n",
      "Latitude =  5.57\n"
     ]
    }
   ],
   "source": [
    "# choose a station\n",
    "station = 'TA00016'\n",
    "\n",
    "# get the data\n",
    "station_data = api.getStations()[station]\n",
    "\n",
    "print()\n",
    "print( f\"Station name =  {station_data['location']['name']}\")\n",
    "print( f\"Longitude =  {station_data['location']['longitude']:.02f}\")\n",
    "print( f\"Latitude =  {station_data['location']['latitude']:.02f}\")"
   ]
  },
  {
   "cell_type": "markdown",
   "metadata": {},
   "source": [
    "### Retrieve data"
   ]
  },
  {
   "cell_type": "code",
   "execution_count": 6,
   "metadata": {},
   "outputs": [
    {
     "name": "stdout",
     "output_type": "stream",
     "text": [
      "API request: services/measurements/v2/stations/TA00016/measurements/controlled\n",
      "Timeseries saved to file \"timeseries.csv\"\n"
     ]
    }
   ],
   "source": [
    "# Example 3: Retrieve a pandas dataframe containing the time serie of surface air observations and save to CSV file.\n",
    "\n",
    "startDate = '01/01/2023'\n",
    "endDate = '11/11/2023'\n",
    "variables = ['pr']\n",
    "\n",
    "df = api.getMeasurements(station, startDate=startDate, endDate=endDate, variables=variables)\n",
    "df.index.name = 'Timestamp'\n",
    "df.to_csv('data/timeseries.csv', na_rep='', date_format='%Y-%m-%d %H:%M')\n",
    "print('Timeseries saved to file \"timeseries.csv\"')\n"
   ]
  },
  {
   "cell_type": "code",
   "execution_count": 46,
   "metadata": {},
   "outputs": [
    {
     "data": {
      "text/html": [
       "<div>\n",
       "<style scoped>\n",
       "    .dataframe tbody tr th:only-of-type {\n",
       "        vertical-align: middle;\n",
       "    }\n",
       "\n",
       "    .dataframe tbody tr th {\n",
       "        vertical-align: top;\n",
       "    }\n",
       "\n",
       "    .dataframe thead th {\n",
       "        text-align: right;\n",
       "    }\n",
       "</style>\n",
       "<table border=\"1\" class=\"dataframe\">\n",
       "  <thead>\n",
       "    <tr style=\"text-align: right;\">\n",
       "      <th></th>\n",
       "      <th>date</th>\n",
       "      <th>precipitation</th>\n",
       "    </tr>\n",
       "  </thead>\n",
       "  <tbody>\n",
       "    <tr>\n",
       "      <th>0</th>\n",
       "      <td>2023-01-01</td>\n",
       "      <td>0.000</td>\n",
       "    </tr>\n",
       "    <tr>\n",
       "      <th>1</th>\n",
       "      <td>2023-01-02</td>\n",
       "      <td>0.000</td>\n",
       "    </tr>\n",
       "    <tr>\n",
       "      <th>2</th>\n",
       "      <td>2023-01-03</td>\n",
       "      <td>0.000</td>\n",
       "    </tr>\n",
       "    <tr>\n",
       "      <th>3</th>\n",
       "      <td>2023-01-04</td>\n",
       "      <td>0.000</td>\n",
       "    </tr>\n",
       "    <tr>\n",
       "      <th>4</th>\n",
       "      <td>2023-01-05</td>\n",
       "      <td>0.000</td>\n",
       "    </tr>\n",
       "    <tr>\n",
       "      <th>...</th>\n",
       "      <td>...</td>\n",
       "      <td>...</td>\n",
       "    </tr>\n",
       "    <tr>\n",
       "      <th>188</th>\n",
       "      <td>2023-07-08</td>\n",
       "      <td>1.157</td>\n",
       "    </tr>\n",
       "    <tr>\n",
       "      <th>189</th>\n",
       "      <td>2023-07-09</td>\n",
       "      <td>0.936</td>\n",
       "    </tr>\n",
       "    <tr>\n",
       "      <th>190</th>\n",
       "      <td>2023-07-10</td>\n",
       "      <td>0.017</td>\n",
       "    </tr>\n",
       "    <tr>\n",
       "      <th>191</th>\n",
       "      <td>2023-07-11</td>\n",
       "      <td>0.017</td>\n",
       "    </tr>\n",
       "    <tr>\n",
       "      <th>192</th>\n",
       "      <td>2023-07-12</td>\n",
       "      <td>1.260</td>\n",
       "    </tr>\n",
       "  </tbody>\n",
       "</table>\n",
       "<p>193 rows × 2 columns</p>\n",
       "</div>"
      ],
      "text/plain": [
       "          date  precipitation\n",
       "0   2023-01-01          0.000\n",
       "1   2023-01-02          0.000\n",
       "2   2023-01-03          0.000\n",
       "3   2023-01-04          0.000\n",
       "4   2023-01-05          0.000\n",
       "..         ...            ...\n",
       "188 2023-07-08          1.157\n",
       "189 2023-07-09          0.936\n",
       "190 2023-07-10          0.017\n",
       "191 2023-07-11          0.017\n",
       "192 2023-07-12          1.260\n",
       "\n",
       "[193 rows x 2 columns]"
      ]
     },
     "execution_count": 46,
     "metadata": {},
     "output_type": "execute_result"
    }
   ],
   "source": [
    "import pandas as pd\n",
    "\n",
    "def load_precip_data():\n",
    "    df = pd.read_csv(\"data/timeseries.csv\", parse_dates=True, index_col=0).reset_index().rename(columns={\"Timestamp\" : \"date\", \"pr\": \"precipitation\"})\n",
    "    df.loc[:,'date'] = df['date'].dt.date\n",
    "    df = df.groupby('date').max().reset_index().dropna()\n",
    "    return df\n",
    "\n",
    "df = load_precip_data()\n",
    "df"
   ]
  },
  {
   "cell_type": "markdown",
   "metadata": {},
   "source": [
    "#### Interactive chart in Vega-Altair\n",
    "\n",
    "\n",
    "[Vega-Altair](https://altair-viz.github.io/)  is a handy Python library that allows you to create statistical visualizations using declarative principles without complex programming code. It provides a straightforward way to quickly generate various types of charts.\n",
    "\n",
    "Altair is built on  [Vega-Lite](https://vega.github.io/vega-lite/), which is a Grammar of Interactive Graphics. Vega-Altair provides a user-friendly way to use this through Python, storing the graphical specifications in JSON (JavaScript Object Notation) format. You can directly view these specifications in any web browser, and coding is easy in JupyterLab, Jupyter Notebook, Microsoft VS-Code, and Google Colab."
   ]
  },
  {
   "cell_type": "code",
   "execution_count": 59,
   "metadata": {},
   "outputs": [
    {
     "data": {
      "text/html": [
       "\n",
       "<style>\n",
       "  #altair-viz-fcac46985a81434590273ab1f3070195.vega-embed {\n",
       "    width: 100%;\n",
       "    display: flex;\n",
       "  }\n",
       "\n",
       "  #altair-viz-fcac46985a81434590273ab1f3070195.vega-embed details,\n",
       "  #altair-viz-fcac46985a81434590273ab1f3070195.vega-embed details summary {\n",
       "    position: relative;\n",
       "  }\n",
       "</style>\n",
       "<div id=\"altair-viz-fcac46985a81434590273ab1f3070195\"></div>\n",
       "<script type=\"text/javascript\">\n",
       "  var VEGA_DEBUG = (typeof VEGA_DEBUG == \"undefined\") ? {} : VEGA_DEBUG;\n",
       "  (function(spec, embedOpt){\n",
       "    let outputDiv = document.currentScript.previousElementSibling;\n",
       "    if (outputDiv.id !== \"altair-viz-fcac46985a81434590273ab1f3070195\") {\n",
       "      outputDiv = document.getElementById(\"altair-viz-fcac46985a81434590273ab1f3070195\");\n",
       "    }\n",
       "    const paths = {\n",
       "      \"vega\": \"https://cdn.jsdelivr.net/npm/vega@5?noext\",\n",
       "      \"vega-lib\": \"https://cdn.jsdelivr.net/npm/vega-lib?noext\",\n",
       "      \"vega-lite\": \"https://cdn.jsdelivr.net/npm/vega-lite@5.15.1?noext\",\n",
       "      \"vega-embed\": \"https://cdn.jsdelivr.net/npm/vega-embed@6?noext\",\n",
       "    };\n",
       "\n",
       "    function maybeLoadScript(lib, version) {\n",
       "      var key = `${lib.replace(\"-\", \"\")}_version`;\n",
       "      return (VEGA_DEBUG[key] == version) ?\n",
       "        Promise.resolve(paths[lib]) :\n",
       "        new Promise(function(resolve, reject) {\n",
       "          var s = document.createElement('script');\n",
       "          document.getElementsByTagName(\"head\")[0].appendChild(s);\n",
       "          s.async = true;\n",
       "          s.onload = () => {\n",
       "            VEGA_DEBUG[key] = version;\n",
       "            return resolve(paths[lib]);\n",
       "          };\n",
       "          s.onerror = () => reject(`Error loading script: ${paths[lib]}`);\n",
       "          s.src = paths[lib];\n",
       "        });\n",
       "    }\n",
       "\n",
       "    function showError(err) {\n",
       "      outputDiv.innerHTML = `<div class=\"error\" style=\"color:red;\">${err}</div>`;\n",
       "      throw err;\n",
       "    }\n",
       "\n",
       "    function displayChart(vegaEmbed) {\n",
       "      vegaEmbed(outputDiv, spec, embedOpt)\n",
       "        .catch(err => showError(`Javascript Error: ${err.message}<br>This usually means there's a typo in your chart specification. See the javascript console for the full traceback.`));\n",
       "    }\n",
       "\n",
       "    if(typeof define === \"function\" && define.amd) {\n",
       "      requirejs.config({paths});\n",
       "      require([\"vega-embed\"], displayChart, err => showError(`Error loading script: ${err.message}`));\n",
       "    } else {\n",
       "      maybeLoadScript(\"vega\", \"5\")\n",
       "        .then(() => maybeLoadScript(\"vega-lite\", \"5.15.1\"))\n",
       "        .then(() => maybeLoadScript(\"vega-embed\", \"6\"))\n",
       "        .catch(showError)\n",
       "        .then(() => displayChart(vegaEmbed));\n",
       "    }\n",
       "  })({\"config\": {\"view\": {\"continuousWidth\": 300, \"continuousHeight\": 300}}, \"data\": {\"name\": \"data-a7569b472853f89b6b020a6a65887c4e\"}, \"mark\": {\"type\": \"bar\"}, \"encoding\": {\"tooltip\": [{\"field\": \"precipitation\", \"type\": \"quantitative\"}, {\"field\": \"date\", \"type\": \"temporal\"}], \"x\": {\"field\": \"date\", \"type\": \"temporal\"}, \"y\": {\"field\": \"precipitation\", \"type\": \"quantitative\"}}, \"height\": 200, \"params\": [{\"name\": \"param_18\", \"select\": {\"type\": \"interval\", \"encodings\": [\"x\", \"y\"]}, \"bind\": \"scales\"}], \"width\": 1200, \"$schema\": \"https://vega.github.io/schema/vega-lite/v5.15.1.json\", \"datasets\": {\"data-a7569b472853f89b6b020a6a65887c4e\": [{\"date\": \"2023-01-01T00:00:00\", \"precipitation\": 0.0}, {\"date\": \"2023-01-02T00:00:00\", \"precipitation\": 0.0}, {\"date\": \"2023-01-03T00:00:00\", \"precipitation\": 0.0}, {\"date\": \"2023-01-04T00:00:00\", \"precipitation\": 0.0}, {\"date\": \"2023-01-05T00:00:00\", \"precipitation\": 0.0}, {\"date\": \"2023-01-06T00:00:00\", \"precipitation\": 0.0}, {\"date\": \"2023-01-07T00:00:00\", \"precipitation\": 0.0}, {\"date\": \"2023-01-08T00:00:00\", \"precipitation\": 0.0}, {\"date\": \"2023-01-09T00:00:00\", \"precipitation\": 0.0}, {\"date\": \"2023-01-10T00:00:00\", \"precipitation\": 0.0}, {\"date\": \"2023-01-11T00:00:00\", \"precipitation\": 0.0}, {\"date\": \"2023-01-12T00:00:00\", \"precipitation\": 0.0}, {\"date\": \"2023-01-13T00:00:00\", \"precipitation\": 0.0}, {\"date\": \"2023-01-14T00:00:00\", \"precipitation\": 0.0}, {\"date\": \"2023-01-15T00:00:00\", \"precipitation\": 0.0}, {\"date\": \"2023-01-16T00:00:00\", \"precipitation\": 0.0}, {\"date\": \"2023-01-17T00:00:00\", \"precipitation\": 0.0}, {\"date\": \"2023-01-18T00:00:00\", \"precipitation\": 0.0}, {\"date\": \"2023-01-19T00:00:00\", \"precipitation\": 0.0}, {\"date\": \"2023-01-20T00:00:00\", \"precipitation\": 0.0}, {\"date\": \"2023-01-21T00:00:00\", \"precipitation\": 0.0}, {\"date\": \"2023-01-22T00:00:00\", \"precipitation\": 0.0}, {\"date\": \"2023-01-23T00:00:00\", \"precipitation\": 0.0}, {\"date\": \"2023-01-24T00:00:00\", \"precipitation\": 0.0}, {\"date\": \"2023-01-25T00:00:00\", \"precipitation\": 0.0}, {\"date\": \"2023-01-26T00:00:00\", \"precipitation\": 0.0}, {\"date\": \"2023-01-27T00:00:00\", \"precipitation\": 0.0}, {\"date\": \"2023-01-28T00:00:00\", \"precipitation\": 0.0}, {\"date\": \"2023-01-29T00:00:00\", \"precipitation\": 0.0}, {\"date\": \"2023-01-30T00:00:00\", \"precipitation\": 0.0}, {\"date\": \"2023-01-31T00:00:00\", \"precipitation\": 0.0}, {\"date\": \"2023-02-01T00:00:00\", \"precipitation\": 0.017}, {\"date\": \"2023-02-02T00:00:00\", \"precipitation\": 0.017}, {\"date\": \"2023-02-03T00:00:00\", \"precipitation\": 0.0}, {\"date\": \"2023-02-04T00:00:00\", \"precipitation\": 0.0}, {\"date\": \"2023-02-05T00:00:00\", \"precipitation\": 0.0}, {\"date\": \"2023-02-06T00:00:00\", \"precipitation\": 0.0}, {\"date\": \"2023-02-07T00:00:00\", \"precipitation\": 2.668}, {\"date\": \"2023-02-08T00:00:00\", \"precipitation\": 0.0}, {\"date\": \"2023-02-09T00:00:00\", \"precipitation\": 0.0}, {\"date\": \"2023-02-10T00:00:00\", \"precipitation\": 0.0}, {\"date\": \"2023-02-11T00:00:00\", \"precipitation\": 0.0}, {\"date\": \"2023-02-12T00:00:00\", \"precipitation\": 0.0}, {\"date\": \"2023-02-13T00:00:00\", \"precipitation\": 0.0}, {\"date\": \"2023-02-14T00:00:00\", \"precipitation\": 0.0}, {\"date\": \"2023-02-15T00:00:00\", \"precipitation\": 5.506}, {\"date\": \"2023-02-16T00:00:00\", \"precipitation\": 0.0}, {\"date\": \"2023-02-17T00:00:00\", \"precipitation\": 0.0}, {\"date\": \"2023-02-18T00:00:00\", \"precipitation\": 0.0}, {\"date\": \"2023-02-19T00:00:00\", \"precipitation\": 0.0}, {\"date\": \"2023-02-20T00:00:00\", \"precipitation\": 0.0}, {\"date\": \"2023-02-21T00:00:00\", \"precipitation\": 0.0}, {\"date\": \"2023-02-22T00:00:00\", \"precipitation\": 0.0}, {\"date\": \"2023-02-23T00:00:00\", \"precipitation\": 0.0}, {\"date\": \"2023-02-24T00:00:00\", \"precipitation\": 0.0}, {\"date\": \"2023-02-25T00:00:00\", \"precipitation\": 0.017}, {\"date\": \"2023-02-26T00:00:00\", \"precipitation\": 0.0}, {\"date\": \"2023-02-27T00:00:00\", \"precipitation\": 0.0}, {\"date\": \"2023-02-28T00:00:00\", \"precipitation\": 0.0}, {\"date\": \"2023-03-01T00:00:00\", \"precipitation\": 0.0}, {\"date\": \"2023-03-02T00:00:00\", \"precipitation\": 0.0}, {\"date\": \"2023-03-03T00:00:00\", \"precipitation\": 0.0}, {\"date\": \"2023-03-04T00:00:00\", \"precipitation\": 0.306}, {\"date\": \"2023-03-05T00:00:00\", \"precipitation\": 0.0}, {\"date\": \"2023-03-06T00:00:00\", \"precipitation\": 0.0}, {\"date\": \"2023-03-07T00:00:00\", \"precipitation\": 13.651}, {\"date\": \"2023-03-08T00:00:00\", \"precipitation\": 0.0}, {\"date\": \"2023-03-09T00:00:00\", \"precipitation\": 0.051}, {\"date\": \"2023-03-10T00:00:00\", \"precipitation\": 0.0}, {\"date\": \"2023-03-11T00:00:00\", \"precipitation\": 0.0}, {\"date\": \"2023-03-12T00:00:00\", \"precipitation\": 0.0}, {\"date\": \"2023-03-13T00:00:00\", \"precipitation\": 0.0}, {\"date\": \"2023-03-14T00:00:00\", \"precipitation\": 0.0}, {\"date\": \"2023-03-15T00:00:00\", \"precipitation\": 0.0}, {\"date\": \"2023-03-16T00:00:00\", \"precipitation\": 3.349}, {\"date\": \"2023-03-17T00:00:00\", \"precipitation\": 0.0}, {\"date\": \"2023-03-18T00:00:00\", \"precipitation\": 8.111}, {\"date\": \"2023-03-19T00:00:00\", \"precipitation\": 0.0}, {\"date\": \"2023-03-20T00:00:00\", \"precipitation\": 0.0}, {\"date\": \"2023-03-21T00:00:00\", \"precipitation\": 0.0}, {\"date\": \"2023-03-22T00:00:00\", \"precipitation\": 3.774}, {\"date\": \"2023-03-23T00:00:00\", \"precipitation\": 2.26}, {\"date\": \"2023-03-24T00:00:00\", \"precipitation\": 0.545}, {\"date\": \"2023-03-25T00:00:00\", \"precipitation\": 0.0}, {\"date\": \"2023-03-26T00:00:00\", \"precipitation\": 0.0}, {\"date\": \"2023-03-27T00:00:00\", \"precipitation\": 0.0}, {\"date\": \"2023-03-28T00:00:00\", \"precipitation\": 0.0}, {\"date\": \"2023-03-29T00:00:00\", \"precipitation\": 0.0}, {\"date\": \"2023-03-30T00:00:00\", \"precipitation\": 0.0}, {\"date\": \"2023-03-31T00:00:00\", \"precipitation\": 0.0}, {\"date\": \"2023-04-01T00:00:00\", \"precipitation\": 0.0}, {\"date\": \"2023-04-02T00:00:00\", \"precipitation\": 0.0}, {\"date\": \"2023-04-03T00:00:00\", \"precipitation\": 0.0}, {\"date\": \"2023-04-04T00:00:00\", \"precipitation\": 7.362}, {\"date\": \"2023-04-05T00:00:00\", \"precipitation\": 0.0}, {\"date\": \"2023-04-06T00:00:00\", \"precipitation\": 0.0}, {\"date\": \"2023-04-07T00:00:00\", \"precipitation\": 0.0}, {\"date\": \"2023-04-08T00:00:00\", \"precipitation\": 2.004}, {\"date\": \"2023-04-09T00:00:00\", \"precipitation\": 0.034}, {\"date\": \"2023-04-10T00:00:00\", \"precipitation\": 0.0}, {\"date\": \"2023-04-11T00:00:00\", \"precipitation\": 0.0}, {\"date\": \"2023-04-12T00:00:00\", \"precipitation\": 0.255}, {\"date\": \"2023-04-13T00:00:00\", \"precipitation\": 0.0}, {\"date\": \"2023-04-14T00:00:00\", \"precipitation\": 0.0}, {\"date\": \"2023-04-15T00:00:00\", \"precipitation\": 0.0}, {\"date\": \"2023-04-16T00:00:00\", \"precipitation\": 0.0}, {\"date\": \"2023-04-17T00:00:00\", \"precipitation\": 1.413}, {\"date\": \"2023-04-18T00:00:00\", \"precipitation\": 0.0}, {\"date\": \"2023-04-19T00:00:00\", \"precipitation\": 0.0}, {\"date\": \"2023-04-20T00:00:00\", \"precipitation\": 0.0}, {\"date\": \"2023-04-21T00:00:00\", \"precipitation\": 0.0}, {\"date\": \"2023-04-22T00:00:00\", \"precipitation\": 0.0}, {\"date\": \"2023-04-23T00:00:00\", \"precipitation\": 0.0}, {\"date\": \"2023-04-24T00:00:00\", \"precipitation\": 2.906}, {\"date\": \"2023-04-25T00:00:00\", \"precipitation\": 0.0}, {\"date\": \"2023-04-26T00:00:00\", \"precipitation\": 0.0}, {\"date\": \"2023-04-27T00:00:00\", \"precipitation\": 2.328}, {\"date\": \"2023-04-28T00:00:00\", \"precipitation\": 0.051}, {\"date\": \"2023-04-29T00:00:00\", \"precipitation\": 3.826}, {\"date\": \"2023-04-30T00:00:00\", \"precipitation\": 0.051}, {\"date\": \"2023-05-01T00:00:00\", \"precipitation\": 0.0}, {\"date\": \"2023-05-02T00:00:00\", \"precipitation\": 0.0}, {\"date\": \"2023-05-03T00:00:00\", \"precipitation\": 0.0}, {\"date\": \"2023-05-04T00:00:00\", \"precipitation\": 0.0}, {\"date\": \"2023-05-05T00:00:00\", \"precipitation\": 0.0}, {\"date\": \"2023-05-06T00:00:00\", \"precipitation\": 0.0}, {\"date\": \"2023-05-07T00:00:00\", \"precipitation\": 0.0}, {\"date\": \"2023-05-08T00:00:00\", \"precipitation\": 0.0}, {\"date\": \"2023-05-09T00:00:00\", \"precipitation\": 0.0}, {\"date\": \"2023-05-10T00:00:00\", \"precipitation\": 0.034}, {\"date\": \"2023-05-11T00:00:00\", \"precipitation\": 0.136}, {\"date\": \"2023-05-12T00:00:00\", \"precipitation\": 0.97}, {\"date\": \"2023-05-13T00:00:00\", \"precipitation\": 0.0}, {\"date\": \"2023-05-14T00:00:00\", \"precipitation\": 0.0}, {\"date\": \"2023-05-15T00:00:00\", \"precipitation\": 4.2}, {\"date\": \"2023-05-16T00:00:00\", \"precipitation\": 0.17}, {\"date\": \"2023-05-17T00:00:00\", \"precipitation\": 0.0}, {\"date\": \"2023-05-18T00:00:00\", \"precipitation\": 1.953}, {\"date\": \"2023-05-19T00:00:00\", \"precipitation\": 0.068}, {\"date\": \"2023-05-20T00:00:00\", \"precipitation\": 0.374}, {\"date\": \"2023-05-21T00:00:00\", \"precipitation\": 0.0}, {\"date\": \"2023-05-22T00:00:00\", \"precipitation\": 0.034}, {\"date\": \"2023-05-23T00:00:00\", \"precipitation\": 0.0}, {\"date\": \"2023-05-24T00:00:00\", \"precipitation\": 0.0}, {\"date\": \"2023-05-25T00:00:00\", \"precipitation\": 1.936}, {\"date\": \"2023-05-26T00:00:00\", \"precipitation\": 0.017}, {\"date\": \"2023-05-27T00:00:00\", \"precipitation\": 0.221}, {\"date\": \"2023-05-28T00:00:00\", \"precipitation\": 0.017}, {\"date\": \"2023-05-29T00:00:00\", \"precipitation\": 1.447}, {\"date\": \"2023-05-30T00:00:00\", \"precipitation\": 0.0}, {\"date\": \"2023-05-31T00:00:00\", \"precipitation\": 2.6}, {\"date\": \"2023-06-01T00:00:00\", \"precipitation\": 3.638}, {\"date\": \"2023-06-02T00:00:00\", \"precipitation\": 1.987}, {\"date\": \"2023-06-03T00:00:00\", \"precipitation\": 0.204}, {\"date\": \"2023-06-04T00:00:00\", \"precipitation\": 0.085}, {\"date\": \"2023-06-05T00:00:00\", \"precipitation\": 0.0}, {\"date\": \"2023-06-06T00:00:00\", \"precipitation\": 0.0}, {\"date\": \"2023-06-07T00:00:00\", \"precipitation\": 0.289}, {\"date\": \"2023-06-08T00:00:00\", \"precipitation\": 0.255}, {\"date\": \"2023-06-09T00:00:00\", \"precipitation\": 0.306}, {\"date\": \"2023-06-10T00:00:00\", \"precipitation\": 0.0}, {\"date\": \"2023-06-11T00:00:00\", \"precipitation\": 1.328}, {\"date\": \"2023-06-12T00:00:00\", \"precipitation\": 0.0}, {\"date\": \"2023-06-13T00:00:00\", \"precipitation\": 0.0}, {\"date\": \"2023-06-14T00:00:00\", \"precipitation\": 0.0}, {\"date\": \"2023-06-15T00:00:00\", \"precipitation\": 0.0}, {\"date\": \"2023-06-16T00:00:00\", \"precipitation\": 0.0}, {\"date\": \"2023-06-17T00:00:00\", \"precipitation\": 0.0}, {\"date\": \"2023-06-18T00:00:00\", \"precipitation\": 0.0}, {\"date\": \"2023-06-19T00:00:00\", \"precipitation\": 1.328}, {\"date\": \"2023-06-20T00:00:00\", \"precipitation\": 0.0}, {\"date\": \"2023-06-21T00:00:00\", \"precipitation\": 0.0}, {\"date\": \"2023-06-22T00:00:00\", \"precipitation\": 0.017}, {\"date\": \"2023-06-23T00:00:00\", \"precipitation\": 0.63}, {\"date\": \"2023-06-24T00:00:00\", \"precipitation\": 0.119}, {\"date\": \"2023-06-25T00:00:00\", \"precipitation\": 0.306}, {\"date\": \"2023-06-26T00:00:00\", \"precipitation\": 0.0}, {\"date\": \"2023-06-27T00:00:00\", \"precipitation\": 0.0}, {\"date\": \"2023-06-28T00:00:00\", \"precipitation\": 0.0}, {\"date\": \"2023-06-29T00:00:00\", \"precipitation\": 0.0}, {\"date\": \"2023-06-30T00:00:00\", \"precipitation\": 0.0}, {\"date\": \"2023-07-01T00:00:00\", \"precipitation\": 0.0}, {\"date\": \"2023-07-02T00:00:00\", \"precipitation\": 0.0}, {\"date\": \"2023-07-03T00:00:00\", \"precipitation\": 0.0}, {\"date\": \"2023-07-04T00:00:00\", \"precipitation\": 0.0}, {\"date\": \"2023-07-05T00:00:00\", \"precipitation\": 0.0}, {\"date\": \"2023-07-06T00:00:00\", \"precipitation\": 0.0}, {\"date\": \"2023-07-07T00:00:00\", \"precipitation\": 0.426}, {\"date\": \"2023-07-08T00:00:00\", \"precipitation\": 1.157}, {\"date\": \"2023-07-09T00:00:00\", \"precipitation\": 0.936}, {\"date\": \"2023-07-10T00:00:00\", \"precipitation\": 0.017}, {\"date\": \"2023-07-11T00:00:00\", \"precipitation\": 0.017}, {\"date\": \"2023-07-12T00:00:00\", \"precipitation\": 1.26}]}}, {\"mode\": \"vega-lite\"});\n",
       "</script>"
      ],
      "text/plain": [
       "alt.Chart(...)"
      ]
     },
     "execution_count": 59,
     "metadata": {},
     "output_type": "execute_result"
    }
   ],
   "source": [
    "import altair as alt\n",
    "\n",
    "chart =  alt.Chart(df).mark_bar().encode(x=\"date\", y=\"precipitation\", tooltip=['precipitation', 'date']).properties(width=1200, height=200).interactive()\n",
    "chart"
   ]
  },
  {
   "cell_type": "markdown",
   "metadata": {},
   "source": [
    "### Section 2: Open-meteo data\n",
    "\n",
    "[Open-Meteo](https://github.com/open-meteo/open-meteo) is an open-source weather API and offers free access for non-commercial use. It includes hourly forecasts up to 16 days, but also historic weather. See the website below for more details:\n"
   ]
  },
  {
   "cell_type": "code",
   "execution_count": 60,
   "metadata": {},
   "outputs": [
    {
     "data": {
      "text/html": [
       "\n",
       "        <iframe\n",
       "            width=\"100%\"\n",
       "            height=\"400\"\n",
       "            src=\"https://open-meteo.com/\"\n",
       "            frameborder=\"0\"\n",
       "            allowfullscreen\n",
       "            \n",
       "        ></iframe>\n",
       "        "
      ],
      "text/plain": [
       "<IPython.lib.display.IFrame at 0x7f7dc50ae0b0>"
      ]
     },
     "execution_count": 60,
     "metadata": {},
     "output_type": "execute_result"
    }
   ],
   "source": [
    "from IPython.display import IFrame\n",
    "IFrame(\"https://open-meteo.com/\", \"100%\", 400)"
   ]
  },
  {
   "cell_type": "code",
   "execution_count": 26,
   "metadata": {},
   "outputs": [],
   "source": [
    "import requests\n",
    "\n",
    "\n",
    "def get_ecmwf_precipitation(api_key, lon, lat):\n",
    "    base_url = \"https://api.open-meteo.com/v1/forecast\"\n",
    "    \n",
    "    # Specify the parameters for the ECMWF precipitation forecast\n",
    "    params = {\n",
    "        \"longitude\" : lon,\n",
    "        \"latitude\" : lat,\n",
    "        \"daily\" : \"precipitation_sum\",\n",
    "        # \"start_date\" : startDate,\n",
    "        # \"end_date\" : endDate,\n",
    "        \"past_days\" : 90,\n",
    "        \"timezone\" : \"auto\",\n",
    "        \"hourly\" : \"precipitation\",\n",
    "        \"start\" : \"current\",\n",
    "        \"forecast_days\" : 10,\n",
    "        \"models\" : \"ecmwf_ifs04\", \n",
    "        \"apikey\" : api_key,\n",
    "    }\n",
    "\n",
    "    try:\n",
    "        # Make a request to the Open-Meteo API\n",
    "        response = requests.get(base_url, params=params)\n",
    "        data = response.json()\n",
    "        return data\n",
    "    except requests.RequestException as e:\n",
    "        print(f\"Error: {e}\")\n",
    "\n",
    "data = get_ecmwf_precipitation('', lon=station_data['location']['longitude'], lat=station_data['location']['latitude'])"
   ]
  },
  {
   "cell_type": "code",
   "execution_count": 45,
   "metadata": {},
   "outputs": [
    {
     "data": {
      "text/html": [
       "<div>\n",
       "<style scoped>\n",
       "    .dataframe tbody tr th:only-of-type {\n",
       "        vertical-align: middle;\n",
       "    }\n",
       "\n",
       "    .dataframe tbody tr th {\n",
       "        vertical-align: top;\n",
       "    }\n",
       "\n",
       "    .dataframe thead th {\n",
       "        text-align: right;\n",
       "    }\n",
       "</style>\n",
       "<table border=\"1\" class=\"dataframe\">\n",
       "  <thead>\n",
       "    <tr style=\"text-align: right;\">\n",
       "      <th></th>\n",
       "      <th>date</th>\n",
       "      <th>precipitation</th>\n",
       "    </tr>\n",
       "  </thead>\n",
       "  <tbody>\n",
       "    <tr>\n",
       "      <th>0</th>\n",
       "      <td>2023-08-26</td>\n",
       "      <td>0.4</td>\n",
       "    </tr>\n",
       "    <tr>\n",
       "      <th>1</th>\n",
       "      <td>2023-08-27</td>\n",
       "      <td>0.1</td>\n",
       "    </tr>\n",
       "    <tr>\n",
       "      <th>2</th>\n",
       "      <td>2023-08-28</td>\n",
       "      <td>1.0</td>\n",
       "    </tr>\n",
       "    <tr>\n",
       "      <th>3</th>\n",
       "      <td>2023-08-29</td>\n",
       "      <td>0.4</td>\n",
       "    </tr>\n",
       "    <tr>\n",
       "      <th>4</th>\n",
       "      <td>2023-08-30</td>\n",
       "      <td>3.5</td>\n",
       "    </tr>\n",
       "    <tr>\n",
       "      <th>...</th>\n",
       "      <td>...</td>\n",
       "      <td>...</td>\n",
       "    </tr>\n",
       "    <tr>\n",
       "      <th>95</th>\n",
       "      <td>2023-11-29</td>\n",
       "      <td>0.6</td>\n",
       "    </tr>\n",
       "    <tr>\n",
       "      <th>96</th>\n",
       "      <td>2023-11-30</td>\n",
       "      <td>0.9</td>\n",
       "    </tr>\n",
       "    <tr>\n",
       "      <th>97</th>\n",
       "      <td>2023-12-01</td>\n",
       "      <td>0.1</td>\n",
       "    </tr>\n",
       "    <tr>\n",
       "      <th>98</th>\n",
       "      <td>2023-12-02</td>\n",
       "      <td>0.2</td>\n",
       "    </tr>\n",
       "    <tr>\n",
       "      <th>99</th>\n",
       "      <td>2023-12-03</td>\n",
       "      <td>0.3</td>\n",
       "    </tr>\n",
       "  </tbody>\n",
       "</table>\n",
       "<p>100 rows × 2 columns</p>\n",
       "</div>"
      ],
      "text/plain": [
       "         date  precipitation\n",
       "0  2023-08-26            0.4\n",
       "1  2023-08-27            0.1\n",
       "2  2023-08-28            1.0\n",
       "3  2023-08-29            0.4\n",
       "4  2023-08-30            3.5\n",
       "..        ...            ...\n",
       "95 2023-11-29            0.6\n",
       "96 2023-11-30            0.9\n",
       "97 2023-12-01            0.1\n",
       "98 2023-12-02            0.2\n",
       "99 2023-12-03            0.3\n",
       "\n",
       "[100 rows x 2 columns]"
      ]
     },
     "execution_count": 45,
     "metadata": {},
     "output_type": "execute_result"
    }
   ],
   "source": [
    "df = pd.DataFrame.from_dict(data['hourly'])\n",
    "\n",
    "df['time'] = pd.to_datetime(df['time'])\n",
    "df.loc[:,'date'] = df['time'].dt.date\n",
    "df['date'] = pd.to_datetime(df['date'])\n",
    "df = df[['date', 'precipitation']].dropna()\n",
    "df = df.groupby('date').max().reset_index()# .set_index('date')\n",
    "\n",
    "df"
   ]
  },
  {
   "cell_type": "code",
   "execution_count": 61,
   "metadata": {},
   "outputs": [
    {
     "data": {
      "text/html": [
       "\n",
       "<style>\n",
       "  #altair-viz-d26cf2ae48cb43baad8dea669cd14b39.vega-embed {\n",
       "    width: 100%;\n",
       "    display: flex;\n",
       "  }\n",
       "\n",
       "  #altair-viz-d26cf2ae48cb43baad8dea669cd14b39.vega-embed details,\n",
       "  #altair-viz-d26cf2ae48cb43baad8dea669cd14b39.vega-embed details summary {\n",
       "    position: relative;\n",
       "  }\n",
       "</style>\n",
       "<div id=\"altair-viz-d26cf2ae48cb43baad8dea669cd14b39\"></div>\n",
       "<script type=\"text/javascript\">\n",
       "  var VEGA_DEBUG = (typeof VEGA_DEBUG == \"undefined\") ? {} : VEGA_DEBUG;\n",
       "  (function(spec, embedOpt){\n",
       "    let outputDiv = document.currentScript.previousElementSibling;\n",
       "    if (outputDiv.id !== \"altair-viz-d26cf2ae48cb43baad8dea669cd14b39\") {\n",
       "      outputDiv = document.getElementById(\"altair-viz-d26cf2ae48cb43baad8dea669cd14b39\");\n",
       "    }\n",
       "    const paths = {\n",
       "      \"vega\": \"https://cdn.jsdelivr.net/npm/vega@5?noext\",\n",
       "      \"vega-lib\": \"https://cdn.jsdelivr.net/npm/vega-lib?noext\",\n",
       "      \"vega-lite\": \"https://cdn.jsdelivr.net/npm/vega-lite@5.15.1?noext\",\n",
       "      \"vega-embed\": \"https://cdn.jsdelivr.net/npm/vega-embed@6?noext\",\n",
       "    };\n",
       "\n",
       "    function maybeLoadScript(lib, version) {\n",
       "      var key = `${lib.replace(\"-\", \"\")}_version`;\n",
       "      return (VEGA_DEBUG[key] == version) ?\n",
       "        Promise.resolve(paths[lib]) :\n",
       "        new Promise(function(resolve, reject) {\n",
       "          var s = document.createElement('script');\n",
       "          document.getElementsByTagName(\"head\")[0].appendChild(s);\n",
       "          s.async = true;\n",
       "          s.onload = () => {\n",
       "            VEGA_DEBUG[key] = version;\n",
       "            return resolve(paths[lib]);\n",
       "          };\n",
       "          s.onerror = () => reject(`Error loading script: ${paths[lib]}`);\n",
       "          s.src = paths[lib];\n",
       "        });\n",
       "    }\n",
       "\n",
       "    function showError(err) {\n",
       "      outputDiv.innerHTML = `<div class=\"error\" style=\"color:red;\">${err}</div>`;\n",
       "      throw err;\n",
       "    }\n",
       "\n",
       "    function displayChart(vegaEmbed) {\n",
       "      vegaEmbed(outputDiv, spec, embedOpt)\n",
       "        .catch(err => showError(`Javascript Error: ${err.message}<br>This usually means there's a typo in your chart specification. See the javascript console for the full traceback.`));\n",
       "    }\n",
       "\n",
       "    if(typeof define === \"function\" && define.amd) {\n",
       "      requirejs.config({paths});\n",
       "      require([\"vega-embed\"], displayChart, err => showError(`Error loading script: ${err.message}`));\n",
       "    } else {\n",
       "      maybeLoadScript(\"vega\", \"5\")\n",
       "        .then(() => maybeLoadScript(\"vega-lite\", \"5.15.1\"))\n",
       "        .then(() => maybeLoadScript(\"vega-embed\", \"6\"))\n",
       "        .catch(showError)\n",
       "        .then(() => displayChart(vegaEmbed));\n",
       "    }\n",
       "  })({\"config\": {\"view\": {\"continuousWidth\": 300, \"continuousHeight\": 300}, \"mark\": {\"color\": \"orange\"}}, \"data\": {\"name\": \"data-a7569b472853f89b6b020a6a65887c4e\"}, \"mark\": {\"type\": \"bar\"}, \"encoding\": {\"tooltip\": [{\"field\": \"precipitation\", \"type\": \"quantitative\"}, {\"field\": \"date\", \"type\": \"temporal\"}], \"x\": {\"field\": \"date\", \"type\": \"temporal\"}, \"y\": {\"field\": \"precipitation\", \"type\": \"quantitative\"}}, \"height\": 300, \"params\": [{\"name\": \"param_19\", \"select\": {\"type\": \"interval\", \"encodings\": [\"x\", \"y\"]}, \"bind\": \"scales\"}], \"width\": 1200, \"$schema\": \"https://vega.github.io/schema/vega-lite/v5.15.1.json\", \"datasets\": {\"data-a7569b472853f89b6b020a6a65887c4e\": [{\"date\": \"2023-01-01T00:00:00\", \"precipitation\": 0.0}, {\"date\": \"2023-01-02T00:00:00\", \"precipitation\": 0.0}, {\"date\": \"2023-01-03T00:00:00\", \"precipitation\": 0.0}, {\"date\": \"2023-01-04T00:00:00\", \"precipitation\": 0.0}, {\"date\": \"2023-01-05T00:00:00\", \"precipitation\": 0.0}, {\"date\": \"2023-01-06T00:00:00\", \"precipitation\": 0.0}, {\"date\": \"2023-01-07T00:00:00\", \"precipitation\": 0.0}, {\"date\": \"2023-01-08T00:00:00\", \"precipitation\": 0.0}, {\"date\": \"2023-01-09T00:00:00\", \"precipitation\": 0.0}, {\"date\": \"2023-01-10T00:00:00\", \"precipitation\": 0.0}, {\"date\": \"2023-01-11T00:00:00\", \"precipitation\": 0.0}, {\"date\": \"2023-01-12T00:00:00\", \"precipitation\": 0.0}, {\"date\": \"2023-01-13T00:00:00\", \"precipitation\": 0.0}, {\"date\": \"2023-01-14T00:00:00\", \"precipitation\": 0.0}, {\"date\": \"2023-01-15T00:00:00\", \"precipitation\": 0.0}, {\"date\": \"2023-01-16T00:00:00\", \"precipitation\": 0.0}, {\"date\": \"2023-01-17T00:00:00\", \"precipitation\": 0.0}, {\"date\": \"2023-01-18T00:00:00\", \"precipitation\": 0.0}, {\"date\": \"2023-01-19T00:00:00\", \"precipitation\": 0.0}, {\"date\": \"2023-01-20T00:00:00\", \"precipitation\": 0.0}, {\"date\": \"2023-01-21T00:00:00\", \"precipitation\": 0.0}, {\"date\": \"2023-01-22T00:00:00\", \"precipitation\": 0.0}, {\"date\": \"2023-01-23T00:00:00\", \"precipitation\": 0.0}, {\"date\": \"2023-01-24T00:00:00\", \"precipitation\": 0.0}, {\"date\": \"2023-01-25T00:00:00\", \"precipitation\": 0.0}, {\"date\": \"2023-01-26T00:00:00\", \"precipitation\": 0.0}, {\"date\": \"2023-01-27T00:00:00\", \"precipitation\": 0.0}, {\"date\": \"2023-01-28T00:00:00\", \"precipitation\": 0.0}, {\"date\": \"2023-01-29T00:00:00\", \"precipitation\": 0.0}, {\"date\": \"2023-01-30T00:00:00\", \"precipitation\": 0.0}, {\"date\": \"2023-01-31T00:00:00\", \"precipitation\": 0.0}, {\"date\": \"2023-02-01T00:00:00\", \"precipitation\": 0.017}, {\"date\": \"2023-02-02T00:00:00\", \"precipitation\": 0.017}, {\"date\": \"2023-02-03T00:00:00\", \"precipitation\": 0.0}, {\"date\": \"2023-02-04T00:00:00\", \"precipitation\": 0.0}, {\"date\": \"2023-02-05T00:00:00\", \"precipitation\": 0.0}, {\"date\": \"2023-02-06T00:00:00\", \"precipitation\": 0.0}, {\"date\": \"2023-02-07T00:00:00\", \"precipitation\": 2.668}, {\"date\": \"2023-02-08T00:00:00\", \"precipitation\": 0.0}, {\"date\": \"2023-02-09T00:00:00\", \"precipitation\": 0.0}, {\"date\": \"2023-02-10T00:00:00\", \"precipitation\": 0.0}, {\"date\": \"2023-02-11T00:00:00\", \"precipitation\": 0.0}, {\"date\": \"2023-02-12T00:00:00\", \"precipitation\": 0.0}, {\"date\": \"2023-02-13T00:00:00\", \"precipitation\": 0.0}, {\"date\": \"2023-02-14T00:00:00\", \"precipitation\": 0.0}, {\"date\": \"2023-02-15T00:00:00\", \"precipitation\": 5.506}, {\"date\": \"2023-02-16T00:00:00\", \"precipitation\": 0.0}, {\"date\": \"2023-02-17T00:00:00\", \"precipitation\": 0.0}, {\"date\": \"2023-02-18T00:00:00\", \"precipitation\": 0.0}, {\"date\": \"2023-02-19T00:00:00\", \"precipitation\": 0.0}, {\"date\": \"2023-02-20T00:00:00\", \"precipitation\": 0.0}, {\"date\": \"2023-02-21T00:00:00\", \"precipitation\": 0.0}, {\"date\": \"2023-02-22T00:00:00\", \"precipitation\": 0.0}, {\"date\": \"2023-02-23T00:00:00\", \"precipitation\": 0.0}, {\"date\": \"2023-02-24T00:00:00\", \"precipitation\": 0.0}, {\"date\": \"2023-02-25T00:00:00\", \"precipitation\": 0.017}, {\"date\": \"2023-02-26T00:00:00\", \"precipitation\": 0.0}, {\"date\": \"2023-02-27T00:00:00\", \"precipitation\": 0.0}, {\"date\": \"2023-02-28T00:00:00\", \"precipitation\": 0.0}, {\"date\": \"2023-03-01T00:00:00\", \"precipitation\": 0.0}, {\"date\": \"2023-03-02T00:00:00\", \"precipitation\": 0.0}, {\"date\": \"2023-03-03T00:00:00\", \"precipitation\": 0.0}, {\"date\": \"2023-03-04T00:00:00\", \"precipitation\": 0.306}, {\"date\": \"2023-03-05T00:00:00\", \"precipitation\": 0.0}, {\"date\": \"2023-03-06T00:00:00\", \"precipitation\": 0.0}, {\"date\": \"2023-03-07T00:00:00\", \"precipitation\": 13.651}, {\"date\": \"2023-03-08T00:00:00\", \"precipitation\": 0.0}, {\"date\": \"2023-03-09T00:00:00\", \"precipitation\": 0.051}, {\"date\": \"2023-03-10T00:00:00\", \"precipitation\": 0.0}, {\"date\": \"2023-03-11T00:00:00\", \"precipitation\": 0.0}, {\"date\": \"2023-03-12T00:00:00\", \"precipitation\": 0.0}, {\"date\": \"2023-03-13T00:00:00\", \"precipitation\": 0.0}, {\"date\": \"2023-03-14T00:00:00\", \"precipitation\": 0.0}, {\"date\": \"2023-03-15T00:00:00\", \"precipitation\": 0.0}, {\"date\": \"2023-03-16T00:00:00\", \"precipitation\": 3.349}, {\"date\": \"2023-03-17T00:00:00\", \"precipitation\": 0.0}, {\"date\": \"2023-03-18T00:00:00\", \"precipitation\": 8.111}, {\"date\": \"2023-03-19T00:00:00\", \"precipitation\": 0.0}, {\"date\": \"2023-03-20T00:00:00\", \"precipitation\": 0.0}, {\"date\": \"2023-03-21T00:00:00\", \"precipitation\": 0.0}, {\"date\": \"2023-03-22T00:00:00\", \"precipitation\": 3.774}, {\"date\": \"2023-03-23T00:00:00\", \"precipitation\": 2.26}, {\"date\": \"2023-03-24T00:00:00\", \"precipitation\": 0.545}, {\"date\": \"2023-03-25T00:00:00\", \"precipitation\": 0.0}, {\"date\": \"2023-03-26T00:00:00\", \"precipitation\": 0.0}, {\"date\": \"2023-03-27T00:00:00\", \"precipitation\": 0.0}, {\"date\": \"2023-03-28T00:00:00\", \"precipitation\": 0.0}, {\"date\": \"2023-03-29T00:00:00\", \"precipitation\": 0.0}, {\"date\": \"2023-03-30T00:00:00\", \"precipitation\": 0.0}, {\"date\": \"2023-03-31T00:00:00\", \"precipitation\": 0.0}, {\"date\": \"2023-04-01T00:00:00\", \"precipitation\": 0.0}, {\"date\": \"2023-04-02T00:00:00\", \"precipitation\": 0.0}, {\"date\": \"2023-04-03T00:00:00\", \"precipitation\": 0.0}, {\"date\": \"2023-04-04T00:00:00\", \"precipitation\": 7.362}, {\"date\": \"2023-04-05T00:00:00\", \"precipitation\": 0.0}, {\"date\": \"2023-04-06T00:00:00\", \"precipitation\": 0.0}, {\"date\": \"2023-04-07T00:00:00\", \"precipitation\": 0.0}, {\"date\": \"2023-04-08T00:00:00\", \"precipitation\": 2.004}, {\"date\": \"2023-04-09T00:00:00\", \"precipitation\": 0.034}, {\"date\": \"2023-04-10T00:00:00\", \"precipitation\": 0.0}, {\"date\": \"2023-04-11T00:00:00\", \"precipitation\": 0.0}, {\"date\": \"2023-04-12T00:00:00\", \"precipitation\": 0.255}, {\"date\": \"2023-04-13T00:00:00\", \"precipitation\": 0.0}, {\"date\": \"2023-04-14T00:00:00\", \"precipitation\": 0.0}, {\"date\": \"2023-04-15T00:00:00\", \"precipitation\": 0.0}, {\"date\": \"2023-04-16T00:00:00\", \"precipitation\": 0.0}, {\"date\": \"2023-04-17T00:00:00\", \"precipitation\": 1.413}, {\"date\": \"2023-04-18T00:00:00\", \"precipitation\": 0.0}, {\"date\": \"2023-04-19T00:00:00\", \"precipitation\": 0.0}, {\"date\": \"2023-04-20T00:00:00\", \"precipitation\": 0.0}, {\"date\": \"2023-04-21T00:00:00\", \"precipitation\": 0.0}, {\"date\": \"2023-04-22T00:00:00\", \"precipitation\": 0.0}, {\"date\": \"2023-04-23T00:00:00\", \"precipitation\": 0.0}, {\"date\": \"2023-04-24T00:00:00\", \"precipitation\": 2.906}, {\"date\": \"2023-04-25T00:00:00\", \"precipitation\": 0.0}, {\"date\": \"2023-04-26T00:00:00\", \"precipitation\": 0.0}, {\"date\": \"2023-04-27T00:00:00\", \"precipitation\": 2.328}, {\"date\": \"2023-04-28T00:00:00\", \"precipitation\": 0.051}, {\"date\": \"2023-04-29T00:00:00\", \"precipitation\": 3.826}, {\"date\": \"2023-04-30T00:00:00\", \"precipitation\": 0.051}, {\"date\": \"2023-05-01T00:00:00\", \"precipitation\": 0.0}, {\"date\": \"2023-05-02T00:00:00\", \"precipitation\": 0.0}, {\"date\": \"2023-05-03T00:00:00\", \"precipitation\": 0.0}, {\"date\": \"2023-05-04T00:00:00\", \"precipitation\": 0.0}, {\"date\": \"2023-05-05T00:00:00\", \"precipitation\": 0.0}, {\"date\": \"2023-05-06T00:00:00\", \"precipitation\": 0.0}, {\"date\": \"2023-05-07T00:00:00\", \"precipitation\": 0.0}, {\"date\": \"2023-05-08T00:00:00\", \"precipitation\": 0.0}, {\"date\": \"2023-05-09T00:00:00\", \"precipitation\": 0.0}, {\"date\": \"2023-05-10T00:00:00\", \"precipitation\": 0.034}, {\"date\": \"2023-05-11T00:00:00\", \"precipitation\": 0.136}, {\"date\": \"2023-05-12T00:00:00\", \"precipitation\": 0.97}, {\"date\": \"2023-05-13T00:00:00\", \"precipitation\": 0.0}, {\"date\": \"2023-05-14T00:00:00\", \"precipitation\": 0.0}, {\"date\": \"2023-05-15T00:00:00\", \"precipitation\": 4.2}, {\"date\": \"2023-05-16T00:00:00\", \"precipitation\": 0.17}, {\"date\": \"2023-05-17T00:00:00\", \"precipitation\": 0.0}, {\"date\": \"2023-05-18T00:00:00\", \"precipitation\": 1.953}, {\"date\": \"2023-05-19T00:00:00\", \"precipitation\": 0.068}, {\"date\": \"2023-05-20T00:00:00\", \"precipitation\": 0.374}, {\"date\": \"2023-05-21T00:00:00\", \"precipitation\": 0.0}, {\"date\": \"2023-05-22T00:00:00\", \"precipitation\": 0.034}, {\"date\": \"2023-05-23T00:00:00\", \"precipitation\": 0.0}, {\"date\": \"2023-05-24T00:00:00\", \"precipitation\": 0.0}, {\"date\": \"2023-05-25T00:00:00\", \"precipitation\": 1.936}, {\"date\": \"2023-05-26T00:00:00\", \"precipitation\": 0.017}, {\"date\": \"2023-05-27T00:00:00\", \"precipitation\": 0.221}, {\"date\": \"2023-05-28T00:00:00\", \"precipitation\": 0.017}, {\"date\": \"2023-05-29T00:00:00\", \"precipitation\": 1.447}, {\"date\": \"2023-05-30T00:00:00\", \"precipitation\": 0.0}, {\"date\": \"2023-05-31T00:00:00\", \"precipitation\": 2.6}, {\"date\": \"2023-06-01T00:00:00\", \"precipitation\": 3.638}, {\"date\": \"2023-06-02T00:00:00\", \"precipitation\": 1.987}, {\"date\": \"2023-06-03T00:00:00\", \"precipitation\": 0.204}, {\"date\": \"2023-06-04T00:00:00\", \"precipitation\": 0.085}, {\"date\": \"2023-06-05T00:00:00\", \"precipitation\": 0.0}, {\"date\": \"2023-06-06T00:00:00\", \"precipitation\": 0.0}, {\"date\": \"2023-06-07T00:00:00\", \"precipitation\": 0.289}, {\"date\": \"2023-06-08T00:00:00\", \"precipitation\": 0.255}, {\"date\": \"2023-06-09T00:00:00\", \"precipitation\": 0.306}, {\"date\": \"2023-06-10T00:00:00\", \"precipitation\": 0.0}, {\"date\": \"2023-06-11T00:00:00\", \"precipitation\": 1.328}, {\"date\": \"2023-06-12T00:00:00\", \"precipitation\": 0.0}, {\"date\": \"2023-06-13T00:00:00\", \"precipitation\": 0.0}, {\"date\": \"2023-06-14T00:00:00\", \"precipitation\": 0.0}, {\"date\": \"2023-06-15T00:00:00\", \"precipitation\": 0.0}, {\"date\": \"2023-06-16T00:00:00\", \"precipitation\": 0.0}, {\"date\": \"2023-06-17T00:00:00\", \"precipitation\": 0.0}, {\"date\": \"2023-06-18T00:00:00\", \"precipitation\": 0.0}, {\"date\": \"2023-06-19T00:00:00\", \"precipitation\": 1.328}, {\"date\": \"2023-06-20T00:00:00\", \"precipitation\": 0.0}, {\"date\": \"2023-06-21T00:00:00\", \"precipitation\": 0.0}, {\"date\": \"2023-06-22T00:00:00\", \"precipitation\": 0.017}, {\"date\": \"2023-06-23T00:00:00\", \"precipitation\": 0.63}, {\"date\": \"2023-06-24T00:00:00\", \"precipitation\": 0.119}, {\"date\": \"2023-06-25T00:00:00\", \"precipitation\": 0.306}, {\"date\": \"2023-06-26T00:00:00\", \"precipitation\": 0.0}, {\"date\": \"2023-06-27T00:00:00\", \"precipitation\": 0.0}, {\"date\": \"2023-06-28T00:00:00\", \"precipitation\": 0.0}, {\"date\": \"2023-06-29T00:00:00\", \"precipitation\": 0.0}, {\"date\": \"2023-06-30T00:00:00\", \"precipitation\": 0.0}, {\"date\": \"2023-07-01T00:00:00\", \"precipitation\": 0.0}, {\"date\": \"2023-07-02T00:00:00\", \"precipitation\": 0.0}, {\"date\": \"2023-07-03T00:00:00\", \"precipitation\": 0.0}, {\"date\": \"2023-07-04T00:00:00\", \"precipitation\": 0.0}, {\"date\": \"2023-07-05T00:00:00\", \"precipitation\": 0.0}, {\"date\": \"2023-07-06T00:00:00\", \"precipitation\": 0.0}, {\"date\": \"2023-07-07T00:00:00\", \"precipitation\": 0.426}, {\"date\": \"2023-07-08T00:00:00\", \"precipitation\": 1.157}, {\"date\": \"2023-07-09T00:00:00\", \"precipitation\": 0.936}, {\"date\": \"2023-07-10T00:00:00\", \"precipitation\": 0.017}, {\"date\": \"2023-07-11T00:00:00\", \"precipitation\": 0.017}, {\"date\": \"2023-07-12T00:00:00\", \"precipitation\": 1.26}]}}, {\"mode\": \"vega-lite\"});\n",
       "</script>"
      ],
      "text/plain": [
       "alt.Chart(...)"
      ]
     },
     "execution_count": 61,
     "metadata": {},
     "output_type": "execute_result"
    }
   ],
   "source": [
    "chart =  alt.Chart(df).mark_bar().encode(x=\"date\", y=\"precipitation\", tooltip=['precipitation', 'date']).properties(width=1200, height=300).interactive().configure_mark(color='orange')\n",
    "chart"
   ]
  },
  {
   "cell_type": "code",
   "execution_count": null,
   "metadata": {},
   "outputs": [],
   "source": []
  },
  {
   "cell_type": "markdown",
   "metadata": {},
   "source": [
    "## 4. Introduction to web apps in Solara \n",
    "\n",
    "[Solara](https://solara.dev/) is a python library for data-focused web apps which you can run in a Jupyter notebook as well as in production-grade web frameworks (FastAPI, Starlette, Flask, ...). It uses IPywidgets for UI components which saves you from having to learn Javascript and CSS. "
   ]
  },
  {
   "cell_type": "code",
   "execution_count": null,
   "metadata": {},
   "outputs": [],
   "source": [
    "import solara\n",
    "import ipyleaflet\n",
    "from ipywidgets import HTML"
   ]
  },
  {
   "cell_type": "code",
   "execution_count": null,
   "metadata": {},
   "outputs": [],
   "source": [
    "zoom = solara.reactive(8)\n",
    "center = solara.reactive([5.53, -0.20])\n",
    "\n",
    "@solara.component\n",
    "def Page():\n",
    "    with solara.Column(style={\"min-width\": \"600px\", \"min-height\": \"500px\"}):\n",
    "        with solara.Card(\"Map\"):\n",
    "            \n",
    "            m = ipyleaflet.Map(center=center.value, zoom=zoom.value)\n",
    "\n",
    "            marker = ipyleaflet.Marker(location=(TAHMO_station_data['location']['latitude'], TAHMO_station_data['location']['longitude']), draggable=True)\n",
    "            marker.popup = HTML(str(TAHMO_station_data['location']['name']))\n",
    "            m.add_layer(marker)\n",
    "            \n",
    "            solara.display(m)\n",
    "\n",
    "Page()"
   ]
  },
  {
   "cell_type": "code",
   "execution_count": null,
   "metadata": {},
   "outputs": [],
   "source": []
  }
 ],
 "metadata": {
  "kernelspec": {
   "display_name": "Python 3.10.4 64-bit",
   "language": "python",
   "name": "python3"
  },
  "language_info": {
   "codemirror_mode": {
    "name": "ipython",
    "version": 3
   },
   "file_extension": ".py",
   "mimetype": "text/x-python",
   "name": "python",
   "nbconvert_exporter": "python",
   "pygments_lexer": "ipython3",
   "version": "3.10.13"
  },
  "vscode": {
   "interpreter": {
    "hash": "3ad933181bd8a04b432d3370b9dc3b0662ad032c4dfaa4e4f1596c548f763858"
   }
  }
 },
 "nbformat": 4,
 "nbformat_minor": 4
}
