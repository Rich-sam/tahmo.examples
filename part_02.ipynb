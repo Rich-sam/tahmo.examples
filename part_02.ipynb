{
 "cells": [
  {
   "cell_type": "markdown",
   "metadata": {},
   "source": [
    "### Section 2: Introduction to web apps in Solara \n",
    "\n",
    "[Solara](https://solara.dev/) is a python library for data-focused web apps which you can run in a Jupyter notebook as well as in production-grade web frameworks (FastAPI, Starlette, Flask, ...). It uses IPywidgets for UI components which saves you from having to learn Javascript and CSS. "
   ]
  },
  {
   "cell_type": "code",
   "execution_count": null,
   "metadata": {},
   "outputs": [],
   "source": []
  },
  {
   "cell_type": "markdown",
   "metadata": {},
   "source": []
  }
 ],
 "metadata": {
  "language_info": {
   "name": "python"
  }
 },
 "nbformat": 4,
 "nbformat_minor": 2
}
