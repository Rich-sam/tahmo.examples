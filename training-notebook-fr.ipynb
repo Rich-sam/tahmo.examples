{
 "cells": [
  {
   "cell_type": "markdown",
   "metadata": {},
   "source": [
    "# Interactive weather dashboard in Python\n",
    "\n",
    "<img src=\"data/images/partners.png\" width=\"50%\"/>\n",
    "\n",
    "\n",
    "\n"
   ]
  },
  {
   "cell_type": "markdown",
   "metadata": {},
   "source": [
    "### Table of content\n",
    "\n",
    "1. [Getting started](#section-1)\n",
    "    - 1.1 Introduction to Jupyter notebook\n",
    "    - 1.2 Introduction to REST APIs in Python\n",
    "2. [Introduction to Application Programming Interfaces (APIs)](#section-2)\n",
    "3. [TAHMO API: Weather station data](#section-3)\n",
    "4. [Open-Meteo: Numerical Weather Forecast API](#section-4)\n",
    "5. []"
   ]
  },
  {
   "cell_type": "markdown",
   "metadata": {},
   "source": [
    "## 1. Getting started <a name=\"section-1\"></a>\n",
    "\n",
    "### 1.1 Jupyter Notebooks\n",
    "[Jupyter Notebooks](https://jupyter-notebook.readthedocs.io/en/latest/) are interactive computing environments that allow you to create and share documents containing live code, equations, visualizations, and narrative text. They are widely used in data science, research, and education due to their versatility and ease of use.\n",
    "\n",
    "Jupyter Notebooks consist of cells which can contain code, text, or visualizations."
   ]
  },
  {
   "cell_type": "markdown",
   "metadata": {},
   "source": [
    "#### Running a Cell:\n",
    "Click on the cell below, and you'll notice a border around it. To run the code within the cell, press **Shift + Enter** or use the \"Run\" button in the toolbar above.\n"
   ]
  },
  {
   "cell_type": "code",
   "execution_count": 1,
   "metadata": {},
   "outputs": [
    {
     "name": "stdout",
     "output_type": "stream",
     "text": [
      "Welcome to the training!\n"
     ]
    }
   ],
   "source": [
    "print('Welcome to the training!')"
   ]
  },
  {
   "cell_type": "markdown",
   "metadata": {},
   "source": [
    "#### Creating variables:"
   ]
  },
  {
   "cell_type": "code",
   "execution_count": 2,
   "metadata": {},
   "outputs": [
    {
     "name": "stdout",
     "output_type": "stream",
     "text": [
      "let's start coding\n"
     ]
    }
   ],
   "source": [
    "var = \"let's start coding\"\n",
    "\n",
    "print(var)"
   ]
  },
  {
   "cell_type": "markdown",
   "metadata": {},
   "source": [
    "#### Use functions"
   ]
  },
  {
   "cell_type": "code",
   "execution_count": 3,
   "metadata": {},
   "outputs": [
    {
     "name": "stdout",
     "output_type": "stream",
     "text": [
      "3\n"
     ]
    }
   ],
   "source": [
    "def add(a,b):\n",
    "    return a+b\n",
    "\n",
    "print(add(1,2))"
   ]
  },
  {
   "cell_type": "markdown",
   "metadata": {},
   "source": [
    "#### Saving and Closing:\n",
    "Remember to save your work by using **Ctrl + S**. You can close a notebook when you're done, and the changes will be saved."
   ]
  },
  {
   "cell_type": "markdown",
   "metadata": {},
   "source": [
    "## 2.  Introduction to Application Programming Interfaces (APIs)\n",
    "\n",
    "\n",
    "### 2.1 REST APIs\n",
    "\n",
    "An API (Application Programming Interface) is a protocol that defines how systems can communicate with each other. A REST API is built following the design principles of Representational State Transfer (REST). REST is very flexible, and therefore, it can be found all over the internet. It uses standard HTTP protocols, which are:\n",
    "\n",
    "\n",
    "<img src=\"data/images/api.png\" width=\"50%\"/>\n",
    "\n",
    "\n",
    "\n",
    "- **GET**: Retrieve data from a specified resource.\n",
    "\n",
    "- **POST**: Create a new resource.\n",
    "\n",
    "- **PUT**: Update an existing resource.\n",
    "\n",
    "- **DELETE**: Remove a resource.\n",
    "\n",
    "An API needs an endpoint, which is a specific URL to which the API sends requests and from which it receives responses. In simpler terms, an API endpoint is a designated route or path on a server that the API uses to perform a particular function. Each endpoint represents a specific operation or resource in the API.\n"
   ]
  },
  {
   "cell_type": "code",
   "execution_count": 4,
   "metadata": {},
   "outputs": [
    {
     "name": "stdout",
     "output_type": "stream",
     "text": [
      "200\n"
     ]
    }
   ],
   "source": [
    "import requests\n",
    "\n",
    "url = 'https://www.google.com'\n",
    "\n",
    "r = requests.get(url)\n",
    "\n",
    "print(r.status_code)\n"
   ]
  },
  {
   "cell_type": "markdown",
   "metadata": {},
   "source": [
    "When a request fails or was successful, a HTTP status code is returned. Here is a list of status code that give information about the status of the request\n",
    "\n",
    "- **200**: OK\n",
    "The request was successful. \n",
    "\n",
    "- **400**: Bad request\n",
    "The request cannot be fulfilled due to incorrect syntax or invalid parameters.\n",
    "\n",
    "- **401**: Unauthorized \n",
    "Authentication is required, and the provided credentials are invalid.\n",
    "\n",
    "- **403**: Forbidden\n",
    "The server understood the request, but it refuses to authorize it.\n",
    "\n",
    "- **404**: Not Found\n",
    "The requested resource could not be found on the server.\n",
    "\n",
    "- **500**: Internal Server Error\n",
    "The requested resource could not be found on the server.\n",
    "\n"
   ]
  },
  {
   "cell_type": "code",
   "execution_count": 5,
   "metadata": {},
   "outputs": [
    {
     "name": "stdout",
     "output_type": "stream",
     "text": [
      "https://httpbin.org/get?key1=value1&key2=value2\n"
     ]
    }
   ],
   "source": [
    "# Define a dictionary 'params' with key-value pairs to be inluded in the query sparameters\n",
    "params = {\"key1\": \"value1\", \"key2\": \"value2\"}\n",
    "\n",
    "# Define a dictionary 'headers' to include additional headers int the GET request\n",
    "headers = {\"user-name\": \"password123\"}\n",
    "\n",
    "# Use the 'request.get()' method to make a GET request to the specified URL 'https://httpbin.org/get'\n",
    "# Include the defined 'params' and 'headers' in the request\n",
    "r = requests.get('https://httpbin.org/get', params=params, headers=headers)\n",
    "\n",
    "print(r.url)"
   ]
  },
  {
   "cell_type": "markdown",
   "metadata": {},
   "source": [
    "## 3. TAHMO station API <a name=\"section-2\"></a>\n",
    "\n",
    "In this section we will use the TAHMO API endpoint and retrieve data for a variety of variables. We will create an interactive visualization of the precipitation that was measured throughout this year at one of the stations. The Trans-African Hydro-Meteorological Observatory (TAHMO) maintains a network of weather stations across Africa. The data of these stations can be retrieved using the API. We can use the API-V2 client that can be found on the TAHMO GitHub page (https://github.com/TAHMO/API-V2-Python-examples). "
   ]
  },
  {
   "cell_type": "code",
   "execution_count": 6,
   "metadata": {},
   "outputs": [
    {
     "data": {
      "text/html": [
       "\n",
       "        <iframe\n",
       "            width=\"75%\"\n",
       "            height=\"400\"\n",
       "            src=\"https://tahmo.org/\"\n",
       "            frameborder=\"0\"\n",
       "            allowfullscreen\n",
       "            \n",
       "        ></iframe>\n",
       "        "
      ],
      "text/plain": [
       "<IPython.lib.display.IFrame at 0x7f21f2becc10>"
      ]
     },
     "execution_count": 6,
     "metadata": {},
     "output_type": "execute_result"
    }
   ],
   "source": [
    "\n",
    "# Look around at the TAHMO website\n",
    "\n",
    "from IPython.display import IFrame\n",
    "IFrame(\"https://tahmo.org/\", '75%',400)"
   ]
  },
  {
   "cell_type": "code",
   "execution_count": 7,
   "metadata": {},
   "outputs": [],
   "source": [
    "# Import the TAHMO module\n",
    "import TAHMO\n",
    "\n",
    "# The demo credentials listed below give you access to three pre-defined stations. \n",
    "api = TAHMO.apiWrapper()\n",
    "\n",
    "# set the credentials\n",
    "api.setCredentials('demo', 'DemoPassword1!')"
   ]
  },
  {
   "cell_type": "markdown",
   "metadata": {},
   "source": [
    "In the cell below we can list all the TAHMO stations that we have access to. Also we can list al the variables that are recorded by the weather stations."
   ]
  },
  {
   "cell_type": "code",
   "execution_count": 8,
   "metadata": {},
   "outputs": [
    {
     "name": "stdout",
     "output_type": "stream",
     "text": [
      "API request: services/assets/v2/stations\n",
      "Account has access to stations: TA00134, TA00252, TA00567\n"
     ]
    }
   ],
   "source": [
    "# list other stations that are available\n",
    "stations = api.getStations()\n",
    "print('Account has access to stations: %s' % ', '.join(list(stations)))"
   ]
  },
  {
   "cell_type": "code",
   "execution_count": 9,
   "metadata": {},
   "outputs": [
    {
     "data": {
      "text/plain": [
       "['TA00134', 'TA00252', 'TA00567']"
      ]
     },
     "execution_count": 9,
     "metadata": {},
     "output_type": "execute_result"
    }
   ],
   "source": [
    "list(stations)"
   ]
  },
  {
   "cell_type": "markdown",
   "metadata": {},
   "source": [
    "### 3.2 Variables"
   ]
  },
  {
   "cell_type": "code",
   "execution_count": 10,
   "metadata": {},
   "outputs": [
    {
     "name": "stdout",
     "output_type": "stream",
     "text": [
      "API request: services/assets/v2/variables\n"
     ]
    },
    {
     "name": "stdout",
     "output_type": "stream",
     "text": [
      "Atmospheric pressure kPa with shortcode \"ap\"\n",
      "Depth of water mm with shortcode \"dw\"\n",
      "Electrical conductivity of precipitation mS/cm with shortcode \"ec\"\n",
      "Electrical conductivity of water mS/cm with shortcode \"ew\"\n",
      "Lightning distance km with shortcode \"ld\"\n",
      "Lightning events - with shortcode \"le\"\n",
      "Shortwave radiation W/m2 with shortcode \"ra\"\n",
      "Soil moisture content m3/m3 with shortcode \"sm\"\n",
      "Soil temperature degrees Celsius with shortcode \"st\"\n",
      "Surface air temperature degrees Celsius with shortcode \"te\"\n",
      "Vapor pressure kPa with shortcode \"vp\"\n",
      "Wind gusts m/s with shortcode \"wg\"\n",
      "Wind speed m/s with shortcode \"ws\"\n",
      "Temperature of humidity sensor degrees Celsius with shortcode \"ht\"\n",
      "X-axis level degrees with shortcode \"tx\"\n",
      "Y-axis level degrees with shortcode \"ty\"\n",
      "Logger battery percentage - with shortcode \"lb\"\n",
      "Logger reference pressure kPa with shortcode \"lp\"\n",
      "Logger temperature degrees Celsius with shortcode \"lt\"\n",
      "Cumulative precipitation mm with shortcode \"cp\"\n",
      "Water level m with shortcode \"wl\"\n",
      "Water velocity m/s with shortcode \"wv\"\n",
      "Precipitation mm with shortcode \"pr\"\n",
      "Relative humidity - with shortcode \"rh\"\n",
      "Wind direction degrees with shortcode \"wd\"\n",
      "Soil electrical conductivity mS/cm with shortcode \"se\"\n",
      "Water temperature degrees Celsius with shortcode \"tw\"\n",
      "Water discharge m3/s with shortcode \"wq\"\n",
      "Matric potential kPa with shortcode \"mp\"\n"
     ]
    }
   ],
   "source": [
    "# list available variables\n",
    "\n",
    "variables = api.getVariables()\n",
    "\n",
    "for variable in variables:\n",
    "    print(f'{variables[variable][\"description\"]} {variables[variable][\"units\"]} with shortcode \"{variables[variable][\"shortcode\"]}\"')"
   ]
  },
  {
   "cell_type": "markdown",
   "metadata": {},
   "source": [
    "Let's take one of the stations and retrieve the name of the weather stations and the geographical coordinates of the station:"
   ]
  },
  {
   "cell_type": "markdown",
   "metadata": {},
   "source": [
    "### 3.2\tRetrieve and plot daily precipitation data"
   ]
  },
  {
   "cell_type": "code",
   "execution_count": 11,
   "metadata": {},
   "outputs": [
    {
     "name": "stdout",
     "output_type": "stream",
     "text": [
      "API request: services/assets/v2/stations\n",
      "\n",
      "Station name =  Accra Girls SHS\n",
      "Longitude =  -0.19\n",
      "Latitude =  5.60\n"
     ]
    }
   ],
   "source": [
    "# choose a station\n",
    "station = 'TA00567'\n",
    "\n",
    "# get the data\n",
    "station_data = api.getStations()[station]\n",
    "\n",
    "print()\n",
    "print( f\"Station name =  {station_data['location']['name']}\")\n",
    "print( f\"Longitude =  {station_data['location']['longitude']:.02f}\")\n",
    "print( f\"Latitude =  {station_data['location']['latitude']:.02f}\")"
   ]
  },
  {
   "cell_type": "code",
   "execution_count": 12,
   "metadata": {},
   "outputs": [
    {
     "name": "stdout",
     "output_type": "stream",
     "text": [
      "API request: services/measurements/v2/stations/TA00567/measurements/controlled\n"
     ]
    },
    {
     "data": {
      "text/html": [
       "<div>\n",
       "<style scoped>\n",
       "    .dataframe tbody tr th:only-of-type {\n",
       "        vertical-align: middle;\n",
       "    }\n",
       "\n",
       "    .dataframe tbody tr th {\n",
       "        vertical-align: top;\n",
       "    }\n",
       "\n",
       "    .dataframe thead th {\n",
       "        text-align: right;\n",
       "    }\n",
       "</style>\n",
       "<table border=\"1\" class=\"dataframe\">\n",
       "  <thead>\n",
       "    <tr style=\"text-align: right;\">\n",
       "      <th></th>\n",
       "      <th>pr</th>\n",
       "    </tr>\n",
       "    <tr>\n",
       "      <th>Timestamp</th>\n",
       "      <th></th>\n",
       "    </tr>\n",
       "  </thead>\n",
       "  <tbody>\n",
       "    <tr>\n",
       "      <th>2023-01-01 00:00:00+00:00</th>\n",
       "      <td>0.0</td>\n",
       "    </tr>\n",
       "    <tr>\n",
       "      <th>2023-01-01 00:05:00+00:00</th>\n",
       "      <td>0.0</td>\n",
       "    </tr>\n",
       "    <tr>\n",
       "      <th>2023-01-01 00:10:00+00:00</th>\n",
       "      <td>0.0</td>\n",
       "    </tr>\n",
       "    <tr>\n",
       "      <th>2023-01-01 00:15:00+00:00</th>\n",
       "      <td>0.0</td>\n",
       "    </tr>\n",
       "    <tr>\n",
       "      <th>2023-01-01 00:20:00+00:00</th>\n",
       "      <td>0.0</td>\n",
       "    </tr>\n",
       "  </tbody>\n",
       "</table>\n",
       "</div>"
      ],
      "text/plain": [
       "                            pr\n",
       "Timestamp                     \n",
       "2023-01-01 00:00:00+00:00  0.0\n",
       "2023-01-01 00:05:00+00:00  0.0\n",
       "2023-01-01 00:10:00+00:00  0.0\n",
       "2023-01-01 00:15:00+00:00  0.0\n",
       "2023-01-01 00:20:00+00:00  0.0"
      ]
     },
     "execution_count": 12,
     "metadata": {},
     "output_type": "execute_result"
    }
   ],
   "source": [
    "# Example 3: Retrieve a pandas dataframe containing the time serie of surface air observations and save to CSV file.\n",
    "\n",
    "startDate = '2023-01-01'\n",
    "endDate = '2023-11-22'\n",
    "variables = ['pr']\n",
    "\n",
    "df_tahmo = api.getMeasurements(station, startDate=startDate, endDate=endDate, variables=variables)\n",
    "df_tahmo.index.name = 'Timestamp'\n",
    "\n",
    "df_tahmo.head()\n"
   ]
  },
  {
   "cell_type": "code",
   "execution_count": 13,
   "metadata": {},
   "outputs": [
    {
     "data": {
      "text/html": [
       "<div>\n",
       "<style scoped>\n",
       "    .dataframe tbody tr th:only-of-type {\n",
       "        vertical-align: middle;\n",
       "    }\n",
       "\n",
       "    .dataframe tbody tr th {\n",
       "        vertical-align: top;\n",
       "    }\n",
       "\n",
       "    .dataframe thead th {\n",
       "        text-align: right;\n",
       "    }\n",
       "</style>\n",
       "<table border=\"1\" class=\"dataframe\">\n",
       "  <thead>\n",
       "    <tr style=\"text-align: right;\">\n",
       "      <th></th>\n",
       "      <th>date</th>\n",
       "      <th>precipitation</th>\n",
       "    </tr>\n",
       "  </thead>\n",
       "  <tbody>\n",
       "    <tr>\n",
       "      <th>0</th>\n",
       "      <td>2023-01-01</td>\n",
       "      <td>0.0</td>\n",
       "    </tr>\n",
       "    <tr>\n",
       "      <th>1</th>\n",
       "      <td>2023-01-02</td>\n",
       "      <td>0.0</td>\n",
       "    </tr>\n",
       "    <tr>\n",
       "      <th>2</th>\n",
       "      <td>2023-01-03</td>\n",
       "      <td>0.0</td>\n",
       "    </tr>\n",
       "    <tr>\n",
       "      <th>3</th>\n",
       "      <td>2023-01-04</td>\n",
       "      <td>0.0</td>\n",
       "    </tr>\n",
       "    <tr>\n",
       "      <th>4</th>\n",
       "      <td>2023-01-05</td>\n",
       "      <td>0.0</td>\n",
       "    </tr>\n",
       "  </tbody>\n",
       "</table>\n",
       "</div>"
      ],
      "text/plain": [
       "        date  precipitation\n",
       "0 2023-01-01            0.0\n",
       "1 2023-01-02            0.0\n",
       "2 2023-01-03            0.0\n",
       "3 2023-01-04            0.0\n",
       "4 2023-01-05            0.0"
      ]
     },
     "execution_count": 13,
     "metadata": {},
     "output_type": "execute_result"
    }
   ],
   "source": [
    "import pandas as pd\n",
    "\n",
    "def process_tahmo_precip_data(df):\n",
    "    \"\"\"Load the precipitation data from the TAHMO API and return a pandas dataframe\"\"\"\n",
    "    df = df.reset_index().rename(columns={\"Timestamp\" : \"date\", \"pr\": \"precipitation\"})\n",
    "    df['date'] = pd.to_datetime(df['date'])\n",
    "    df.loc[:,'date'] = df['date'].dt.date\n",
    "    df = df.groupby('date').sum().reset_index().dropna()\n",
    "    df['date'] = pd.to_datetime(df['date'])\n",
    "    return df\n",
    "\n",
    "df_tahmo = process_tahmo_precip_data(df_tahmo)\n",
    "df_tahmo.head()\n",
    "\n"
   ]
  },
  {
   "cell_type": "markdown",
   "metadata": {},
   "source": [
    "[Vega-Altair](https://altair-viz.github.io/)  is a handy Python library that allows you to create statistical visualizations using declarative principles without complex programming code. It provides a straightforward way to quickly generate various types of charts.\n",
    "\n",
    "Altair is built on  [Vega-Lite](https://vega.github.io/vega-lite/), which is a Grammar of Interactive Graphics. Vega-Altair provides a user-friendly way to use this through Python, storing the graphical specifications in JSON (JavaScript Object Notation) format. You can directly view these specifications in any web browser, and coding is easy in JupyterLab, Jupyter Notebook, Microsoft VS-Code, and Google Colab."
   ]
  },
  {
   "cell_type": "code",
   "execution_count": 14,
   "metadata": {},
   "outputs": [
    {
     "data": {
      "text/html": [
       "\n",
       "<style>\n",
       "  #altair-viz-25f7b98b07a34a3798bc78bd5b32d581.vega-embed {\n",
       "    width: 100%;\n",
       "    display: flex;\n",
       "  }\n",
       "\n",
       "  #altair-viz-25f7b98b07a34a3798bc78bd5b32d581.vega-embed details,\n",
       "  #altair-viz-25f7b98b07a34a3798bc78bd5b32d581.vega-embed details summary {\n",
       "    position: relative;\n",
       "  }\n",
       "</style>\n",
       "<div id=\"altair-viz-25f7b98b07a34a3798bc78bd5b32d581\"></div>\n",
       "<script type=\"text/javascript\">\n",
       "  var VEGA_DEBUG = (typeof VEGA_DEBUG == \"undefined\") ? {} : VEGA_DEBUG;\n",
       "  (function(spec, embedOpt){\n",
       "    let outputDiv = document.currentScript.previousElementSibling;\n",
       "    if (outputDiv.id !== \"altair-viz-25f7b98b07a34a3798bc78bd5b32d581\") {\n",
       "      outputDiv = document.getElementById(\"altair-viz-25f7b98b07a34a3798bc78bd5b32d581\");\n",
       "    }\n",
       "    const paths = {\n",
       "      \"vega\": \"https://cdn.jsdelivr.net/npm/vega@5?noext\",\n",
       "      \"vega-lib\": \"https://cdn.jsdelivr.net/npm/vega-lib?noext\",\n",
       "      \"vega-lite\": \"https://cdn.jsdelivr.net/npm/vega-lite@5.15.1?noext\",\n",
       "      \"vega-embed\": \"https://cdn.jsdelivr.net/npm/vega-embed@6?noext\",\n",
       "    };\n",
       "\n",
       "    function maybeLoadScript(lib, version) {\n",
       "      var key = `${lib.replace(\"-\", \"\")}_version`;\n",
       "      return (VEGA_DEBUG[key] == version) ?\n",
       "        Promise.resolve(paths[lib]) :\n",
       "        new Promise(function(resolve, reject) {\n",
       "          var s = document.createElement('script');\n",
       "          document.getElementsByTagName(\"head\")[0].appendChild(s);\n",
       "          s.async = true;\n",
       "          s.onload = () => {\n",
       "            VEGA_DEBUG[key] = version;\n",
       "            return resolve(paths[lib]);\n",
       "          };\n",
       "          s.onerror = () => reject(`Error loading script: ${paths[lib]}`);\n",
       "          s.src = paths[lib];\n",
       "        });\n",
       "    }\n",
       "\n",
       "    function showError(err) {\n",
       "      outputDiv.innerHTML = `<div class=\"error\" style=\"color:red;\">${err}</div>`;\n",
       "      throw err;\n",
       "    }\n",
       "\n",
       "    function displayChart(vegaEmbed) {\n",
       "      vegaEmbed(outputDiv, spec, embedOpt)\n",
       "        .catch(err => showError(`Javascript Error: ${err.message}<br>This usually means there's a typo in your chart specification. See the javascript console for the full traceback.`));\n",
       "    }\n",
       "\n",
       "    if(typeof define === \"function\" && define.amd) {\n",
       "      requirejs.config({paths});\n",
       "      require([\"vega-embed\"], displayChart, err => showError(`Error loading script: ${err.message}`));\n",
       "    } else {\n",
       "      maybeLoadScript(\"vega\", \"5\")\n",
       "        .then(() => maybeLoadScript(\"vega-lite\", \"5.15.1\"))\n",
       "        .then(() => maybeLoadScript(\"vega-embed\", \"6\"))\n",
       "        .catch(showError)\n",
       "        .then(() => displayChart(vegaEmbed));\n",
       "    }\n",
       "  })({\"config\": {\"view\": {\"continuousWidth\": 300, \"continuousHeight\": 300}}, \"data\": {\"name\": \"data-9767d84b2cceb8979a69d0c7d9968634\"}, \"mark\": {\"type\": \"bar\"}, \"encoding\": {\"tooltip\": [{\"field\": \"precipitation\", \"type\": \"quantitative\"}, {\"field\": \"date\", \"type\": \"temporal\"}], \"x\": {\"field\": \"date\", \"type\": \"temporal\"}, \"y\": {\"field\": \"precipitation\", \"type\": \"quantitative\"}}, \"height\": 200, \"params\": [{\"name\": \"param_1\", \"select\": {\"type\": \"interval\", \"encodings\": [\"x\", \"y\"]}, \"bind\": \"scales\"}], \"width\": 1200, \"$schema\": \"https://vega.github.io/schema/vega-lite/v5.15.1.json\", \"datasets\": {\"data-9767d84b2cceb8979a69d0c7d9968634\": [{\"date\": \"2023-01-01T00:00:00\", \"precipitation\": 0.0}, {\"date\": \"2023-01-02T00:00:00\", \"precipitation\": 0.0}, {\"date\": \"2023-01-03T00:00:00\", \"precipitation\": 0.0}, {\"date\": \"2023-01-04T00:00:00\", \"precipitation\": 0.0}, {\"date\": \"2023-01-05T00:00:00\", \"precipitation\": 0.0}, {\"date\": \"2023-01-06T00:00:00\", \"precipitation\": 0.0}, {\"date\": \"2023-01-07T00:00:00\", \"precipitation\": 0.0}, {\"date\": \"2023-01-08T00:00:00\", \"precipitation\": 0.0}, {\"date\": \"2023-01-09T00:00:00\", \"precipitation\": 0.0}, {\"date\": \"2023-01-10T00:00:00\", \"precipitation\": 0.0}, {\"date\": \"2023-01-11T00:00:00\", \"precipitation\": 0.0}, {\"date\": \"2023-01-12T00:00:00\", \"precipitation\": 0.0}, {\"date\": \"2023-01-13T00:00:00\", \"precipitation\": 0.0}, {\"date\": \"2023-01-14T00:00:00\", \"precipitation\": 0.0}, {\"date\": \"2023-01-15T00:00:00\", \"precipitation\": 0.0}, {\"date\": \"2023-01-16T00:00:00\", \"precipitation\": 0.0}, {\"date\": \"2023-01-17T00:00:00\", \"precipitation\": 0.0}, {\"date\": \"2023-01-18T00:00:00\", \"precipitation\": 0.0}, {\"date\": \"2023-01-19T00:00:00\", \"precipitation\": 0.0}, {\"date\": \"2023-01-20T00:00:00\", \"precipitation\": 0.0}, {\"date\": \"2023-01-21T00:00:00\", \"precipitation\": 0.0}, {\"date\": \"2023-01-22T00:00:00\", \"precipitation\": 0.0}, {\"date\": \"2023-01-23T00:00:00\", \"precipitation\": 0.0}, {\"date\": \"2023-01-24T00:00:00\", \"precipitation\": 0.0}, {\"date\": \"2023-01-25T00:00:00\", \"precipitation\": 0.0}, {\"date\": \"2023-01-26T00:00:00\", \"precipitation\": 0.0}, {\"date\": \"2023-01-27T00:00:00\", \"precipitation\": 0.0}, {\"date\": \"2023-01-28T00:00:00\", \"precipitation\": 0.0}, {\"date\": \"2023-01-29T00:00:00\", \"precipitation\": 0.0}, {\"date\": \"2023-01-30T00:00:00\", \"precipitation\": 0.0}, {\"date\": \"2023-01-31T00:00:00\", \"precipitation\": 0.0}, {\"date\": \"2023-02-01T00:00:00\", \"precipitation\": 0.051000000000000004}, {\"date\": \"2023-02-02T00:00:00\", \"precipitation\": 0.051000000000000004}, {\"date\": \"2023-02-03T00:00:00\", \"precipitation\": 0.0}, {\"date\": \"2023-02-04T00:00:00\", \"precipitation\": 0.119}, {\"date\": \"2023-02-05T00:00:00\", \"precipitation\": 0.6130000000000001}, {\"date\": \"2023-02-06T00:00:00\", \"precipitation\": 0.0}, {\"date\": \"2023-02-07T00:00:00\", \"precipitation\": 0.221}, {\"date\": \"2023-02-08T00:00:00\", \"precipitation\": 0.0}, {\"date\": \"2023-02-09T00:00:00\", \"precipitation\": 0.0}, {\"date\": \"2023-02-10T00:00:00\", \"precipitation\": 0.0}, {\"date\": \"2023-02-11T00:00:00\", \"precipitation\": 0.0}, {\"date\": \"2023-02-12T00:00:00\", \"precipitation\": 0.0}, {\"date\": \"2023-02-13T00:00:00\", \"precipitation\": 0.0}, {\"date\": \"2023-02-14T00:00:00\", \"precipitation\": 0.0}, {\"date\": \"2023-02-15T00:00:00\", \"precipitation\": 0.0}, {\"date\": \"2023-02-16T00:00:00\", \"precipitation\": 0.0}, {\"date\": \"2023-02-17T00:00:00\", \"precipitation\": 0.0}, {\"date\": \"2023-02-18T00:00:00\", \"precipitation\": 0.0}, {\"date\": \"2023-02-19T00:00:00\", \"precipitation\": 0.0}, {\"date\": \"2023-02-20T00:00:00\", \"precipitation\": 0.0}, {\"date\": \"2023-02-21T00:00:00\", \"precipitation\": 0.0}, {\"date\": \"2023-02-22T00:00:00\", \"precipitation\": 0.0}, {\"date\": \"2023-02-23T00:00:00\", \"precipitation\": 0.0}, {\"date\": \"2023-02-24T00:00:00\", \"precipitation\": 0.0}, {\"date\": \"2023-02-25T00:00:00\", \"precipitation\": 0.8}, {\"date\": \"2023-02-26T00:00:00\", \"precipitation\": 29.493}, {\"date\": \"2023-02-27T00:00:00\", \"precipitation\": 0.0}, {\"date\": \"2023-02-28T00:00:00\", \"precipitation\": 0.0}, {\"date\": \"2023-03-01T00:00:00\", \"precipitation\": 0.0}, {\"date\": \"2023-03-02T00:00:00\", \"precipitation\": 0.0}, {\"date\": \"2023-03-03T00:00:00\", \"precipitation\": 0.0}, {\"date\": \"2023-03-04T00:00:00\", \"precipitation\": 0.0}, {\"date\": \"2023-03-05T00:00:00\", \"precipitation\": 0.0}, {\"date\": \"2023-03-06T00:00:00\", \"precipitation\": 0.0}, {\"date\": \"2023-03-07T00:00:00\", \"precipitation\": 81.836}, {\"date\": \"2023-03-08T00:00:00\", \"precipitation\": 0.0}, {\"date\": \"2023-03-09T00:00:00\", \"precipitation\": 0.0}, {\"date\": \"2023-03-10T00:00:00\", \"precipitation\": 0.0}, {\"date\": \"2023-03-11T00:00:00\", \"precipitation\": 0.0}, {\"date\": \"2023-03-12T00:00:00\", \"precipitation\": 0.0}, {\"date\": \"2023-03-13T00:00:00\", \"precipitation\": 0.0}, {\"date\": \"2023-03-14T00:00:00\", \"precipitation\": 0.0}, {\"date\": \"2023-03-15T00:00:00\", \"precipitation\": 0.0}, {\"date\": \"2023-03-16T00:00:00\", \"precipitation\": 2.962}, {\"date\": \"2023-03-17T00:00:00\", \"precipitation\": 0.0}, {\"date\": \"2023-03-18T00:00:00\", \"precipitation\": 28.009}, {\"date\": \"2023-03-19T00:00:00\", \"precipitation\": 0.0}, {\"date\": \"2023-03-20T00:00:00\", \"precipitation\": 0.0}, {\"date\": \"2023-03-21T00:00:00\", \"precipitation\": 0.0}, {\"date\": \"2023-03-22T00:00:00\", \"precipitation\": 25.01}, {\"date\": \"2023-03-23T00:00:00\", \"precipitation\": 1.378}, {\"date\": \"2023-03-24T00:00:00\", \"precipitation\": 5.916}, {\"date\": \"2023-03-25T00:00:00\", \"precipitation\": 0.0}, {\"date\": \"2023-03-26T00:00:00\", \"precipitation\": 0.0}, {\"date\": \"2023-03-27T00:00:00\", \"precipitation\": 0.0}, {\"date\": \"2023-03-28T00:00:00\", \"precipitation\": 0.0}, {\"date\": \"2023-03-29T00:00:00\", \"precipitation\": 0.0}, {\"date\": \"2023-03-30T00:00:00\", \"precipitation\": 0.0}, {\"date\": \"2023-03-31T00:00:00\", \"precipitation\": 0.0}, {\"date\": \"2023-04-01T00:00:00\", \"precipitation\": 0.0}, {\"date\": \"2023-04-02T00:00:00\", \"precipitation\": 0.0}, {\"date\": \"2023-04-03T00:00:00\", \"precipitation\": 0.0}, {\"date\": \"2023-04-04T00:00:00\", \"precipitation\": 38.800999999999995}, {\"date\": \"2023-04-05T00:00:00\", \"precipitation\": 0.0}, {\"date\": \"2023-04-06T00:00:00\", \"precipitation\": 0.0}, {\"date\": \"2023-04-07T00:00:00\", \"precipitation\": 0.0}, {\"date\": \"2023-04-08T00:00:00\", \"precipitation\": 2.604}, {\"date\": \"2023-04-09T00:00:00\", \"precipitation\": 0.357}, {\"date\": \"2023-04-10T00:00:00\", \"precipitation\": 0.0}, {\"date\": \"2023-04-11T00:00:00\", \"precipitation\": 0.10200000000000001}, {\"date\": \"2023-04-12T00:00:00\", \"precipitation\": 0.731}, {\"date\": \"2023-04-13T00:00:00\", \"precipitation\": 0.0}, {\"date\": \"2023-04-14T00:00:00\", \"precipitation\": 0.0}, {\"date\": \"2023-04-15T00:00:00\", \"precipitation\": 0.0}, {\"date\": \"2023-04-16T00:00:00\", \"precipitation\": 0.0}, {\"date\": \"2023-04-17T00:00:00\", \"precipitation\": 13.161}, {\"date\": \"2023-04-18T00:00:00\", \"precipitation\": 0.0}, {\"date\": \"2023-04-19T00:00:00\", \"precipitation\": 0.0}, {\"date\": \"2023-04-20T00:00:00\", \"precipitation\": 0.0}, {\"date\": \"2023-04-21T00:00:00\", \"precipitation\": 0.0}, {\"date\": \"2023-04-22T00:00:00\", \"precipitation\": 0.068}, {\"date\": \"2023-04-23T00:00:00\", \"precipitation\": 0.0}, {\"date\": \"2023-04-24T00:00:00\", \"precipitation\": 10.328}, {\"date\": \"2023-04-25T00:00:00\", \"precipitation\": 0.0}, {\"date\": \"2023-04-26T00:00:00\", \"precipitation\": 0.0}, {\"date\": \"2023-04-27T00:00:00\", \"precipitation\": 61.139}, {\"date\": \"2023-04-28T00:00:00\", \"precipitation\": 0.15300000000000002}, {\"date\": \"2023-04-29T00:00:00\", \"precipitation\": 4.542}, {\"date\": \"2023-04-30T00:00:00\", \"precipitation\": 0.459}, {\"date\": \"2023-05-01T00:00:00\", \"precipitation\": 0.0}, {\"date\": \"2023-05-02T00:00:00\", \"precipitation\": 0.0}, {\"date\": \"2023-05-03T00:00:00\", \"precipitation\": 0.0}, {\"date\": \"2023-05-04T00:00:00\", \"precipitation\": 0.0}, {\"date\": \"2023-05-05T00:00:00\", \"precipitation\": 0.0}, {\"date\": \"2023-05-06T00:00:00\", \"precipitation\": 20.279}, {\"date\": \"2023-05-07T00:00:00\", \"precipitation\": 0.0}, {\"date\": \"2023-05-08T00:00:00\", \"precipitation\": 0.0}, {\"date\": \"2023-05-09T00:00:00\", \"precipitation\": 0.0}, {\"date\": \"2023-05-10T00:00:00\", \"precipitation\": 0.0}, {\"date\": \"2023-05-11T00:00:00\", \"precipitation\": 0.0}, {\"date\": \"2023-05-12T00:00:00\", \"precipitation\": 1.974}, {\"date\": \"2023-05-13T00:00:00\", \"precipitation\": 0.0}, {\"date\": \"2023-05-14T00:00:00\", \"precipitation\": 31.134999999999998}, {\"date\": \"2023-05-15T00:00:00\", \"precipitation\": 0.0}, {\"date\": \"2023-05-16T00:00:00\", \"precipitation\": 0.0}, {\"date\": \"2023-05-17T00:00:00\", \"precipitation\": 0.0}, {\"date\": \"2023-05-18T00:00:00\", \"precipitation\": 0.0}, {\"date\": \"2023-05-19T00:00:00\", \"precipitation\": 0.017}, {\"date\": \"2023-05-20T00:00:00\", \"precipitation\": 1.599}, {\"date\": \"2023-05-21T00:00:00\", \"precipitation\": 24.273000000000003}, {\"date\": \"2023-05-22T00:00:00\", \"precipitation\": 0.0}, {\"date\": \"2023-05-23T00:00:00\", \"precipitation\": 0.0}, {\"date\": \"2023-05-24T00:00:00\", \"precipitation\": 0.0}, {\"date\": \"2023-05-25T00:00:00\", \"precipitation\": 0.0}, {\"date\": \"2023-05-26T00:00:00\", \"precipitation\": 0.0}, {\"date\": \"2023-05-27T00:00:00\", \"precipitation\": 2.584}, {\"date\": \"2023-05-28T00:00:00\", \"precipitation\": 0.017}, {\"date\": \"2023-05-29T00:00:00\", \"precipitation\": 6.889}, {\"date\": \"2023-05-30T00:00:00\", \"precipitation\": 0.0}, {\"date\": \"2023-05-31T00:00:00\", \"precipitation\": 5.394}, {\"date\": \"2023-06-01T00:00:00\", \"precipitation\": 20.151}, {\"date\": \"2023-06-02T00:00:00\", \"precipitation\": 20.71}, {\"date\": \"2023-06-03T00:00:00\", \"precipitation\": 1.105}, {\"date\": \"2023-06-04T00:00:00\", \"precipitation\": 0.204}, {\"date\": \"2023-06-05T00:00:00\", \"precipitation\": 0.0}, {\"date\": \"2023-06-06T00:00:00\", \"precipitation\": 24.449}, {\"date\": \"2023-06-07T00:00:00\", \"precipitation\": 5.1}, {\"date\": \"2023-06-08T00:00:00\", \"precipitation\": 0.7310000000000001}, {\"date\": \"2023-06-09T00:00:00\", \"precipitation\": 0.0}, {\"date\": \"2023-06-10T00:00:00\", \"precipitation\": 0.0}, {\"date\": \"2023-06-11T00:00:00\", \"precipitation\": 4.132}, {\"date\": \"2023-06-12T00:00:00\", \"precipitation\": 0.0}, {\"date\": \"2023-06-13T00:00:00\", \"precipitation\": 0.0}, {\"date\": \"2023-06-14T00:00:00\", \"precipitation\": 0.0}, {\"date\": \"2023-06-15T00:00:00\", \"precipitation\": 0.0}, {\"date\": \"2023-06-16T00:00:00\", \"precipitation\": 0.0}, {\"date\": \"2023-06-17T00:00:00\", \"precipitation\": 0.0}, {\"date\": \"2023-06-18T00:00:00\", \"precipitation\": 0.0}, {\"date\": \"2023-06-19T00:00:00\", \"precipitation\": 1.241}, {\"date\": \"2023-06-20T00:00:00\", \"precipitation\": 0.0}, {\"date\": \"2023-06-21T00:00:00\", \"precipitation\": 29.925}, {\"date\": \"2023-06-22T00:00:00\", \"precipitation\": 0.0}, {\"date\": \"2023-06-23T00:00:00\", \"precipitation\": 16.165}, {\"date\": \"2023-06-24T00:00:00\", \"precipitation\": 0.136}, {\"date\": \"2023-06-25T00:00:00\", \"precipitation\": 1.037}, {\"date\": \"2023-06-26T00:00:00\", \"precipitation\": 0.0}, {\"date\": \"2023-06-27T00:00:00\", \"precipitation\": 0.0}, {\"date\": \"2023-06-28T00:00:00\", \"precipitation\": 0.0}, {\"date\": \"2023-06-29T00:00:00\", \"precipitation\": 0.0}, {\"date\": \"2023-06-30T00:00:00\", \"precipitation\": 0.0}, {\"date\": \"2023-07-01T00:00:00\", \"precipitation\": 0.0}, {\"date\": \"2023-07-02T00:00:00\", \"precipitation\": 0.0}, {\"date\": \"2023-07-03T00:00:00\", \"precipitation\": 0.0}, {\"date\": \"2023-07-04T00:00:00\", \"precipitation\": 0.0}, {\"date\": \"2023-07-05T00:00:00\", \"precipitation\": 0.0}, {\"date\": \"2023-07-06T00:00:00\", \"precipitation\": 0.30600000000000005}, {\"date\": \"2023-07-07T00:00:00\", \"precipitation\": 9.643}, {\"date\": \"2023-07-08T00:00:00\", \"precipitation\": 8.626000000000001}, {\"date\": \"2023-07-09T00:00:00\", \"precipitation\": 14.642}, {\"date\": \"2023-07-10T00:00:00\", \"precipitation\": 0.017}, {\"date\": \"2023-07-11T00:00:00\", \"precipitation\": 0.0}, {\"date\": \"2023-07-12T00:00:00\", \"precipitation\": 26.766}, {\"date\": \"2023-07-13T00:00:00\", \"precipitation\": 0.10200000000000001}, {\"date\": \"2023-07-14T00:00:00\", \"precipitation\": 0.08499999999999999}, {\"date\": \"2023-07-15T00:00:00\", \"precipitation\": 0.0}, {\"date\": \"2023-07-16T00:00:00\", \"precipitation\": 0.0}, {\"date\": \"2023-07-17T00:00:00\", \"precipitation\": 0.0}, {\"date\": \"2023-07-18T00:00:00\", \"precipitation\": 0.0}, {\"date\": \"2023-07-19T00:00:00\", \"precipitation\": 0.085}, {\"date\": \"2023-07-20T00:00:00\", \"precipitation\": 0.085}, {\"date\": \"2023-07-21T00:00:00\", \"precipitation\": 7.948}, {\"date\": \"2023-07-22T00:00:00\", \"precipitation\": 4.7250000000000005}, {\"date\": \"2023-07-23T00:00:00\", \"precipitation\": 0.017}, {\"date\": \"2023-07-24T00:00:00\", \"precipitation\": 0.0}, {\"date\": \"2023-07-25T00:00:00\", \"precipitation\": 0.988}, {\"date\": \"2023-07-26T00:00:00\", \"precipitation\": 0.238}, {\"date\": \"2023-07-27T00:00:00\", \"precipitation\": 1.532}, {\"date\": \"2023-07-28T00:00:00\", \"precipitation\": 0.323}, {\"date\": \"2023-07-29T00:00:00\", \"precipitation\": 0.0}, {\"date\": \"2023-07-30T00:00:00\", \"precipitation\": 0.0}, {\"date\": \"2023-07-31T00:00:00\", \"precipitation\": 1.803}, {\"date\": \"2023-08-01T00:00:00\", \"precipitation\": 2.621}, {\"date\": \"2023-08-02T00:00:00\", \"precipitation\": 4.151}, {\"date\": \"2023-08-03T00:00:00\", \"precipitation\": 0.10200000000000001}, {\"date\": \"2023-08-04T00:00:00\", \"precipitation\": 0.0}, {\"date\": \"2023-08-05T00:00:00\", \"precipitation\": 0.0}, {\"date\": \"2023-08-06T00:00:00\", \"precipitation\": 0.5780000000000001}, {\"date\": \"2023-08-07T00:00:00\", \"precipitation\": 0.391}, {\"date\": \"2023-08-08T00:00:00\", \"precipitation\": 0.0}, {\"date\": \"2023-08-09T00:00:00\", \"precipitation\": 1.054}, {\"date\": \"2023-08-10T00:00:00\", \"precipitation\": 0.629}, {\"date\": \"2023-08-11T00:00:00\", \"precipitation\": 0.0}, {\"date\": \"2023-08-12T00:00:00\", \"precipitation\": 0.0}, {\"date\": \"2023-08-13T00:00:00\", \"precipitation\": 1.463}, {\"date\": \"2023-08-14T00:00:00\", \"precipitation\": 0.0}, {\"date\": \"2023-08-15T00:00:00\", \"precipitation\": 0.0}, {\"date\": \"2023-08-16T00:00:00\", \"precipitation\": 0.0}, {\"date\": \"2023-08-17T00:00:00\", \"precipitation\": 1.173}, {\"date\": \"2023-08-18T00:00:00\", \"precipitation\": 7.228}, {\"date\": \"2023-08-19T00:00:00\", \"precipitation\": 0.0}, {\"date\": \"2023-08-20T00:00:00\", \"precipitation\": 0.034}, {\"date\": \"2023-08-21T00:00:00\", \"precipitation\": 0.476}, {\"date\": \"2023-08-22T00:00:00\", \"precipitation\": 0.0}, {\"date\": \"2023-08-23T00:00:00\", \"precipitation\": 0.034}, {\"date\": \"2023-08-24T00:00:00\", \"precipitation\": 0.034}, {\"date\": \"2023-08-25T00:00:00\", \"precipitation\": 0.0}, {\"date\": \"2023-08-26T00:00:00\", \"precipitation\": 0.15300000000000002}, {\"date\": \"2023-08-27T00:00:00\", \"precipitation\": 0.0}, {\"date\": \"2023-08-28T00:00:00\", \"precipitation\": 0.0}, {\"date\": \"2023-08-29T00:00:00\", \"precipitation\": 0.459}, {\"date\": \"2023-08-30T00:00:00\", \"precipitation\": 0.0}, {\"date\": \"2023-08-31T00:00:00\", \"precipitation\": 1.5130000000000001}, {\"date\": \"2023-09-01T00:00:00\", \"precipitation\": 0.153}, {\"date\": \"2023-09-02T00:00:00\", \"precipitation\": 28.276}, {\"date\": \"2023-09-03T00:00:00\", \"precipitation\": 10.41}, {\"date\": \"2023-09-04T00:00:00\", \"precipitation\": 0.017}, {\"date\": \"2023-09-05T00:00:00\", \"precipitation\": 1.0030000000000001}, {\"date\": \"2023-09-06T00:00:00\", \"precipitation\": 0.935}, {\"date\": \"2023-09-07T00:00:00\", \"precipitation\": 0.0}, {\"date\": \"2023-09-08T00:00:00\", \"precipitation\": 0.0}, {\"date\": \"2023-09-09T00:00:00\", \"precipitation\": 2.858}, {\"date\": \"2023-09-10T00:00:00\", \"precipitation\": 0.0}, {\"date\": \"2023-09-11T00:00:00\", \"precipitation\": 0.0}, {\"date\": \"2023-09-12T00:00:00\", \"precipitation\": 0.0}, {\"date\": \"2023-09-13T00:00:00\", \"precipitation\": 2.7720000000000002}, {\"date\": \"2023-09-14T00:00:00\", \"precipitation\": 0.11900000000000001}, {\"date\": \"2023-09-15T00:00:00\", \"precipitation\": 0.0}, {\"date\": \"2023-09-16T00:00:00\", \"precipitation\": 0.833}, {\"date\": \"2023-09-17T00:00:00\", \"precipitation\": 0.0}, {\"date\": \"2023-09-18T00:00:00\", \"precipitation\": 0.17}, {\"date\": \"2023-09-19T00:00:00\", \"precipitation\": 0.0}, {\"date\": \"2023-09-20T00:00:00\", \"precipitation\": 0.0}, {\"date\": \"2023-09-21T00:00:00\", \"precipitation\": 0.0}, {\"date\": \"2023-09-22T00:00:00\", \"precipitation\": 51.152}, {\"date\": \"2023-09-23T00:00:00\", \"precipitation\": 0.918}, {\"date\": \"2023-09-24T00:00:00\", \"precipitation\": 0.051000000000000004}, {\"date\": \"2023-09-25T00:00:00\", \"precipitation\": 6.159}, {\"date\": \"2023-09-26T00:00:00\", \"precipitation\": 0.0}, {\"date\": \"2023-09-27T00:00:00\", \"precipitation\": 0.0}, {\"date\": \"2023-09-28T00:00:00\", \"precipitation\": 0.0}, {\"date\": \"2023-09-29T00:00:00\", \"precipitation\": 0.884}, {\"date\": \"2023-09-30T00:00:00\", \"precipitation\": 0.034}, {\"date\": \"2023-10-01T00:00:00\", \"precipitation\": 21.243}, {\"date\": \"2023-10-02T00:00:00\", \"precipitation\": 3.162}, {\"date\": \"2023-10-03T00:00:00\", \"precipitation\": 1.497}, {\"date\": \"2023-10-04T00:00:00\", \"precipitation\": 0.017}, {\"date\": \"2023-10-05T00:00:00\", \"precipitation\": 0.0}, {\"date\": \"2023-10-06T00:00:00\", \"precipitation\": 0.0}, {\"date\": \"2023-10-07T00:00:00\", \"precipitation\": 0.0}, {\"date\": \"2023-10-08T00:00:00\", \"precipitation\": 0.612}, {\"date\": \"2023-10-09T00:00:00\", \"precipitation\": 0.017}, {\"date\": \"2023-10-10T00:00:00\", \"precipitation\": 0.0}, {\"date\": \"2023-10-11T00:00:00\", \"precipitation\": 0.0}, {\"date\": \"2023-10-12T00:00:00\", \"precipitation\": 0.0}, {\"date\": \"2023-10-13T00:00:00\", \"precipitation\": 35.553}, {\"date\": \"2023-10-14T00:00:00\", \"precipitation\": 0.0}, {\"date\": \"2023-10-15T00:00:00\", \"precipitation\": 2.974}, {\"date\": \"2023-10-16T00:00:00\", \"precipitation\": 0.527}, {\"date\": \"2023-10-17T00:00:00\", \"precipitation\": 31.73}, {\"date\": \"2023-10-18T00:00:00\", \"precipitation\": 0.085}, {\"date\": \"2023-10-19T00:00:00\", \"precipitation\": 0.0}, {\"date\": \"2023-10-20T00:00:00\", \"precipitation\": 0.0}, {\"date\": \"2023-10-21T00:00:00\", \"precipitation\": 0.0}, {\"date\": \"2023-10-22T00:00:00\", \"precipitation\": 0.0}, {\"date\": \"2023-10-23T00:00:00\", \"precipitation\": 2.281}, {\"date\": \"2023-10-24T00:00:00\", \"precipitation\": 61.472}, {\"date\": \"2023-10-25T00:00:00\", \"precipitation\": 0.0}, {\"date\": \"2023-10-26T00:00:00\", \"precipitation\": 0.0}, {\"date\": \"2023-10-27T00:00:00\", \"precipitation\": 0.0}, {\"date\": \"2023-10-28T00:00:00\", \"precipitation\": 0.0}, {\"date\": \"2023-10-29T00:00:00\", \"precipitation\": 0.0}, {\"date\": \"2023-10-30T00:00:00\", \"precipitation\": 0.0}, {\"date\": \"2023-10-31T00:00:00\", \"precipitation\": 9.69}, {\"date\": \"2023-11-01T00:00:00\", \"precipitation\": 0.0}, {\"date\": \"2023-11-02T00:00:00\", \"precipitation\": 0.0}, {\"date\": \"2023-11-03T00:00:00\", \"precipitation\": 0.0}, {\"date\": \"2023-11-04T00:00:00\", \"precipitation\": 0.0}, {\"date\": \"2023-11-05T00:00:00\", \"precipitation\": 0.0}, {\"date\": \"2023-11-06T00:00:00\", \"precipitation\": 2.021}, {\"date\": \"2023-11-07T00:00:00\", \"precipitation\": 12.517}, {\"date\": \"2023-11-08T00:00:00\", \"precipitation\": 0.16999999999999998}, {\"date\": \"2023-11-09T00:00:00\", \"precipitation\": 0.017}, {\"date\": \"2023-11-10T00:00:00\", \"precipitation\": 0.0}, {\"date\": \"2023-11-11T00:00:00\", \"precipitation\": 0.0}, {\"date\": \"2023-11-12T00:00:00\", \"precipitation\": 0.0}, {\"date\": \"2023-11-13T00:00:00\", \"precipitation\": 0.0}, {\"date\": \"2023-11-14T00:00:00\", \"precipitation\": 0.0}, {\"date\": \"2023-11-15T00:00:00\", \"precipitation\": 0.0}, {\"date\": \"2023-11-16T00:00:00\", \"precipitation\": 0.40800000000000003}, {\"date\": \"2023-11-17T00:00:00\", \"precipitation\": 0.0}, {\"date\": \"2023-11-18T00:00:00\", \"precipitation\": 0.0}, {\"date\": \"2023-11-19T00:00:00\", \"precipitation\": 0.0}, {\"date\": \"2023-11-20T00:00:00\", \"precipitation\": 0.0}, {\"date\": \"2023-11-21T00:00:00\", \"precipitation\": 0.0}, {\"date\": \"2023-11-22T00:00:00\", \"precipitation\": 0.0}]}}, {\"mode\": \"vega-lite\"});\n",
       "</script>"
      ],
      "text/plain": [
       "alt.Chart(...)"
      ]
     },
     "execution_count": 14,
     "metadata": {},
     "output_type": "execute_result"
    }
   ],
   "source": [
    "import altair as alt\n",
    "\n",
    "timeseries_tahmo =  alt.Chart(df_tahmo).mark_bar().encode(x=\"date\", y=\"precipitation\", tooltip=['precipitation', 'date']).properties(width=1200, height=200).interactive()\n",
    "timeseries_tahmo"
   ]
  },
  {
   "cell_type": "markdown",
   "metadata": {},
   "source": [
    "### Exercise:\n",
    "\n",
    "Try to retrieve data of another variable, the temperature measured at one of the TAHMO stations and visualize this using a Chart with a line mark:\n",
    "```python\n",
    "alt.Chart(df).mark_line()\n",
    "```"
   ]
  },
  {
   "cell_type": "code",
   "execution_count": 15,
   "metadata": {},
   "outputs": [],
   "source": [
    "\n",
    "def load_temp_data():\n",
    "    \n",
    "    # write code here\n",
    "\n",
    "    return \n",
    "\n",
    "\n",
    "# make an api call to get the data\n",
    "\n",
    "\n",
    "# plot the data\n",
    "\n"
   ]
  },
  {
   "cell_type": "markdown",
   "metadata": {},
   "source": [
    "## 4. Open-Meteo weather API\n",
    "\n",
    "[Open-Meteo](https://github.com/open-meteo/open-meteo) is an open-source weather API and offers free access for non-commercial use. It includes hourly forecasts up to 16 days, but also historic weather. See the website below for more details:\n"
   ]
  },
  {
   "cell_type": "code",
   "execution_count": 16,
   "metadata": {},
   "outputs": [
    {
     "data": {
      "text/html": [
       "\n",
       "        <iframe\n",
       "            width=\"75%\"\n",
       "            height=\"400\"\n",
       "            src=\"https://open-meteo.com/\"\n",
       "            frameborder=\"0\"\n",
       "            allowfullscreen\n",
       "            \n",
       "        ></iframe>\n",
       "        "
      ],
      "text/plain": [
       "<IPython.lib.display.IFrame at 0x7f21f2bec820>"
      ]
     },
     "execution_count": 16,
     "metadata": {},
     "output_type": "execute_result"
    }
   ],
   "source": [
    "from IPython.display import IFrame\n",
    "IFrame(\"https://open-meteo.com/\", \"75%\", 400)"
   ]
  },
  {
   "cell_type": "code",
   "execution_count": 17,
   "metadata": {},
   "outputs": [],
   "source": [
    "import requests\n",
    "\n",
    "\n",
    "def get_ecmwf_precipitation_forecast(lon, lat):\n",
    "    \"\"\"Retrieve the ECMWF precipitation forecast from the Open-Meteo API and return a JSON object\"\"\"\n",
    "\n",
    "    base_url = \"https://api.open-meteo.com/v1/forecast\"\n",
    "    \n",
    "    # Specify the parameters for the ECMWF precipitation forecast\n",
    "    params = {\n",
    "        \"longitude\" : lon,\n",
    "        \"latitude\" : lat,\n",
    "        \"daily\" : \"precipitation_sum\",\n",
    "        \"past_days\" : 90,\n",
    "        \"timezone\" : \"auto\",\n",
    "        \"hourly\" : \"precipitation\",\n",
    "        \"start\" : \"current\",\n",
    "        \"forecast_days\" : 15,\n",
    "        \"models\" : \"ecmwf_ifs04\"}\n",
    "\n",
    "    try:\n",
    "        # Make a request to the Open-Meteo API\n",
    "        response = requests.get(base_url, params=params)\n",
    "        data = response.json()\n",
    "        return data\n",
    "    except requests.RequestException as e:\n",
    "        print(f\"Error: {e}\")\n",
    "\n",
    "data_ecmwf = get_ecmwf_precipitation_forecast(lon=station_data['location']['longitude'], lat=station_data['location']['latitude'])\n",
    "\n"
   ]
  },
  {
   "cell_type": "code",
   "execution_count": 18,
   "metadata": {},
   "outputs": [
    {
     "data": {
      "text/html": [
       "<div>\n",
       "<style scoped>\n",
       "    .dataframe tbody tr th:only-of-type {\n",
       "        vertical-align: middle;\n",
       "    }\n",
       "\n",
       "    .dataframe tbody tr th {\n",
       "        vertical-align: top;\n",
       "    }\n",
       "\n",
       "    .dataframe thead th {\n",
       "        text-align: right;\n",
       "    }\n",
       "</style>\n",
       "<table border=\"1\" class=\"dataframe\">\n",
       "  <thead>\n",
       "    <tr style=\"text-align: right;\">\n",
       "      <th></th>\n",
       "      <th>date</th>\n",
       "      <th>precipitation</th>\n",
       "    </tr>\n",
       "  </thead>\n",
       "  <tbody>\n",
       "    <tr>\n",
       "      <th>0</th>\n",
       "      <td>2023-08-28</td>\n",
       "      <td>3.3</td>\n",
       "    </tr>\n",
       "    <tr>\n",
       "      <th>1</th>\n",
       "      <td>2023-08-29</td>\n",
       "      <td>1.2</td>\n",
       "    </tr>\n",
       "    <tr>\n",
       "      <th>2</th>\n",
       "      <td>2023-08-30</td>\n",
       "      <td>13.2</td>\n",
       "    </tr>\n",
       "    <tr>\n",
       "      <th>3</th>\n",
       "      <td>2023-08-31</td>\n",
       "      <td>1.8</td>\n",
       "    </tr>\n",
       "    <tr>\n",
       "      <th>4</th>\n",
       "      <td>2023-09-01</td>\n",
       "      <td>1.8</td>\n",
       "    </tr>\n",
       "  </tbody>\n",
       "</table>\n",
       "</div>"
      ],
      "text/plain": [
       "        date  precipitation\n",
       "0 2023-08-28            3.3\n",
       "1 2023-08-29            1.2\n",
       "2 2023-08-30           13.2\n",
       "3 2023-08-31            1.8\n",
       "4 2023-09-01            1.8"
      ]
     },
     "execution_count": 18,
     "metadata": {},
     "output_type": "execute_result"
    }
   ],
   "source": [
    "def process_ecmwf_precip_data(data):\n",
    "    \"\"\"Load the precipitation data from the Open-Meteo API and return a pandas dataframe\"\"\"\n",
    "    df = pd.DataFrame.from_dict(data['hourly'])\n",
    "    df['time'] = pd.to_datetime(df['time'])\n",
    "    df.loc[:,'date'] = df['time'].dt.date\n",
    "    df['date'] = pd.to_datetime(df['date'])\n",
    "    df = df[['date', 'precipitation']].dropna()\n",
    "    df = df.groupby('date').sum().reset_index()# .set_index('date')\n",
    "    return df\n",
    "\n",
    "df_ecmwf = process_ecmwf_precip_data(data_ecmwf)\n",
    "df_ecmwf.head()"
   ]
  },
  {
   "cell_type": "code",
   "execution_count": 19,
   "metadata": {},
   "outputs": [
    {
     "data": {
      "text/html": [
       "\n",
       "<style>\n",
       "  #altair-viz-27abf817d0b04ad19cfb712a5064c08c.vega-embed {\n",
       "    width: 100%;\n",
       "    display: flex;\n",
       "  }\n",
       "\n",
       "  #altair-viz-27abf817d0b04ad19cfb712a5064c08c.vega-embed details,\n",
       "  #altair-viz-27abf817d0b04ad19cfb712a5064c08c.vega-embed details summary {\n",
       "    position: relative;\n",
       "  }\n",
       "</style>\n",
       "<div id=\"altair-viz-27abf817d0b04ad19cfb712a5064c08c\"></div>\n",
       "<script type=\"text/javascript\">\n",
       "  var VEGA_DEBUG = (typeof VEGA_DEBUG == \"undefined\") ? {} : VEGA_DEBUG;\n",
       "  (function(spec, embedOpt){\n",
       "    let outputDiv = document.currentScript.previousElementSibling;\n",
       "    if (outputDiv.id !== \"altair-viz-27abf817d0b04ad19cfb712a5064c08c\") {\n",
       "      outputDiv = document.getElementById(\"altair-viz-27abf817d0b04ad19cfb712a5064c08c\");\n",
       "    }\n",
       "    const paths = {\n",
       "      \"vega\": \"https://cdn.jsdelivr.net/npm/vega@5?noext\",\n",
       "      \"vega-lib\": \"https://cdn.jsdelivr.net/npm/vega-lib?noext\",\n",
       "      \"vega-lite\": \"https://cdn.jsdelivr.net/npm/vega-lite@5.15.1?noext\",\n",
       "      \"vega-embed\": \"https://cdn.jsdelivr.net/npm/vega-embed@6?noext\",\n",
       "    };\n",
       "\n",
       "    function maybeLoadScript(lib, version) {\n",
       "      var key = `${lib.replace(\"-\", \"\")}_version`;\n",
       "      return (VEGA_DEBUG[key] == version) ?\n",
       "        Promise.resolve(paths[lib]) :\n",
       "        new Promise(function(resolve, reject) {\n",
       "          var s = document.createElement('script');\n",
       "          document.getElementsByTagName(\"head\")[0].appendChild(s);\n",
       "          s.async = true;\n",
       "          s.onload = () => {\n",
       "            VEGA_DEBUG[key] = version;\n",
       "            return resolve(paths[lib]);\n",
       "          };\n",
       "          s.onerror = () => reject(`Error loading script: ${paths[lib]}`);\n",
       "          s.src = paths[lib];\n",
       "        });\n",
       "    }\n",
       "\n",
       "    function showError(err) {\n",
       "      outputDiv.innerHTML = `<div class=\"error\" style=\"color:red;\">${err}</div>`;\n",
       "      throw err;\n",
       "    }\n",
       "\n",
       "    function displayChart(vegaEmbed) {\n",
       "      vegaEmbed(outputDiv, spec, embedOpt)\n",
       "        .catch(err => showError(`Javascript Error: ${err.message}<br>This usually means there's a typo in your chart specification. See the javascript console for the full traceback.`));\n",
       "    }\n",
       "\n",
       "    if(typeof define === \"function\" && define.amd) {\n",
       "      requirejs.config({paths});\n",
       "      require([\"vega-embed\"], displayChart, err => showError(`Error loading script: ${err.message}`));\n",
       "    } else {\n",
       "      maybeLoadScript(\"vega\", \"5\")\n",
       "        .then(() => maybeLoadScript(\"vega-lite\", \"5.15.1\"))\n",
       "        .then(() => maybeLoadScript(\"vega-embed\", \"6\"))\n",
       "        .catch(showError)\n",
       "        .then(() => displayChart(vegaEmbed));\n",
       "    }\n",
       "  })({\"config\": {\"view\": {\"continuousWidth\": 300, \"continuousHeight\": 300}}, \"layer\": [{\"data\": {\"name\": \"data-82faa6128d35c1412f367b126f12a251\"}, \"mark\": {\"type\": \"rule\"}, \"encoding\": {\"x\": {\"field\": \"date\", \"type\": \"temporal\"}}, \"name\": \"view_1\"}, {\"data\": {\"name\": \"data-35e3023a01d8314542e2802aaf71c0cf\"}, \"mark\": {\"type\": \"bar\", \"color\": \"orange\"}, \"encoding\": {\"tooltip\": [{\"field\": \"precipitation\", \"type\": \"quantitative\"}, {\"field\": \"date\", \"type\": \"temporal\"}], \"x\": {\"field\": \"date\", \"type\": \"temporal\"}, \"y\": {\"field\": \"precipitation\", \"type\": \"quantitative\"}}}], \"height\": 300, \"params\": [{\"name\": \"param_2\", \"select\": {\"type\": \"interval\", \"encodings\": [\"x\", \"y\"]}, \"bind\": \"scales\", \"views\": [\"view_1\"]}], \"width\": 1200, \"$schema\": \"https://vega.github.io/schema/vega-lite/v5.15.1.json\", \"datasets\": {\"data-82faa6128d35c1412f367b126f12a251\": [{\"date\": \"2023-11-26\", \"color\": \"black\"}], \"data-35e3023a01d8314542e2802aaf71c0cf\": [{\"date\": \"2023-08-28T00:00:00\", \"precipitation\": 3.3}, {\"date\": \"2023-08-29T00:00:00\", \"precipitation\": 1.2000000000000002}, {\"date\": \"2023-08-30T00:00:00\", \"precipitation\": 13.2}, {\"date\": \"2023-08-31T00:00:00\", \"precipitation\": 1.8}, {\"date\": \"2023-09-01T00:00:00\", \"precipitation\": 1.8}, {\"date\": \"2023-09-02T00:00:00\", \"precipitation\": 3.3000000000000003}, {\"date\": \"2023-09-03T00:00:00\", \"precipitation\": 4.2}, {\"date\": \"2023-09-04T00:00:00\", \"precipitation\": 1.5}, {\"date\": \"2023-09-05T00:00:00\", \"precipitation\": 1.8}, {\"date\": \"2023-09-06T00:00:00\", \"precipitation\": 1.2000000000000002}, {\"date\": \"2023-09-07T00:00:00\", \"precipitation\": 1.5}, {\"date\": \"2023-09-08T00:00:00\", \"precipitation\": 0.8999999999999999}, {\"date\": \"2023-09-09T00:00:00\", \"precipitation\": 8.700000000000001}, {\"date\": \"2023-09-10T00:00:00\", \"precipitation\": 1.5}, {\"date\": \"2023-09-11T00:00:00\", \"precipitation\": 1.5}, {\"date\": \"2023-09-12T00:00:00\", \"precipitation\": 11.700000000000001}, {\"date\": \"2023-09-13T00:00:00\", \"precipitation\": 5.1}, {\"date\": \"2023-09-14T00:00:00\", \"precipitation\": 0.8999999999999999}, {\"date\": \"2023-09-15T00:00:00\", \"precipitation\": 3.9000000000000004}, {\"date\": \"2023-09-16T00:00:00\", \"precipitation\": 2.7}, {\"date\": \"2023-09-17T00:00:00\", \"precipitation\": 3.3000000000000003}, {\"date\": \"2023-09-18T00:00:00\", \"precipitation\": 0.9}, {\"date\": \"2023-09-19T00:00:00\", \"precipitation\": 0.6000000000000001}, {\"date\": \"2023-09-20T00:00:00\", \"precipitation\": 1.5}, {\"date\": \"2023-09-21T00:00:00\", \"precipitation\": 0.30000000000000004}, {\"date\": \"2023-09-22T00:00:00\", \"precipitation\": 14.1}, {\"date\": \"2023-09-23T00:00:00\", \"precipitation\": 14.399999999999999}, {\"date\": \"2023-09-24T00:00:00\", \"precipitation\": 1.7999999999999998}, {\"date\": \"2023-09-25T00:00:00\", \"precipitation\": 0.6000000000000001}, {\"date\": \"2023-09-26T00:00:00\", \"precipitation\": 0.6000000000000001}, {\"date\": \"2023-09-27T00:00:00\", \"precipitation\": 0.8999999999999999}, {\"date\": \"2023-09-28T00:00:00\", \"precipitation\": 1.5}, {\"date\": \"2023-09-29T00:00:00\", \"precipitation\": 6.300000000000001}, {\"date\": \"2023-09-30T00:00:00\", \"precipitation\": 1.5}, {\"date\": \"2023-10-01T00:00:00\", \"precipitation\": 3.6}, {\"date\": \"2023-10-02T00:00:00\", \"precipitation\": 1.8}, {\"date\": \"2023-10-03T00:00:00\", \"precipitation\": 0.8999999999999999}, {\"date\": \"2023-10-04T00:00:00\", \"precipitation\": 1.5}, {\"date\": \"2023-10-05T00:00:00\", \"precipitation\": 11.4}, {\"date\": \"2023-10-06T00:00:00\", \"precipitation\": 2.1}, {\"date\": \"2023-10-07T00:00:00\", \"precipitation\": 3.5999999999999996}, {\"date\": \"2023-10-08T00:00:00\", \"precipitation\": 5.7}, {\"date\": \"2023-10-09T00:00:00\", \"precipitation\": 13.799999999999999}, {\"date\": \"2023-10-10T00:00:00\", \"precipitation\": 3.3}, {\"date\": \"2023-10-11T00:00:00\", \"precipitation\": 1.5}, {\"date\": \"2023-10-12T00:00:00\", \"precipitation\": 8.1}, {\"date\": \"2023-10-13T00:00:00\", \"precipitation\": 0.6000000000000001}, {\"date\": \"2023-10-14T00:00:00\", \"precipitation\": 2.7}, {\"date\": \"2023-10-15T00:00:00\", \"precipitation\": 0.6000000000000001}, {\"date\": \"2023-10-16T00:00:00\", \"precipitation\": 6.3}, {\"date\": \"2023-10-17T00:00:00\", \"precipitation\": 6.0}, {\"date\": \"2023-10-18T00:00:00\", \"precipitation\": 0.0}, {\"date\": \"2023-10-19T00:00:00\", \"precipitation\": 0.0}, {\"date\": \"2023-10-20T00:00:00\", \"precipitation\": 0.9}, {\"date\": \"2023-10-21T00:00:00\", \"precipitation\": 2.4000000000000004}, {\"date\": \"2023-10-22T00:00:00\", \"precipitation\": 3.3000000000000003}, {\"date\": \"2023-10-23T00:00:00\", \"precipitation\": 6.300000000000001}, {\"date\": \"2023-10-24T00:00:00\", \"precipitation\": 14.7}, {\"date\": \"2023-10-25T00:00:00\", \"precipitation\": 0.30000000000000004}, {\"date\": \"2023-10-26T00:00:00\", \"precipitation\": 1.8}, {\"date\": \"2023-10-27T00:00:00\", \"precipitation\": 0.9}, {\"date\": \"2023-10-28T00:00:00\", \"precipitation\": 0.0}, {\"date\": \"2023-10-29T00:00:00\", \"precipitation\": 0.6000000000000001}, {\"date\": \"2023-10-30T00:00:00\", \"precipitation\": 2.0999999999999996}, {\"date\": \"2023-10-31T00:00:00\", \"precipitation\": 1.2}, {\"date\": \"2023-11-01T00:00:00\", \"precipitation\": 0.0}, {\"date\": \"2023-11-02T00:00:00\", \"precipitation\": 1.7999999999999998}, {\"date\": \"2023-11-03T00:00:00\", \"precipitation\": 0.30000000000000004}, {\"date\": \"2023-11-04T00:00:00\", \"precipitation\": 0.8999999999999999}, {\"date\": \"2023-11-05T00:00:00\", \"precipitation\": 2.0999999999999996}, {\"date\": \"2023-11-06T00:00:00\", \"precipitation\": 3.5999999999999996}, {\"date\": \"2023-11-07T00:00:00\", \"precipitation\": 1.8}, {\"date\": \"2023-11-08T00:00:00\", \"precipitation\": 4.2}, {\"date\": \"2023-11-09T00:00:00\", \"precipitation\": 1.7999999999999998}, {\"date\": \"2023-11-10T00:00:00\", \"precipitation\": 0.8999999999999999}, {\"date\": \"2023-11-11T00:00:00\", \"precipitation\": 1.7999999999999998}, {\"date\": \"2023-11-12T00:00:00\", \"precipitation\": 0.8999999999999999}, {\"date\": \"2023-11-13T00:00:00\", \"precipitation\": 1.2000000000000002}, {\"date\": \"2023-11-14T00:00:00\", \"precipitation\": 0.6000000000000001}, {\"date\": \"2023-11-15T00:00:00\", \"precipitation\": 2.4}, {\"date\": \"2023-11-16T00:00:00\", \"precipitation\": 0.0}, {\"date\": \"2023-11-17T00:00:00\", \"precipitation\": 0.0}, {\"date\": \"2023-11-18T00:00:00\", \"precipitation\": 10.2}, {\"date\": \"2023-11-19T00:00:00\", \"precipitation\": 0.8999999999999999}, {\"date\": \"2023-11-20T00:00:00\", \"precipitation\": 1.8}, {\"date\": \"2023-11-21T00:00:00\", \"precipitation\": 0.0}, {\"date\": \"2023-11-22T00:00:00\", \"precipitation\": 1.2000000000000002}, {\"date\": \"2023-11-23T00:00:00\", \"precipitation\": 0.0}, {\"date\": \"2023-11-24T00:00:00\", \"precipitation\": 1.5}, {\"date\": \"2023-11-25T00:00:00\", \"precipitation\": 7.8}, {\"date\": \"2023-11-26T00:00:00\", \"precipitation\": 17.1}, {\"date\": \"2023-11-27T00:00:00\", \"precipitation\": 0.0}, {\"date\": \"2023-11-28T00:00:00\", \"precipitation\": 2.4000000000000004}, {\"date\": \"2023-11-29T00:00:00\", \"precipitation\": 6.6}, {\"date\": \"2023-11-30T00:00:00\", \"precipitation\": 1.7999999999999998}, {\"date\": \"2023-12-01T00:00:00\", \"precipitation\": 2.7}, {\"date\": \"2023-12-02T00:00:00\", \"precipitation\": 1.2000000000000002}, {\"date\": \"2023-12-03T00:00:00\", \"precipitation\": 1.2000000000000002}, {\"date\": \"2023-12-04T00:00:00\", \"precipitation\": 3.0}, {\"date\": \"2023-12-05T00:00:00\", \"precipitation\": 4.800000000000001}, {\"date\": \"2023-12-06T00:00:00\", \"precipitation\": 0.6000000000000001}]}}, {\"mode\": \"vega-lite\"});\n",
       "</script>"
      ],
      "text/plain": [
       "alt.LayerChart(...)"
      ]
     },
     "execution_count": 19,
     "metadata": {},
     "output_type": "execute_result"
    }
   ],
   "source": [
    "import datetime\n",
    "\n",
    "timeseries_ecmwf =  alt.Chart(df_ecmwf).mark_bar(color='orange').encode(x=\"date\", y=\"precipitation\", tooltip=['precipitation', 'date'])\n",
    "\n",
    "rule = alt.Chart(pd.DataFrame({\n",
    "  'date': [datetime.datetime.now().strftime(\"%Y-%m-%d\")],\n",
    "  'color': ['black']\n",
    "})).mark_rule().encode(x='date:T') \n",
    "\n",
    "chart  = rule + timeseries_ecmwf \n",
    "\n",
    "chart.properties(width=1200, height=300).interactive()"
   ]
  },
  {
   "cell_type": "code",
   "execution_count": 20,
   "metadata": {},
   "outputs": [],
   "source": [
    "import openmeteo_requests\n",
    "from openmeteo_sdk.Variable import Variable\n",
    "from openmeteo_sdk.Aggregation import Aggregation\n",
    "import requests_cache\n",
    "import pandas as pd\n",
    "from retry_requests import retry\n",
    "\n",
    "# Setup the Open-Meteo API client with cache and retry on error\n",
    "cache_session = requests_cache.CachedSession('.cache', expire_after = 3600)\n",
    "retry_session = retry(cache_session, retries = 5, backoff_factor = 0.2)\n",
    "openmeteo = openmeteo_requests.Client(session = retry_session)\n",
    "\n",
    "def get_ecmwf_precipitation_ensemble(lon, lat):\n",
    "\n",
    "\t\"\"\"Retrieve the ECMWF precipitation forecast from the Open-Meteo API and return a JSON object\"\"\"\n",
    "\t\n",
    "\turl = \"https://ensemble-api.open-meteo.com/v1/ensemble\"\n",
    "\t\n",
    "\tparams = {\n",
    "\t\t\"latitude\": lat,\n",
    "\t\t\"longitude\": lon,\n",
    "\t\t\"forecast_days\": 5,\n",
    "\t\t\"past_days\": 30,\n",
    "\t\t\"hourly\": \"precipitation\",\n",
    "\t\t\"models\": \"ecmwf_ifs04\"\n",
    "\t}\n",
    "\tresponses = openmeteo.weather_api(url, params=params)\n",
    "\n",
    "\tresponse = responses[0]\n",
    "\t\n",
    "\t# Process hourly data\n",
    "\thourly = response.Hourly()\n",
    "\thourly_variables = list(map(lambda i: hourly.Variables(i), range(0, hourly.VariablesLength())))\n",
    "\thourly_precipitation = filter(lambda x: x.Variable() == Variable.precipitation, hourly_variables)\n",
    "\n",
    "\thourly_data = {\"date\": pd.date_range(\n",
    "\t\tstart = pd.to_datetime(hourly.Time(), unit = \"s\"),\n",
    "\t\tend = pd.to_datetime(hourly.TimeEnd(), unit = \"s\"),\n",
    "\t\tfreq = pd.Timedelta(seconds = hourly.Interval()),\n",
    "\t\tinclusive = \"left\"\n",
    "\t)}\n",
    "\t# Process all members\n",
    "\tfor variable in hourly_precipitation:\n",
    "\t\tmember = variable.EnsembleMember()\n",
    "\t\thourly_data[f\"precipitation_member{member}\"] = variable.ValuesAsNumpy()\n",
    "\n",
    "\tdf = pd.DataFrame(data=hourly_data)\n",
    "\treturn df\n",
    "\n",
    "df_hourly = get_ecmwf_precipitation_ensemble(station_data['location']['longitude'], station_data['location']['latitude'])\n"
   ]
  },
  {
   "cell_type": "code",
   "execution_count": 21,
   "metadata": {},
   "outputs": [],
   "source": [
    "def process_ecmwf_ensemble_precip_data(df):\n",
    "    \"\"\"Load the precipitation data from the Open-Meteo API and return a pandas dataframe\"\"\"\n",
    "    df = df.rename(columns={\"date\": \"Timestamp\"})\n",
    "    df['Timestamp'] = pd.to_datetime(df['Timestamp'])\n",
    "    df.loc[:,'date'] = df['Timestamp'].dt.date\n",
    "    df['date'] = pd.to_datetime(df['date'])\n",
    "    df = df.drop(columns=['Timestamp'])\n",
    "    df = df.groupby('date').sum().reset_index()\n",
    "    \n",
    "    return df\n",
    "\n",
    "df_ecmwf_ensemble = process_ecmwf_ensemble_precip_data(df_hourly)\n"
   ]
  },
  {
   "cell_type": "code",
   "execution_count": 22,
   "metadata": {},
   "outputs": [
    {
     "data": {
      "text/html": [
       "\n",
       "<style>\n",
       "  #altair-viz-473fd7b72e82428384a2b4739ab67806.vega-embed {\n",
       "    width: 100%;\n",
       "    display: flex;\n",
       "  }\n",
       "\n",
       "  #altair-viz-473fd7b72e82428384a2b4739ab67806.vega-embed details,\n",
       "  #altair-viz-473fd7b72e82428384a2b4739ab67806.vega-embed details summary {\n",
       "    position: relative;\n",
       "  }\n",
       "</style>\n",
       "<div id=\"altair-viz-473fd7b72e82428384a2b4739ab67806\"></div>\n",
       "<script type=\"text/javascript\">\n",
       "  var VEGA_DEBUG = (typeof VEGA_DEBUG == \"undefined\") ? {} : VEGA_DEBUG;\n",
       "  (function(spec, embedOpt){\n",
       "    let outputDiv = document.currentScript.previousElementSibling;\n",
       "    if (outputDiv.id !== \"altair-viz-473fd7b72e82428384a2b4739ab67806\") {\n",
       "      outputDiv = document.getElementById(\"altair-viz-473fd7b72e82428384a2b4739ab67806\");\n",
       "    }\n",
       "    const paths = {\n",
       "      \"vega\": \"https://cdn.jsdelivr.net/npm/vega@5?noext\",\n",
       "      \"vega-lib\": \"https://cdn.jsdelivr.net/npm/vega-lib?noext\",\n",
       "      \"vega-lite\": \"https://cdn.jsdelivr.net/npm/vega-lite@5.15.1?noext\",\n",
       "      \"vega-embed\": \"https://cdn.jsdelivr.net/npm/vega-embed@6?noext\",\n",
       "    };\n",
       "\n",
       "    function maybeLoadScript(lib, version) {\n",
       "      var key = `${lib.replace(\"-\", \"\")}_version`;\n",
       "      return (VEGA_DEBUG[key] == version) ?\n",
       "        Promise.resolve(paths[lib]) :\n",
       "        new Promise(function(resolve, reject) {\n",
       "          var s = document.createElement('script');\n",
       "          document.getElementsByTagName(\"head\")[0].appendChild(s);\n",
       "          s.async = true;\n",
       "          s.onload = () => {\n",
       "            VEGA_DEBUG[key] = version;\n",
       "            return resolve(paths[lib]);\n",
       "          };\n",
       "          s.onerror = () => reject(`Error loading script: ${paths[lib]}`);\n",
       "          s.src = paths[lib];\n",
       "        });\n",
       "    }\n",
       "\n",
       "    function showError(err) {\n",
       "      outputDiv.innerHTML = `<div class=\"error\" style=\"color:red;\">${err}</div>`;\n",
       "      throw err;\n",
       "    }\n",
       "\n",
       "    function displayChart(vegaEmbed) {\n",
       "      vegaEmbed(outputDiv, spec, embedOpt)\n",
       "        .catch(err => showError(`Javascript Error: ${err.message}<br>This usually means there's a typo in your chart specification. See the javascript console for the full traceback.`));\n",
       "    }\n",
       "\n",
       "    if(typeof define === \"function\" && define.amd) {\n",
       "      requirejs.config({paths});\n",
       "      require([\"vega-embed\"], displayChart, err => showError(`Error loading script: ${err.message}`));\n",
       "    } else {\n",
       "      maybeLoadScript(\"vega\", \"5\")\n",
       "        .then(() => maybeLoadScript(\"vega-lite\", \"5.15.1\"))\n",
       "        .then(() => maybeLoadScript(\"vega-embed\", \"6\"))\n",
       "        .catch(showError)\n",
       "        .then(() => displayChart(vegaEmbed));\n",
       "    }\n",
       "  })({\"config\": {\"view\": {\"continuousWidth\": 300, \"continuousHeight\": 300}}, \"layer\": [{\"data\": {\"name\": \"data-67e117c96a5fbeb2a8f3d19dd176e6ad\"}, \"mark\": {\"type\": \"area\", \"color\": \"orange\", \"opacity\": 0.25}, \"encoding\": {\"x\": {\"field\": \"date\", \"type\": \"temporal\"}, \"y\": {\"field\": \"min\", \"type\": \"quantitative\"}, \"y2\": {\"field\": \"max\"}}, \"name\": \"view_2\"}, {\"data\": {\"name\": \"data-82faa6128d35c1412f367b126f12a251\"}, \"mark\": {\"type\": \"rule\"}, \"encoding\": {\"x\": {\"field\": \"date\", \"type\": \"temporal\"}}}, {\"data\": {\"name\": \"data-67e117c96a5fbeb2a8f3d19dd176e6ad\"}, \"mark\": {\"type\": \"bar\", \"color\": \"orange\"}, \"encoding\": {\"tooltip\": [{\"field\": \"mean\", \"type\": \"quantitative\"}, {\"field\": \"date\", \"type\": \"temporal\"}], \"x\": {\"field\": \"date\", \"type\": \"temporal\"}, \"y\": {\"field\": \"mean\", \"type\": \"quantitative\"}}}], \"height\": 300, \"params\": [{\"name\": \"param_3\", \"select\": {\"type\": \"interval\", \"encodings\": [\"x\", \"y\"]}, \"bind\": \"scales\", \"views\": [\"view_2\"]}, {\"name\": \"param_4\", \"select\": {\"type\": \"interval\", \"encodings\": [\"x\", \"y\"]}, \"bind\": \"scales\", \"views\": [\"view_2\"]}], \"width\": 1200, \"$schema\": \"https://vega.github.io/schema/vega-lite/v5.15.1.json\", \"datasets\": {\"data-67e117c96a5fbeb2a8f3d19dd176e6ad\": [{\"date\": \"2023-10-27T00:00:00\", \"min\": 0.0, \"max\": 2.0999999046325684, \"mean\": 0.7588234543800354}, {\"date\": \"2023-10-28T00:00:00\", \"min\": 0.0, \"max\": 1.5, \"mean\": 0.5764705538749695}, {\"date\": \"2023-10-29T00:00:00\", \"min\": 0.0, \"max\": 7.800000190734863, \"mean\": 1.276470422744751}, {\"date\": \"2023-10-30T00:00:00\", \"min\": 0.6000000238418579, \"max\": 8.100000381469727, \"mean\": 2.082353353500366}, {\"date\": \"2023-10-31T00:00:00\", \"min\": 0.30000001192092896, \"max\": 10.199999809265137, \"mean\": 3.0705881118774414}, {\"date\": \"2023-11-01T00:00:00\", \"min\": 0.0, \"max\": 4.199999809265137, \"mean\": 0.9117646813392639}, {\"date\": \"2023-11-02T00:00:00\", \"min\": 0.0, \"max\": 2.4000000953674316, \"mean\": 0.9058823585510254}, {\"date\": \"2023-11-03T00:00:00\", \"min\": 0.0, \"max\": 2.1000001430511475, \"mean\": 0.7411763668060303}, {\"date\": \"2023-11-04T00:00:00\", \"min\": 0.0, \"max\": 3.3000001907348633, \"mean\": 1.2764708995819092}, {\"date\": \"2023-11-05T00:00:00\", \"min\": 0.6000000238418579, \"max\": 6.299999713897705, \"mean\": 2.258823871612549}, {\"date\": \"2023-11-06T00:00:00\", \"min\": 0.30000001192092896, \"max\": 8.399999618530273, \"mean\": 4.476469993591309}, {\"date\": \"2023-11-07T00:00:00\", \"min\": 0.8999999761581421, \"max\": 10.5, \"mean\": 2.6470584869384766}, {\"date\": \"2023-11-08T00:00:00\", \"min\": 0.9000000357627869, \"max\": 14.699999809265137, \"mean\": 4.61764669418335}, {\"date\": \"2023-11-09T00:00:00\", \"min\": 0.0, \"max\": 12.0, \"mean\": 3.335294008255005}, {\"date\": \"2023-11-10T00:00:00\", \"min\": 0.0, \"max\": 3.6000001430511475, \"mean\": 0.9588236808776855}, {\"date\": \"2023-11-11T00:00:00\", \"min\": 0.6000000238418579, \"max\": 9.0, \"mean\": 2.4058825969696045}, {\"date\": \"2023-11-12T00:00:00\", \"min\": 0.0, \"max\": 2.700000047683716, \"mean\": 0.8352941870689392}, {\"date\": \"2023-11-13T00:00:00\", \"min\": 0.30000001192092896, \"max\": 2.700000047683716, \"mean\": 1.1764707565307617}, {\"date\": \"2023-11-14T00:00:00\", \"min\": 0.0, \"max\": 3.8999998569488525, \"mean\": 1.3823530673980713}, {\"date\": \"2023-11-15T00:00:00\", \"min\": 1.2000000476837158, \"max\": 10.800000190734863, \"mean\": 4.135293960571289}, {\"date\": \"2023-11-16T00:00:00\", \"min\": 0.0, \"max\": 6.600000381469727, \"mean\": 1.0}, {\"date\": \"2023-11-17T00:00:00\", \"min\": 0.0, \"max\": 0.9000000357627869, \"mean\": 0.25294122099876404}, {\"date\": \"2023-11-18T00:00:00\", \"min\": 1.2000000476837158, \"max\": 15.300000190734863, \"mean\": 6.417647838592529}, {\"date\": \"2023-11-19T00:00:00\", \"min\": 0.0, \"max\": 9.600000381469727, \"mean\": 2.2411766052246094}, {\"date\": \"2023-11-20T00:00:00\", \"min\": 0.30000001192092896, \"max\": 6.0, \"mean\": 1.7764703035354614}, {\"date\": \"2023-11-21T00:00:00\", \"min\": 0.0, \"max\": 0.9000000357627869, \"mean\": 0.1411764919757843}, {\"date\": \"2023-11-22T00:00:00\", \"min\": 0.0, \"max\": 3.8999998569488525, \"mean\": 1.1882352828979492}, {\"date\": \"2023-11-23T00:00:00\", \"min\": 0.0, \"max\": 4.800000190734863, \"mean\": 0.3176470994949341}, {\"date\": \"2023-11-24T00:00:00\", \"min\": 0.30000001192092896, \"max\": 5.699999809265137, \"mean\": 1.9999998807907104}, {\"date\": \"2023-11-25T00:00:00\", \"min\": 2.0999999046325684, \"max\": 18.299999237060547, \"mean\": 8.364707946777344}, {\"date\": \"2023-11-26T00:00:00\", \"min\": 3.6000001430511475, \"max\": 38.39999771118164, \"mean\": 14.129409790039062}, {\"date\": \"2023-11-27T00:00:00\", \"min\": 0.0, \"max\": 8.700000762939453, \"mean\": 0.9000000357627869}, {\"date\": \"2023-11-28T00:00:00\", \"min\": 0.0, \"max\": 8.399999618530273, \"mean\": 1.6000003814697266}, {\"date\": \"2023-11-29T00:00:00\", \"min\": 0.0, \"max\": 15.600000381469727, \"mean\": 4.188235282897949}, {\"date\": \"2023-11-30T00:00:00\", \"min\": 0.0, \"max\": 6.600000381469727, \"mean\": 1.4823532104492188}], \"data-82faa6128d35c1412f367b126f12a251\": [{\"date\": \"2023-11-26\", \"color\": \"black\"}]}}, {\"mode\": \"vega-lite\"});\n",
       "</script>"
      ],
      "text/plain": [
       "alt.LayerChart(...)"
      ]
     },
     "execution_count": 22,
     "metadata": {},
     "output_type": "execute_result"
    }
   ],
   "source": [
    "\n",
    "ensemble_df = pd.DataFrame(data={'min' : df_ecmwf_ensemble.set_index('date').min(axis=1), 'max' : df_ecmwf_ensemble.set_index('date').max(axis=1), 'mean' : df_ecmwf_ensemble.set_index('date').mean(axis=1)}).reset_index()\n",
    "\n",
    "area = alt.Chart(ensemble_df).mark_area(opacity=0.25, color='orange').encode(x='date', y='min', y2='max').properties(width=1200, height=300).interactive()\n",
    "\n",
    "bar = alt.Chart(ensemble_df).mark_bar(color='orange').encode(x='date', y='mean', tooltip=['mean', 'date'])\n",
    "\n",
    "\n",
    "rule = alt.Chart(pd.DataFrame({\n",
    "  'date': [datetime.datetime.now().strftime(\"%Y-%m-%d\")],\n",
    "  'color': ['black']\n",
    "})).mark_rule().encode(x='date:T') \n",
    "\n",
    "\n",
    "\n",
    "chart = area + rule + bar\n",
    "chart.properties(width=1200, height=300).interactive()\n"
   ]
  },
  {
   "cell_type": "markdown",
   "metadata": {},
   "source": [
    "## 4. Introduction to web apps in Solara \n",
    "\n",
    "[Solara](https://solara.dev/) is a python library for data-focused web apps which you can run in a Jupyter notebook as well as in production-grade web frameworks (FastAPI, Starlette, Flask, ...). It uses IPywidgets for UI components which saves you from having to learn Javascript and CSS. "
   ]
  },
  {
   "cell_type": "code",
   "execution_count": 23,
   "metadata": {},
   "outputs": [
    {
     "name": "stdout",
     "output_type": "stream",
     "text": [
      "API request: services/assets/v2/stations\n"
     ]
    },
    {
     "name": "stdout",
     "output_type": "stream",
     "text": [
      "API request: services/assets/v2/stations\n"
     ]
    }
   ],
   "source": [
    "station_list = [\"TA00134\", \"TA00252\", \"TA00567\"]\n",
    "\n",
    "# station \"TA00134\" is empty, therefore we remove it from the list\n",
    "station_list.remove(\"TA00134\")\n",
    "\n",
    "station_data = {}\n",
    "\n",
    "for station in station_list:\n",
    "    station_data[station] = api.getStations()[station]"
   ]
  },
  {
   "cell_type": "code",
   "execution_count": 24,
   "metadata": {},
   "outputs": [
    {
     "data": {
      "application/vnd.jupyter.widget-view+json": {
       "model_id": "2be7701025b0492588a14b363213d825",
       "version_major": 2,
       "version_minor": 0
      },
      "text/html": [
       "Cannot show widget. You probably want to rerun the code cell above (<i>Click in the code cell, and press Shift+Enter <kbd>⇧</kbd>+<kbd>↩</kbd></i>)."
      ],
      "text/plain": [
       "Cannot show ipywidgets in text"
      ]
     },
     "metadata": {},
     "output_type": "display_data"
    }
   ],
   "source": [
    "import solara\n",
    "import ipyleaflet\n",
    "import TAHMO\n",
    "from ipywidgets import HTML\n",
    "\n",
    "# Create a TAHMO API wrapper and set credentials\n",
    "api = TAHMO.apiWrapper()\n",
    "api.setCredentials('demo', 'DemoPassword1!')\n",
    "\n",
    "station_default = 'TA00252'\n",
    "center_default = (station_data[station_default]['location']['latitude'], station_data[station_default]['location']['longitude'])\n",
    "zoom_default = 9\n",
    "\n",
    "# Define reactive variables for station data\n",
    "station = solara.reactive(station_default)\n",
    "zoom = solara.reactive(zoom_default)\n",
    "center = solara.reactive(center_default)\n",
    "\n",
    "def set_station(value):\n",
    "    station.value = value\n",
    "    center.value = (station_data[value]['location']['latitude'], station_data[value]['location']['longitude'])\n",
    "\n",
    "@ solara.component\n",
    "def StationSelect():\n",
    "    \"\"\"Solara component for a station selection dropdown.\"\"\"\n",
    "    solara.Select(label=\"station\", values=station_list, value=station.value, on_value=set_station, style={\"z-index\": \"10000\"})\n",
    "    \n",
    "@solara.component\n",
    "def View():\n",
    "    \"\"\"Solara component for displaying a map view with a marker for the selected station.\"\"\"\n",
    "    ipyleaflet.Map.element(center=center.value,\n",
    "                           zoom=9,\n",
    "                           on_center=center.set,\n",
    "                        scroll_wheel_zoom=True, \n",
    "                        layers=[ipyleaflet.TileLayer.element(url=ipyleaflet.basemaps.OpenStreetMap.Mapnik.build_url())] + [ipyleaflet.Marker.element(location=(station_data[s]['location']['latitude'], station_data[s]['location']['longitude']), draggable=False) for s in station_list] \n",
    "                        )\n",
    "\n",
    "@solara.component\n",
    "def Page():\n",
    "    \"\"\"Solara component for a page with two cards: View and StationSelect.\"\"\"\n",
    "    with solara.Column(style={\"min-width\": \"500px\", \"height\": \"500px\"}):\n",
    "        with solara.Row():\n",
    "            StationSelect()\n",
    "        with solara.Card():\n",
    "            View()\n",
    "\n",
    "Page()"
   ]
  },
  {
   "cell_type": "code",
   "execution_count": 25,
   "metadata": {},
   "outputs": [
    {
     "name": "stdout",
     "output_type": "stream",
     "text": [
      "API request: services/measurements/v2/stations/TA00252/measurements/controlled\n"
     ]
    },
    {
     "data": {
      "application/vnd.jupyter.widget-view+json": {
       "model_id": "f8c336198d5c4f869a0379ae8d5933aa",
       "version_major": 2,
       "version_minor": 0
      },
      "text/html": [
       "Cannot show widget. You probably want to rerun the code cell above (<i>Click in the code cell, and press Shift+Enter <kbd>⇧</kbd>+<kbd>↩</kbd></i>)."
      ],
      "text/plain": [
       "Cannot show ipywidgets in text"
      ]
     },
     "metadata": {},
     "output_type": "display_data"
    }
   ],
   "source": [
    "import pandas as pd\n",
    "\n",
    "\n",
    "\n",
    "def set_station(value):\n",
    "    station.value = value\n",
    "    \n",
    "@ solara.component\n",
    "def StationSelect():\n",
    "    \"\"\"Solara component for a station selection dropdown.\"\"\"\n",
    "    solara.Select(label=\"station\", values=station_list, value=station.value, on_value=set_station)\n",
    "\n",
    "def request_precip_data(station, variables=['pr'], startDate='2023-01-01', endDate='2023-11-22'):\n",
    "    \"\"\"Request precipitation data from the TAHMO API and return a pandas dataframe.\"\"\"\n",
    "    df = api.getMeasurements(station, startDate=startDate, endDate=endDate, variables=variables)\n",
    "    if df.empty:\n",
    "        df = pd.DataFrame(columns=['date', 'precipitation'])\n",
    "        return df\n",
    "    else:\n",
    "        df.index.name = 'Timestamp'\n",
    "        df = df.reset_index()\n",
    "        df['Timestamp'] = pd.to_datetime(df['Timestamp'])\n",
    "        df.loc[:,'date'] = df['Timestamp'].dt.date\n",
    "        df = df.drop(columns=['Timestamp']).groupby('date').max().reset_index().dropna()\n",
    "        df['date'] = pd.to_datetime(df['date'])\n",
    "        df = df.rename(columns={\"pr\": \"precipitation\"})\n",
    "        return df\n",
    "\n",
    "@solara.component\n",
    "def Timeseries():\n",
    "    \n",
    "    \"\"\"Solara component for a timeseries chart of precipitation.\"\"\"\t\n",
    "    variables = ['pr']\n",
    "    today = datetime.datetime.now()\n",
    "    startDate = today - datetime.timedelta(days=30)\n",
    "    df_tahmo = api.getMeasurements(station.value, startDate=startDate.strftime(\"%Y-%m-%d\"), endDate=today.strftime(\"%Y-%m-%d\"), variables=variables)\n",
    "    df_tahmo.index.name = 'Timestamp'\n",
    "    df_tahmo = process_tahmo_precip_data(df_tahmo)\n",
    "    bar_tahmo =  alt.Chart(df_tahmo).mark_bar(opacity=0.75,).encode(x=\"date\", y=\"precipitation\", tooltip=['precipitation', 'date']).interactive()\n",
    "    df_hourly = get_ecmwf_precipitation_ensemble(station_data[station.value]['location']['longitude'], station_data[station.value]['location']['latitude'])\n",
    "    df_ecmwf_ensemble = process_ecmwf_ensemble_precip_data(df_hourly)\n",
    "    ensemble_df = pd.DataFrame(data={'min' : df_ecmwf_ensemble.set_index('date').min(axis=1), 'max' : df_ecmwf_ensemble.set_index('date').max(axis=1), 'mean' : df_ecmwf_ensemble.set_index('date').mean(axis=1)}).reset_index()\n",
    "    area_ecmwf = alt.Chart(ensemble_df).mark_area(opacity=0.25, color='orange').encode(x='date', y='min', y2='max').interactive()\n",
    "    bar_ecmwf = alt.Chart(ensemble_df).mark_bar(opacity=0.75, color='orange').encode(x='date', y='mean', tooltip=['mean', 'date'])\n",
    "    rule = alt.Chart(pd.DataFrame({'date': [today.strftime(\"%Y-%m-%d\")], 'color': ['black']})).mark_rule().encode(x='date:T') \n",
    "    chart = area_ecmwf + rule + bar_tahmo + bar_ecmwf\n",
    "    solara.display(chart.properties(width=1200, height=300).interactive())\n",
    "\n",
    "@solara.component\n",
    "def Page():\n",
    "    \"\"\"Solara component for a page with two cards: View and StationSelect.\"\"\"\n",
    "    with solara.Column(style={\"min-width\": \"500px\", \"height\": \"500px\"}):\n",
    "        with solara.Row():\n",
    "            StationSelect()\n",
    "        with solara.Card():\n",
    "            Timeseries()\n",
    "\n",
    "Page()"
   ]
  },
  {
   "cell_type": "code",
   "execution_count": 26,
   "metadata": {},
   "outputs": [
    {
     "name": "stdout",
     "output_type": "stream",
     "text": [
      "API request: services/measurements/v2/stations/TA00252/measurements/controlled\n"
     ]
    },
    {
     "data": {
      "application/vnd.jupyter.widget-view+json": {
       "model_id": "bc7b3a3f65ef483b86856ab0b0e29bea",
       "version_major": 2,
       "version_minor": 0
      },
      "text/html": [
       "Cannot show widget. You probably want to rerun the code cell above (<i>Click in the code cell, and press Shift+Enter <kbd>⇧</kbd>+<kbd>↩</kbd></i>)."
      ],
      "text/plain": [
       "Cannot show ipywidgets in text"
      ]
     },
     "metadata": {},
     "output_type": "display_data"
    },
    {
     "name": "stdout",
     "output_type": "stream",
     "text": [
      "API request: services/measurements/v2/stations/TA00567/measurements/controlled\n"
     ]
    }
   ],
   "source": [
    "import solara\n",
    "import ipyleaflet\n",
    "import TAHMO\n",
    "from ipywidgets import HTML\n",
    "\n",
    "# Create a TAHMO API wrapper and set credentials\n",
    "api = TAHMO.apiWrapper()\n",
    "api.setCredentials('demo', 'DemoPassword1!')\n",
    "\n",
    "\n",
    "station_default = 'TA00252'\n",
    "center_default = (station_data[station_default]['location']['latitude'], station_data[station_default]['location']['longitude'])\n",
    "zoom_default = 9\n",
    "\n",
    "\n",
    "# Define reactive variables for station data\n",
    "station = solara.reactive(station_default)\n",
    "zoom = solara.reactive(zoom_default)\n",
    "center = solara.reactive(center_default)\n",
    "\n",
    "\n",
    "def set_station(value):\n",
    "    station.value = value\n",
    "    center.value = (station_data[value]['location']['latitude'], station_data[value]['location']['longitude'])\n",
    "\n",
    "@ solara.component\n",
    "def StationSelect():\n",
    "    \"\"\"Solara component for a station selection dropdown.\"\"\"\n",
    "    solara.Select(label=\"station\", values=station_list, value=station.value, on_value=set_station, style={\"z-index\": \"10000\"})\n",
    "    \n",
    "@solara.component\n",
    "def View():\n",
    "    \"\"\"Solara component for displaying a map view with a marker for the selected station.\"\"\"\n",
    "    \n",
    "    ipyleaflet.Map.element(center=center.value,\n",
    "                           zoom=9,\n",
    "                           on_center=center.set,\n",
    "                        scroll_wheel_zoom=True, \n",
    "                        layers=[ipyleaflet.TileLayer.element(url=ipyleaflet.basemaps.OpenStreetMap.Mapnik.build_url())] + [ipyleaflet.Marker.element(location=(station_data[s]['location']['latitude'], station_data[s]['location']['longitude']), draggable=False) for s in station_list] \n",
    "                        )\n",
    "\n",
    "    \n",
    "def request_precip_data(station, variables=['pr'], startDate='2023-01-01', endDate='2023-11-22'):\n",
    "    \"\"\"Request precipitation data from the TAHMO API and return a pandas dataframe.\"\"\"\n",
    "    df = api.getMeasurements(station, startDate=startDate, endDate=endDate, variables=variables)\n",
    "    if df.empty:\n",
    "        df = pd.DataFrame(columns=['date', 'precipitation'])\n",
    "        return df\n",
    "    else:\n",
    "        df.index.name = 'Timestamp'\n",
    "        df = df.reset_index()\n",
    "        df['Timestamp'] = pd.to_datetime(df['Timestamp'])\n",
    "        df.loc[:,'date'] = df['Timestamp'].dt.date\n",
    "        df = df.drop(columns=['Timestamp']).groupby('date').max().reset_index().dropna()\n",
    "        df['date'] = pd.to_datetime(df['date'])\n",
    "        df = df.rename(columns={\"pr\": \"precipitation\"})\n",
    "        return df\n",
    "\n",
    "\n",
    "@solara.component\n",
    "def Timeseries():\n",
    "    \n",
    "    \"\"\"Solara component for a timeseries chart of precipitation.\"\"\"\t\n",
    "    variables = ['pr']\n",
    "    today = datetime.datetime.now()\n",
    "    startDate = today - datetime.timedelta(days=30)\n",
    "    df_tahmo = api.getMeasurements(station.value, startDate=startDate.strftime(\"%Y-%m-%d\"), endDate=today.strftime(\"%Y-%m-%d\"), variables=variables)\n",
    "    df_tahmo.index.name = 'Timestamp'\n",
    "    df_tahmo = process_tahmo_precip_data(df_tahmo)\n",
    "    bar_tahmo =  alt.Chart(df_tahmo).mark_bar(opacity=0.75,).encode(x=\"date\", y=\"precipitation\", tooltip=['precipitation', 'date']).interactive()\n",
    "    df_hourly = get_ecmwf_precipitation_ensemble(station_data[station.value]['location']['longitude'], station_data[station.value]['location']['latitude'])\n",
    "    df_ecmwf_ensemble = process_ecmwf_ensemble_precip_data(df_hourly)\n",
    "    ensemble_df = pd.DataFrame(data={'min' : df_ecmwf_ensemble.set_index('date').min(axis=1), 'max' : df_ecmwf_ensemble.set_index('date').max(axis=1), 'mean' : df_ecmwf_ensemble.set_index('date').mean(axis=1)}).reset_index()\n",
    "    area_ecmwf = alt.Chart(ensemble_df).mark_area(opacity=0.25, color='orange').encode(x='date', y='min', y2='max').interactive()\n",
    "    bar_ecmwf = alt.Chart(ensemble_df).mark_bar(opacity=0.75, color='orange').encode(x='date', y='mean', tooltip=['mean', 'date'])\n",
    "    rule = alt.Chart(pd.DataFrame({'date': [today.strftime(\"%Y-%m-%d\")], 'color': ['black']})).mark_rule().encode(x='date:T') \n",
    "    chart = area_ecmwf + rule + bar_tahmo + bar_ecmwf\n",
    "    solara.display(chart.properties(width=1200, height=300).interactive())\n",
    "\n",
    "@solara.component\n",
    "def Page():\n",
    "    \"\"\"Solara component for a page with two cards: View and StationSelect.\"\"\"\n",
    "    with solara.Column(style={\"min-width\": \"500px\", \"height\": \"500px\"}):\n",
    "        with solara.Row():\n",
    "            StationSelect()\n",
    "        with solara.Columns([1, 2]):\n",
    "            with solara.Card():\n",
    "                View()\n",
    "            with solara.Card():\n",
    "                Timeseries()\n",
    "\n",
    "Page()"
   ]
  },
  {
   "cell_type": "code",
   "execution_count": null,
   "metadata": {},
   "outputs": [],
   "source": []
  }
 ],
 "metadata": {
  "kernelspec": {
   "display_name": "Python 3.10.4 64-bit",
   "language": "python",
   "name": "python3"
  },
  "language_info": {
   "codemirror_mode": {
    "name": "ipython",
    "version": 3
   },
   "file_extension": ".py",
   "mimetype": "text/x-python",
   "name": "python",
   "nbconvert_exporter": "python",
   "pygments_lexer": "ipython3",
   "version": "3.10.13"
  },
  "vscode": {
   "interpreter": {
    "hash": "3ad933181bd8a04b432d3370b9dc3b0662ad032c4dfaa4e4f1596c548f763858"
   }
  }
 },
 "nbformat": 4,
 "nbformat_minor": 4
}
