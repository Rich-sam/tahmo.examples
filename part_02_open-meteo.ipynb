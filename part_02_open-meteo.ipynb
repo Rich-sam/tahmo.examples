{
 "cells": [
  {
   "cell_type": "markdown",
   "metadata": {},
   "source": [
    "### Section 2: Introduction to web apps in Solara \n",
    "\n",
    "[Solara](https://solara.dev/) is a python library for data-focused web apps which you can run in a Jupyter notebook as well as in production-grade web frameworks (FastAPI, Starlette, Flask, ...). It uses IPywidgets for UI components which saves you from having to learn Javascript and CSS. "
   ]
  },
  {
   "cell_type": "code",
   "execution_count": 3,
   "metadata": {},
   "outputs": [
    {
     "ename": "ModuleNotFoundError",
     "evalue": "No module named 'vega_datasets'",
     "output_type": "error",
     "traceback": [
      "\u001b[0;31m---------------------------------------------------------------------------\u001b[0m",
      "\u001b[0;31mModuleNotFoundError\u001b[0m                       Traceback (most recent call last)",
      "\u001b[1;32m/workspaces/training-seasonal-forecasting/part_02_open-meteo.ipynb Cell 2\u001b[0m line \u001b[0;36m3\n\u001b[1;32m      <a href='vscode-notebook-cell://dev-container%2B7b22686f737450617468223a22643a5c5c747261696e696e672d736561736f6e616c2d666f726563617374696e67222c226c6f63616c446f636b6572223a66616c73652c22636f6e66696746696c65223a7b22246d6964223a312c22667350617468223a22643a5c5c747261696e696e672d736561736f6e616c2d666f726563617374696e675c5c2e646576636f6e7461696e65725c5c646576636f6e7461696e65722e6a736f6e222c225f736570223a312c2265787465726e616c223a2266696c653a2f2f2f642533412f747261696e696e672d736561736f6e616c2d666f726563617374696e672f2e646576636f6e7461696e65722f646576636f6e7461696e65722e6a736f6e222c2270617468223a222f643a2f747261696e696e672d736561736f6e616c2d666f726563617374696e672f2e646576636f6e7461696e65722f646576636f6e7461696e65722e6a736f6e222c22736368656d65223a2266696c65227d7d/workspaces/training-seasonal-forecasting/part_02_open-meteo.ipynb#W1sdnNjb2RlLXJlbW90ZQ%3D%3D?line=0'>1</a>\u001b[0m \u001b[39mimport\u001b[39;00m \u001b[39maltair\u001b[39;00m \u001b[39mas\u001b[39;00m \u001b[39malt\u001b[39;00m\n\u001b[1;32m      <a href='vscode-notebook-cell://dev-container%2B7b22686f737450617468223a22643a5c5c747261696e696e672d736561736f6e616c2d666f726563617374696e67222c226c6f63616c446f636b6572223a66616c73652c22636f6e66696746696c65223a7b22246d6964223a312c22667350617468223a22643a5c5c747261696e696e672d736561736f6e616c2d666f726563617374696e675c5c2e646576636f6e7461696e65725c5c646576636f6e7461696e65722e6a736f6e222c225f736570223a312c2265787465726e616c223a2266696c653a2f2f2f642533412f747261696e696e672d736561736f6e616c2d666f726563617374696e672f2e646576636f6e7461696e65722f646576636f6e7461696e65722e6a736f6e222c2270617468223a222f643a2f747261696e696e672d736561736f6e616c2d666f726563617374696e672f2e646576636f6e7461696e65722f646576636f6e7461696e65722e6a736f6e222c22736368656d65223a2266696c65227d7d/workspaces/training-seasonal-forecasting/part_02_open-meteo.ipynb#W1sdnNjb2RlLXJlbW90ZQ%3D%3D?line=1'>2</a>\u001b[0m \u001b[39mimport\u001b[39;00m \u001b[39mpandas\u001b[39;00m \u001b[39mas\u001b[39;00m \u001b[39mpd\u001b[39;00m\n\u001b[0;32m----> <a href='vscode-notebook-cell://dev-container%2B7b22686f737450617468223a22643a5c5c747261696e696e672d736561736f6e616c2d666f726563617374696e67222c226c6f63616c446f636b6572223a66616c73652c22636f6e66696746696c65223a7b22246d6964223a312c22667350617468223a22643a5c5c747261696e696e672d736561736f6e616c2d666f726563617374696e675c5c2e646576636f6e7461696e65725c5c646576636f6e7461696e65722e6a736f6e222c225f736570223a312c2265787465726e616c223a2266696c653a2f2f2f642533412f747261696e696e672d736561736f6e616c2d666f726563617374696e672f2e646576636f6e7461696e65722f646576636f6e7461696e65722e6a736f6e222c2270617468223a222f643a2f747261696e696e672d736561736f6e616c2d666f726563617374696e672f2e646576636f6e7461696e65722f646576636f6e7461696e65722e6a736f6e222c22736368656d65223a2266696c65227d7d/workspaces/training-seasonal-forecasting/part_02_open-meteo.ipynb#W1sdnNjb2RlLXJlbW90ZQ%3D%3D?line=2'>3</a>\u001b[0m \u001b[39mfrom\u001b[39;00m \u001b[39mvega_datasets\u001b[39;00m \u001b[39mimport\u001b[39;00m data\n\u001b[1;32m      <a href='vscode-notebook-cell://dev-container%2B7b22686f737450617468223a22643a5c5c747261696e696e672d736561736f6e616c2d666f726563617374696e67222c226c6f63616c446f636b6572223a66616c73652c22636f6e66696746696c65223a7b22246d6964223a312c22667350617468223a22643a5c5c747261696e696e672d736561736f6e616c2d666f726563617374696e675c5c2e646576636f6e7461696e65725c5c646576636f6e7461696e65722e6a736f6e222c225f736570223a312c2265787465726e616c223a2266696c653a2f2f2f642533412f747261696e696e672d736561736f6e616c2d666f726563617374696e672f2e646576636f6e7461696e65722f646576636f6e7461696e65722e6a736f6e222c2270617468223a222f643a2f747261696e696e672d736561736f6e616c2d666f726563617374696e672f2e646576636f6e7461696e65722f646576636f6e7461696e65722e6a736f6e222c22736368656d65223a2266696c65227d7d/workspaces/training-seasonal-forecasting/part_02_open-meteo.ipynb#W1sdnNjb2RlLXJlbW90ZQ%3D%3D?line=4'>5</a>\u001b[0m \u001b[39mimport\u001b[39;00m \u001b[39msolara\u001b[39;00m\n\u001b[1;32m      <a href='vscode-notebook-cell://dev-container%2B7b22686f737450617468223a22643a5c5c747261696e696e672d736561736f6e616c2d666f726563617374696e67222c226c6f63616c446f636b6572223a66616c73652c22636f6e66696746696c65223a7b22246d6964223a312c22667350617468223a22643a5c5c747261696e696e672d736561736f6e616c2d666f726563617374696e675c5c2e646576636f6e7461696e65725c5c646576636f6e7461696e65722e6a736f6e222c225f736570223a312c2265787465726e616c223a2266696c653a2f2f2f642533412f747261696e696e672d736561736f6e616c2d666f726563617374696e672f2e646576636f6e7461696e65722f646576636f6e7461696e65722e6a736f6e222c2270617468223a222f643a2f747261696e696e672d736561736f6e616c2d666f726563617374696e672f2e646576636f6e7461696e65722f646576636f6e7461696e65722e6a736f6e222c22736368656d65223a2266696c65227d7d/workspaces/training-seasonal-forecasting/part_02_open-meteo.ipynb#W1sdnNjb2RlLXJlbW90ZQ%3D%3D?line=6'>7</a>\u001b[0m \u001b[39m# title = \"Altair visualization\"\u001b[39;00m\n",
      "\u001b[0;31mModuleNotFoundError\u001b[0m: No module named 'vega_datasets'"
     ]
    }
   ],
   "source": [
    "import altair as alt\n",
    "import pandas as pd\n",
    "from vega_datasets import data\n",
    "\n",
    "import solara\n",
    "\n",
    "# title = \"Altair visualization\"\n",
    "source = data.seattle_weather()\n",
    "\n",
    "selected_datum = solara.reactive(None)\n",
    "\n",
    "@solara.component\n",
    "def Page():\n",
    "    def on_click(datum):\n",
    "        selected_datum.value = datum\n",
    "\n",
    "    chart = (\n",
    "        alt.Chart(source, title=\"Daily Max Temperatures (C) in Seattle, WA\")\n",
    "        .mark_rect()\n",
    "        .encode(\n",
    "            alt.X(\"date(date):O\").title(\"Day\").axis(format=\"%e\", labelAngle=0),\n",
    "            alt.Y(\"month(date):O\").title(\"Month\"),\n",
    "            alt.Color(\"max(temp_max)\").title(None),\n",
    "            tooltip=[\n",
    "                alt.Tooltip(\"monthdate(date)\", title=\"Date\"),\n",
    "                alt.Tooltip(\"max(temp_max)\", title=\"Max Temp\"),\n",
    "            ],\n",
    "        )\n",
    "        .configure_view(step=13, strokeWidth=0)\n",
    "        .configure_axis(domain=False)\n",
    "    )\n",
    "    with solara.Card(\"Annual Weather Heatmap for Seattle, WA\"):\n",
    "        solara.AltairChart(chart, on_click=on_click)\n",
    "        df = source\n",
    "        if selected_datum.value:\n",
    "            month_date = selected_datum.value[\"monthdate_date_end\"]\n",
    "            dt = pd.to_datetime(month_date)\n",
    "            df = df[(df[\"date\"].dt.month == dt.month) & (df[\"date\"].dt.day == dt.day)]\n",
    "            solara.Markdown(f\"Day of year: {dt.month_name()} - {dt.day}\")\n",
    "            solara.Button(\"Clear selection\", on_click=lambda: selected_datum.set(None))\n",
    "            solara.display(df)\n",
    "\n",
    "            with solara.Details(\"Click data\"):\n",
    "                solara.Markdown(\n",
    "                    f\"\"\"\n",
    "                Click data:\n",
    "\n",
    "                ```\n",
    "                {selected_datum.value}\n",
    "                ```\n",
    "                \"\"\"\n",
    "                )\n",
    "        else:\n",
    "            solara.Markdown(\"Click on the chart to see data for a specific day\")"
   ]
  },
  {
   "cell_type": "code",
   "execution_count": 45,
   "metadata": {},
   "outputs": [],
   "source": [
    "\n",
    "def load_precip_data():\n",
    "    df = pd.read_csv(\"timeseries.csv\", parse_dates=True, index_col=0).reset_index().rename(columns={\"Timestamp\" : \"date\", \"pr\": \"precipitation\"})\n",
    "    df.loc[:,'date'] = df['date'].dt.date\n",
    "    df = df.groupby('date').max().reset_index().dropna()\n",
    "    return df\n",
    "\n",
    "df = load_precip_data()\n",
    "\n",
    "chart =  alt.Chart(df).mark_line().encode(x=\"date\", y=\"precipitation\", tooltip=['precipitation', 'date']).properties(width=900, height=500).interactive()\n"
   ]
  },
  {
   "cell_type": "code",
   "execution_count": 46,
   "metadata": {},
   "outputs": [
    {
     "data": {
      "text/html": [
       "\n",
       "<style>\n",
       "  #altair-viz-1fde972d18d64c31ab1cb1668548903d.vega-embed {\n",
       "    width: 100%;\n",
       "    display: flex;\n",
       "  }\n",
       "\n",
       "  #altair-viz-1fde972d18d64c31ab1cb1668548903d.vega-embed details,\n",
       "  #altair-viz-1fde972d18d64c31ab1cb1668548903d.vega-embed details summary {\n",
       "    position: relative;\n",
       "  }\n",
       "</style>\n",
       "<div id=\"altair-viz-1fde972d18d64c31ab1cb1668548903d\"></div>\n",
       "<script type=\"text/javascript\">\n",
       "  var VEGA_DEBUG = (typeof VEGA_DEBUG == \"undefined\") ? {} : VEGA_DEBUG;\n",
       "  (function(spec, embedOpt){\n",
       "    let outputDiv = document.currentScript.previousElementSibling;\n",
       "    if (outputDiv.id !== \"altair-viz-1fde972d18d64c31ab1cb1668548903d\") {\n",
       "      outputDiv = document.getElementById(\"altair-viz-1fde972d18d64c31ab1cb1668548903d\");\n",
       "    }\n",
       "    const paths = {\n",
       "      \"vega\": \"https://cdn.jsdelivr.net/npm/vega@5?noext\",\n",
       "      \"vega-lib\": \"https://cdn.jsdelivr.net/npm/vega-lib?noext\",\n",
       "      \"vega-lite\": \"https://cdn.jsdelivr.net/npm/vega-lite@5.15.1?noext\",\n",
       "      \"vega-embed\": \"https://cdn.jsdelivr.net/npm/vega-embed@6?noext\",\n",
       "    };\n",
       "\n",
       "    function maybeLoadScript(lib, version) {\n",
       "      var key = `${lib.replace(\"-\", \"\")}_version`;\n",
       "      return (VEGA_DEBUG[key] == version) ?\n",
       "        Promise.resolve(paths[lib]) :\n",
       "        new Promise(function(resolve, reject) {\n",
       "          var s = document.createElement('script');\n",
       "          document.getElementsByTagName(\"head\")[0].appendChild(s);\n",
       "          s.async = true;\n",
       "          s.onload = () => {\n",
       "            VEGA_DEBUG[key] = version;\n",
       "            return resolve(paths[lib]);\n",
       "          };\n",
       "          s.onerror = () => reject(`Error loading script: ${paths[lib]}`);\n",
       "          s.src = paths[lib];\n",
       "        });\n",
       "    }\n",
       "\n",
       "    function showError(err) {\n",
       "      outputDiv.innerHTML = `<div class=\"error\" style=\"color:red;\">${err}</div>`;\n",
       "      throw err;\n",
       "    }\n",
       "\n",
       "    function displayChart(vegaEmbed) {\n",
       "      vegaEmbed(outputDiv, spec, embedOpt)\n",
       "        .catch(err => showError(`Javascript Error: ${err.message}<br>This usually means there's a typo in your chart specification. See the javascript console for the full traceback.`));\n",
       "    }\n",
       "\n",
       "    if(typeof define === \"function\" && define.amd) {\n",
       "      requirejs.config({paths});\n",
       "      require([\"vega-embed\"], displayChart, err => showError(`Error loading script: ${err.message}`));\n",
       "    } else {\n",
       "      maybeLoadScript(\"vega\", \"5\")\n",
       "        .then(() => maybeLoadScript(\"vega-lite\", \"5.15.1\"))\n",
       "        .then(() => maybeLoadScript(\"vega-embed\", \"6\"))\n",
       "        .catch(showError)\n",
       "        .then(() => displayChart(vegaEmbed));\n",
       "    }\n",
       "  })({\"config\": {\"view\": {\"continuousWidth\": 300, \"continuousHeight\": 300}}, \"data\": {\"name\": \"data-c26d37ad17f405afa37834a5d127b2c6\"}, \"mark\": {\"type\": \"line\"}, \"encoding\": {\"tooltip\": [{\"field\": \"precipitation\", \"type\": \"quantitative\"}, {\"field\": \"date\", \"type\": \"temporal\"}], \"x\": {\"field\": \"date\", \"type\": \"temporal\"}, \"y\": {\"field\": \"precipitation\", \"type\": \"quantitative\"}}, \"height\": 500, \"params\": [{\"name\": \"param_4\", \"select\": {\"type\": \"interval\", \"encodings\": [\"x\", \"y\"]}, \"bind\": \"scales\"}], \"width\": 900, \"$schema\": \"https://vega.github.io/schema/vega-lite/v5.15.1.json\", \"datasets\": {\"data-c26d37ad17f405afa37834a5d127b2c6\": [{\"date\": \"2023-01-10T00:00:00\", \"precipitation\": 0.0}, {\"date\": \"2023-01-11T00:00:00\", \"precipitation\": 0.0}, {\"date\": \"2023-01-12T00:00:00\", \"precipitation\": 0.0}, {\"date\": \"2023-01-13T00:00:00\", \"precipitation\": 0.0}, {\"date\": \"2023-01-14T00:00:00\", \"precipitation\": 0.0}, {\"date\": \"2023-01-15T00:00:00\", \"precipitation\": 0.0}, {\"date\": \"2023-01-16T00:00:00\", \"precipitation\": 0.0}, {\"date\": \"2023-01-17T00:00:00\", \"precipitation\": 0.0}, {\"date\": \"2023-01-18T00:00:00\", \"precipitation\": 0.0}, {\"date\": \"2023-01-19T00:00:00\", \"precipitation\": 0.0}, {\"date\": \"2023-01-20T00:00:00\", \"precipitation\": 0.0}, {\"date\": \"2023-01-21T00:00:00\", \"precipitation\": 0.0}, {\"date\": \"2023-01-22T00:00:00\", \"precipitation\": 0.0}, {\"date\": \"2023-01-23T00:00:00\", \"precipitation\": 0.0}, {\"date\": \"2023-01-24T00:00:00\", \"precipitation\": 0.0}, {\"date\": \"2023-01-25T00:00:00\", \"precipitation\": 0.0}, {\"date\": \"2023-01-26T00:00:00\", \"precipitation\": 0.0}, {\"date\": \"2023-01-27T00:00:00\", \"precipitation\": 0.0}, {\"date\": \"2023-01-28T00:00:00\", \"precipitation\": 0.0}, {\"date\": \"2023-01-29T00:00:00\", \"precipitation\": 0.0}, {\"date\": \"2023-01-30T00:00:00\", \"precipitation\": 0.0}, {\"date\": \"2023-01-31T00:00:00\", \"precipitation\": 0.0}, {\"date\": \"2023-02-01T00:00:00\", \"precipitation\": 0.017}, {\"date\": \"2023-02-02T00:00:00\", \"precipitation\": 0.017}, {\"date\": \"2023-02-03T00:00:00\", \"precipitation\": 0.0}, {\"date\": \"2023-02-04T00:00:00\", \"precipitation\": 0.0}, {\"date\": \"2023-02-05T00:00:00\", \"precipitation\": 0.0}, {\"date\": \"2023-02-06T00:00:00\", \"precipitation\": 0.0}, {\"date\": \"2023-02-07T00:00:00\", \"precipitation\": 2.668}, {\"date\": \"2023-02-08T00:00:00\", \"precipitation\": 0.0}, {\"date\": \"2023-02-09T00:00:00\", \"precipitation\": 0.0}, {\"date\": \"2023-02-10T00:00:00\", \"precipitation\": 0.0}, {\"date\": \"2023-02-11T00:00:00\", \"precipitation\": 0.0}, {\"date\": \"2023-02-12T00:00:00\", \"precipitation\": 0.0}, {\"date\": \"2023-02-13T00:00:00\", \"precipitation\": 0.0}, {\"date\": \"2023-02-14T00:00:00\", \"precipitation\": 0.0}, {\"date\": \"2023-02-15T00:00:00\", \"precipitation\": 5.506}, {\"date\": \"2023-02-16T00:00:00\", \"precipitation\": 0.0}, {\"date\": \"2023-02-17T00:00:00\", \"precipitation\": 0.0}, {\"date\": \"2023-02-18T00:00:00\", \"precipitation\": 0.0}, {\"date\": \"2023-02-19T00:00:00\", \"precipitation\": 0.0}, {\"date\": \"2023-02-20T00:00:00\", \"precipitation\": 0.0}, {\"date\": \"2023-02-21T00:00:00\", \"precipitation\": 0.0}, {\"date\": \"2023-02-22T00:00:00\", \"precipitation\": 0.0}, {\"date\": \"2023-02-23T00:00:00\", \"precipitation\": 0.0}, {\"date\": \"2023-02-24T00:00:00\", \"precipitation\": 0.0}, {\"date\": \"2023-02-25T00:00:00\", \"precipitation\": 0.017}, {\"date\": \"2023-02-26T00:00:00\", \"precipitation\": 0.0}, {\"date\": \"2023-02-27T00:00:00\", \"precipitation\": 0.0}, {\"date\": \"2023-02-28T00:00:00\", \"precipitation\": 0.0}, {\"date\": \"2023-03-01T00:00:00\", \"precipitation\": 0.0}, {\"date\": \"2023-03-02T00:00:00\", \"precipitation\": 0.0}, {\"date\": \"2023-03-03T00:00:00\", \"precipitation\": 0.0}, {\"date\": \"2023-03-04T00:00:00\", \"precipitation\": 0.306}, {\"date\": \"2023-03-05T00:00:00\", \"precipitation\": 0.0}, {\"date\": \"2023-03-06T00:00:00\", \"precipitation\": 0.0}, {\"date\": \"2023-03-07T00:00:00\", \"precipitation\": 13.651}, {\"date\": \"2023-03-08T00:00:00\", \"precipitation\": 0.0}, {\"date\": \"2023-03-09T00:00:00\", \"precipitation\": 0.051}, {\"date\": \"2023-03-10T00:00:00\", \"precipitation\": 0.0}, {\"date\": \"2023-03-11T00:00:00\", \"precipitation\": 0.0}, {\"date\": \"2023-03-12T00:00:00\", \"precipitation\": 0.0}, {\"date\": \"2023-03-13T00:00:00\", \"precipitation\": 0.0}, {\"date\": \"2023-03-14T00:00:00\", \"precipitation\": 0.0}, {\"date\": \"2023-03-15T00:00:00\", \"precipitation\": 0.0}, {\"date\": \"2023-03-16T00:00:00\", \"precipitation\": 3.349}, {\"date\": \"2023-03-17T00:00:00\", \"precipitation\": 0.0}, {\"date\": \"2023-03-18T00:00:00\", \"precipitation\": 8.111}, {\"date\": \"2023-03-19T00:00:00\", \"precipitation\": 0.0}, {\"date\": \"2023-03-20T00:00:00\", \"precipitation\": 0.0}, {\"date\": \"2023-03-21T00:00:00\", \"precipitation\": 0.0}, {\"date\": \"2023-03-22T00:00:00\", \"precipitation\": 3.774}, {\"date\": \"2023-03-23T00:00:00\", \"precipitation\": 2.26}, {\"date\": \"2023-03-24T00:00:00\", \"precipitation\": 0.545}, {\"date\": \"2023-03-25T00:00:00\", \"precipitation\": 0.0}, {\"date\": \"2023-03-26T00:00:00\", \"precipitation\": 0.0}, {\"date\": \"2023-03-27T00:00:00\", \"precipitation\": 0.0}, {\"date\": \"2023-03-28T00:00:00\", \"precipitation\": 0.0}, {\"date\": \"2023-03-29T00:00:00\", \"precipitation\": 0.0}, {\"date\": \"2023-03-30T00:00:00\", \"precipitation\": 0.0}, {\"date\": \"2023-03-31T00:00:00\", \"precipitation\": 0.0}, {\"date\": \"2023-04-01T00:00:00\", \"precipitation\": 0.0}, {\"date\": \"2023-04-02T00:00:00\", \"precipitation\": 0.0}, {\"date\": \"2023-04-03T00:00:00\", \"precipitation\": 0.0}, {\"date\": \"2023-04-04T00:00:00\", \"precipitation\": 7.362}, {\"date\": \"2023-04-05T00:00:00\", \"precipitation\": 0.0}, {\"date\": \"2023-04-06T00:00:00\", \"precipitation\": 0.0}, {\"date\": \"2023-04-07T00:00:00\", \"precipitation\": 0.0}, {\"date\": \"2023-04-08T00:00:00\", \"precipitation\": 2.004}, {\"date\": \"2023-04-09T00:00:00\", \"precipitation\": 0.034}, {\"date\": \"2023-04-10T00:00:00\", \"precipitation\": 0.0}, {\"date\": \"2023-04-11T00:00:00\", \"precipitation\": 0.0}, {\"date\": \"2023-04-12T00:00:00\", \"precipitation\": 0.255}, {\"date\": \"2023-04-13T00:00:00\", \"precipitation\": 0.0}, {\"date\": \"2023-04-14T00:00:00\", \"precipitation\": 0.0}, {\"date\": \"2023-04-15T00:00:00\", \"precipitation\": 0.0}, {\"date\": \"2023-04-16T00:00:00\", \"precipitation\": 0.0}, {\"date\": \"2023-04-17T00:00:00\", \"precipitation\": 1.413}, {\"date\": \"2023-04-18T00:00:00\", \"precipitation\": 0.0}, {\"date\": \"2023-04-19T00:00:00\", \"precipitation\": 0.0}, {\"date\": \"2023-04-20T00:00:00\", \"precipitation\": 0.0}, {\"date\": \"2023-04-21T00:00:00\", \"precipitation\": 0.0}, {\"date\": \"2023-04-22T00:00:00\", \"precipitation\": 0.0}, {\"date\": \"2023-04-23T00:00:00\", \"precipitation\": 0.0}, {\"date\": \"2023-04-24T00:00:00\", \"precipitation\": 2.906}, {\"date\": \"2023-04-25T00:00:00\", \"precipitation\": 0.0}, {\"date\": \"2023-04-26T00:00:00\", \"precipitation\": 0.0}, {\"date\": \"2023-04-27T00:00:00\", \"precipitation\": 2.328}, {\"date\": \"2023-04-28T00:00:00\", \"precipitation\": 0.051}, {\"date\": \"2023-04-29T00:00:00\", \"precipitation\": 3.826}, {\"date\": \"2023-04-30T00:00:00\", \"precipitation\": 0.051}, {\"date\": \"2023-05-01T00:00:00\", \"precipitation\": 0.0}, {\"date\": \"2023-05-02T00:00:00\", \"precipitation\": 0.0}, {\"date\": \"2023-05-03T00:00:00\", \"precipitation\": 0.0}, {\"date\": \"2023-05-04T00:00:00\", \"precipitation\": 0.0}, {\"date\": \"2023-05-05T00:00:00\", \"precipitation\": 0.0}, {\"date\": \"2023-05-06T00:00:00\", \"precipitation\": 0.0}, {\"date\": \"2023-05-07T00:00:00\", \"precipitation\": 0.0}, {\"date\": \"2023-05-08T00:00:00\", \"precipitation\": 0.0}, {\"date\": \"2023-05-09T00:00:00\", \"precipitation\": 0.0}, {\"date\": \"2023-05-10T00:00:00\", \"precipitation\": 0.034}, {\"date\": \"2023-05-11T00:00:00\", \"precipitation\": 0.136}, {\"date\": \"2023-05-12T00:00:00\", \"precipitation\": 0.97}, {\"date\": \"2023-05-13T00:00:00\", \"precipitation\": 0.0}, {\"date\": \"2023-05-14T00:00:00\", \"precipitation\": 0.0}, {\"date\": \"2023-05-15T00:00:00\", \"precipitation\": 4.2}, {\"date\": \"2023-05-16T00:00:00\", \"precipitation\": 0.17}, {\"date\": \"2023-05-17T00:00:00\", \"precipitation\": 0.0}, {\"date\": \"2023-05-18T00:00:00\", \"precipitation\": 1.953}, {\"date\": \"2023-05-19T00:00:00\", \"precipitation\": 0.068}, {\"date\": \"2023-05-20T00:00:00\", \"precipitation\": 0.374}, {\"date\": \"2023-05-21T00:00:00\", \"precipitation\": 0.0}, {\"date\": \"2023-05-22T00:00:00\", \"precipitation\": 0.034}, {\"date\": \"2023-05-23T00:00:00\", \"precipitation\": 0.0}, {\"date\": \"2023-05-24T00:00:00\", \"precipitation\": 0.0}, {\"date\": \"2023-05-25T00:00:00\", \"precipitation\": 1.936}, {\"date\": \"2023-05-26T00:00:00\", \"precipitation\": 0.017}, {\"date\": \"2023-05-27T00:00:00\", \"precipitation\": 0.221}, {\"date\": \"2023-05-28T00:00:00\", \"precipitation\": 0.017}, {\"date\": \"2023-05-29T00:00:00\", \"precipitation\": 1.447}, {\"date\": \"2023-05-30T00:00:00\", \"precipitation\": 0.0}, {\"date\": \"2023-05-31T00:00:00\", \"precipitation\": 2.6}, {\"date\": \"2023-06-01T00:00:00\", \"precipitation\": 3.638}, {\"date\": \"2023-06-02T00:00:00\", \"precipitation\": 1.987}, {\"date\": \"2023-06-03T00:00:00\", \"precipitation\": 0.204}, {\"date\": \"2023-06-04T00:00:00\", \"precipitation\": 0.085}, {\"date\": \"2023-06-05T00:00:00\", \"precipitation\": 0.0}, {\"date\": \"2023-06-06T00:00:00\", \"precipitation\": 0.0}, {\"date\": \"2023-06-07T00:00:00\", \"precipitation\": 0.289}, {\"date\": \"2023-06-08T00:00:00\", \"precipitation\": 0.255}, {\"date\": \"2023-06-09T00:00:00\", \"precipitation\": 0.306}, {\"date\": \"2023-06-10T00:00:00\", \"precipitation\": 0.0}, {\"date\": \"2023-06-11T00:00:00\", \"precipitation\": 1.328}, {\"date\": \"2023-06-12T00:00:00\", \"precipitation\": 0.0}, {\"date\": \"2023-06-13T00:00:00\", \"precipitation\": 0.0}, {\"date\": \"2023-06-14T00:00:00\", \"precipitation\": 0.0}, {\"date\": \"2023-06-15T00:00:00\", \"precipitation\": 0.0}, {\"date\": \"2023-06-16T00:00:00\", \"precipitation\": 0.0}, {\"date\": \"2023-06-17T00:00:00\", \"precipitation\": 0.0}, {\"date\": \"2023-06-18T00:00:00\", \"precipitation\": 0.0}, {\"date\": \"2023-06-19T00:00:00\", \"precipitation\": 1.328}, {\"date\": \"2023-06-20T00:00:00\", \"precipitation\": 0.0}, {\"date\": \"2023-06-21T00:00:00\", \"precipitation\": 0.0}, {\"date\": \"2023-06-22T00:00:00\", \"precipitation\": 0.017}, {\"date\": \"2023-06-23T00:00:00\", \"precipitation\": 0.63}, {\"date\": \"2023-06-24T00:00:00\", \"precipitation\": 0.119}, {\"date\": \"2023-06-25T00:00:00\", \"precipitation\": 0.306}, {\"date\": \"2023-06-26T00:00:00\", \"precipitation\": 0.0}, {\"date\": \"2023-06-27T00:00:00\", \"precipitation\": 0.0}, {\"date\": \"2023-06-28T00:00:00\", \"precipitation\": 0.0}, {\"date\": \"2023-06-29T00:00:00\", \"precipitation\": 0.0}, {\"date\": \"2023-06-30T00:00:00\", \"precipitation\": 0.0}, {\"date\": \"2023-07-01T00:00:00\", \"precipitation\": 0.0}, {\"date\": \"2023-07-02T00:00:00\", \"precipitation\": 0.0}, {\"date\": \"2023-07-03T00:00:00\", \"precipitation\": 0.0}, {\"date\": \"2023-07-04T00:00:00\", \"precipitation\": 0.0}, {\"date\": \"2023-07-05T00:00:00\", \"precipitation\": 0.0}, {\"date\": \"2023-07-06T00:00:00\", \"precipitation\": 0.0}, {\"date\": \"2023-07-07T00:00:00\", \"precipitation\": 0.426}, {\"date\": \"2023-07-08T00:00:00\", \"precipitation\": 1.157}, {\"date\": \"2023-07-09T00:00:00\", \"precipitation\": 0.936}, {\"date\": \"2023-07-10T00:00:00\", \"precipitation\": 0.017}, {\"date\": \"2023-07-11T00:00:00\", \"precipitation\": 0.017}, {\"date\": \"2023-07-12T00:00:00\", \"precipitation\": 1.26}]}}, {\"mode\": \"vega-lite\"});\n",
       "</script>"
      ],
      "text/plain": [
       "alt.Chart(...)"
      ]
     },
     "execution_count": 46,
     "metadata": {},
     "output_type": "execute_result"
    }
   ],
   "source": [
    "chart"
   ]
  },
  {
   "cell_type": "markdown",
   "metadata": {},
   "source": []
  }
 ],
 "metadata": {
  "kernelspec": {
   "display_name": "Python 3",
   "language": "python",
   "name": "python3"
  },
  "language_info": {
   "codemirror_mode": {
    "name": "ipython",
    "version": 3
   },
   "file_extension": ".py",
   "mimetype": "text/x-python",
   "name": "python",
   "nbconvert_exporter": "python",
   "pygments_lexer": "ipython3",
   "version": "3.10.13"
  }
 },
 "nbformat": 4,
 "nbformat_minor": 2
}
