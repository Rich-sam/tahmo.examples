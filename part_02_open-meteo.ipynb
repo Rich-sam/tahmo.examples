{
 "cells": [
  {
   "cell_type": "markdown",
   "metadata": {},
   "source": [
    "### Section 2: Introduction to web apps in Solara \n",
    "\n",
    "[Solara](https://solara.dev/) is a python library for data-focused web apps which you can run in a Jupyter notebook as well as in production-grade web frameworks (FastAPI, Starlette, Flask, ...). It uses IPywidgets for UI components which saves you from having to learn Javascript and CSS. "
   ]
  },
  {
   "cell_type": "code",
   "execution_count": 1,
   "metadata": {},
   "outputs": [],
   "source": [
    "import altair as alt\n",
    "import pandas as pd"
   ]
  },
  {
   "cell_type": "code",
   "execution_count": 2,
   "metadata": {},
   "outputs": [
    {
     "data": {
      "text/html": [
       "\n",
       "<style>\n",
       "  #altair-viz-3f9d914f28f843909fc8b638cb147ad3.vega-embed {\n",
       "    width: 100%;\n",
       "    display: flex;\n",
       "  }\n",
       "\n",
       "  #altair-viz-3f9d914f28f843909fc8b638cb147ad3.vega-embed details,\n",
       "  #altair-viz-3f9d914f28f843909fc8b638cb147ad3.vega-embed details summary {\n",
       "    position: relative;\n",
       "  }\n",
       "</style>\n",
       "<div id=\"altair-viz-3f9d914f28f843909fc8b638cb147ad3\"></div>\n",
       "<script type=\"text/javascript\">\n",
       "  var VEGA_DEBUG = (typeof VEGA_DEBUG == \"undefined\") ? {} : VEGA_DEBUG;\n",
       "  (function(spec, embedOpt){\n",
       "    let outputDiv = document.currentScript.previousElementSibling;\n",
       "    if (outputDiv.id !== \"altair-viz-3f9d914f28f843909fc8b638cb147ad3\") {\n",
       "      outputDiv = document.getElementById(\"altair-viz-3f9d914f28f843909fc8b638cb147ad3\");\n",
       "    }\n",
       "    const paths = {\n",
       "      \"vega\": \"https://cdn.jsdelivr.net/npm/vega@5?noext\",\n",
       "      \"vega-lib\": \"https://cdn.jsdelivr.net/npm/vega-lib?noext\",\n",
       "      \"vega-lite\": \"https://cdn.jsdelivr.net/npm/vega-lite@5.15.1?noext\",\n",
       "      \"vega-embed\": \"https://cdn.jsdelivr.net/npm/vega-embed@6?noext\",\n",
       "    };\n",
       "\n",
       "    function maybeLoadScript(lib, version) {\n",
       "      var key = `${lib.replace(\"-\", \"\")}_version`;\n",
       "      return (VEGA_DEBUG[key] == version) ?\n",
       "        Promise.resolve(paths[lib]) :\n",
       "        new Promise(function(resolve, reject) {\n",
       "          var s = document.createElement('script');\n",
       "          document.getElementsByTagName(\"head\")[0].appendChild(s);\n",
       "          s.async = true;\n",
       "          s.onload = () => {\n",
       "            VEGA_DEBUG[key] = version;\n",
       "            return resolve(paths[lib]);\n",
       "          };\n",
       "          s.onerror = () => reject(`Error loading script: ${paths[lib]}`);\n",
       "          s.src = paths[lib];\n",
       "        });\n",
       "    }\n",
       "\n",
       "    function showError(err) {\n",
       "      outputDiv.innerHTML = `<div class=\"error\" style=\"color:red;\">${err}</div>`;\n",
       "      throw err;\n",
       "    }\n",
       "\n",
       "    function displayChart(vegaEmbed) {\n",
       "      vegaEmbed(outputDiv, spec, embedOpt)\n",
       "        .catch(err => showError(`Javascript Error: ${err.message}<br>This usually means there's a typo in your chart specification. See the javascript console for the full traceback.`));\n",
       "    }\n",
       "\n",
       "    if(typeof define === \"function\" && define.amd) {\n",
       "      requirejs.config({paths});\n",
       "      require([\"vega-embed\"], displayChart, err => showError(`Error loading script: ${err.message}`));\n",
       "    } else {\n",
       "      maybeLoadScript(\"vega\", \"5\")\n",
       "        .then(() => maybeLoadScript(\"vega-lite\", \"5.15.1\"))\n",
       "        .then(() => maybeLoadScript(\"vega-embed\", \"6\"))\n",
       "        .catch(showError)\n",
       "        .then(() => displayChart(vegaEmbed));\n",
       "    }\n",
       "  })({\"config\": {\"view\": {\"continuousWidth\": 300, \"continuousHeight\": 300}}, \"data\": {\"name\": \"data-c26d37ad17f405afa37834a5d127b2c6\"}, \"mark\": {\"type\": \"line\"}, \"encoding\": {\"tooltip\": [{\"field\": \"precipitation\", \"type\": \"quantitative\"}, {\"field\": \"date\", \"type\": \"temporal\"}], \"x\": {\"field\": \"date\", \"type\": \"temporal\"}, \"y\": {\"field\": \"precipitation\", \"type\": \"quantitative\"}}, \"height\": 500, \"params\": [{\"name\": \"param_1\", \"select\": {\"type\": \"interval\", \"encodings\": [\"x\", \"y\"]}, \"bind\": \"scales\"}], \"width\": 900, \"$schema\": \"https://vega.github.io/schema/vega-lite/v5.15.1.json\", \"datasets\": {\"data-c26d37ad17f405afa37834a5d127b2c6\": [{\"date\": \"2023-01-10T00:00:00\", \"precipitation\": 0.0}, {\"date\": \"2023-01-11T00:00:00\", \"precipitation\": 0.0}, {\"date\": \"2023-01-12T00:00:00\", \"precipitation\": 0.0}, {\"date\": \"2023-01-13T00:00:00\", \"precipitation\": 0.0}, {\"date\": \"2023-01-14T00:00:00\", \"precipitation\": 0.0}, {\"date\": \"2023-01-15T00:00:00\", \"precipitation\": 0.0}, {\"date\": \"2023-01-16T00:00:00\", \"precipitation\": 0.0}, {\"date\": \"2023-01-17T00:00:00\", \"precipitation\": 0.0}, {\"date\": \"2023-01-18T00:00:00\", \"precipitation\": 0.0}, {\"date\": \"2023-01-19T00:00:00\", \"precipitation\": 0.0}, {\"date\": \"2023-01-20T00:00:00\", \"precipitation\": 0.0}, {\"date\": \"2023-01-21T00:00:00\", \"precipitation\": 0.0}, {\"date\": \"2023-01-22T00:00:00\", \"precipitation\": 0.0}, {\"date\": \"2023-01-23T00:00:00\", \"precipitation\": 0.0}, {\"date\": \"2023-01-24T00:00:00\", \"precipitation\": 0.0}, {\"date\": \"2023-01-25T00:00:00\", \"precipitation\": 0.0}, {\"date\": \"2023-01-26T00:00:00\", \"precipitation\": 0.0}, {\"date\": \"2023-01-27T00:00:00\", \"precipitation\": 0.0}, {\"date\": \"2023-01-28T00:00:00\", \"precipitation\": 0.0}, {\"date\": \"2023-01-29T00:00:00\", \"precipitation\": 0.0}, {\"date\": \"2023-01-30T00:00:00\", \"precipitation\": 0.0}, {\"date\": \"2023-01-31T00:00:00\", \"precipitation\": 0.0}, {\"date\": \"2023-02-01T00:00:00\", \"precipitation\": 0.017}, {\"date\": \"2023-02-02T00:00:00\", \"precipitation\": 0.017}, {\"date\": \"2023-02-03T00:00:00\", \"precipitation\": 0.0}, {\"date\": \"2023-02-04T00:00:00\", \"precipitation\": 0.0}, {\"date\": \"2023-02-05T00:00:00\", \"precipitation\": 0.0}, {\"date\": \"2023-02-06T00:00:00\", \"precipitation\": 0.0}, {\"date\": \"2023-02-07T00:00:00\", \"precipitation\": 2.668}, {\"date\": \"2023-02-08T00:00:00\", \"precipitation\": 0.0}, {\"date\": \"2023-02-09T00:00:00\", \"precipitation\": 0.0}, {\"date\": \"2023-02-10T00:00:00\", \"precipitation\": 0.0}, {\"date\": \"2023-02-11T00:00:00\", \"precipitation\": 0.0}, {\"date\": \"2023-02-12T00:00:00\", \"precipitation\": 0.0}, {\"date\": \"2023-02-13T00:00:00\", \"precipitation\": 0.0}, {\"date\": \"2023-02-14T00:00:00\", \"precipitation\": 0.0}, {\"date\": \"2023-02-15T00:00:00\", \"precipitation\": 5.506}, {\"date\": \"2023-02-16T00:00:00\", \"precipitation\": 0.0}, {\"date\": \"2023-02-17T00:00:00\", \"precipitation\": 0.0}, {\"date\": \"2023-02-18T00:00:00\", \"precipitation\": 0.0}, {\"date\": \"2023-02-19T00:00:00\", \"precipitation\": 0.0}, {\"date\": \"2023-02-20T00:00:00\", \"precipitation\": 0.0}, {\"date\": \"2023-02-21T00:00:00\", \"precipitation\": 0.0}, {\"date\": \"2023-02-22T00:00:00\", \"precipitation\": 0.0}, {\"date\": \"2023-02-23T00:00:00\", \"precipitation\": 0.0}, {\"date\": \"2023-02-24T00:00:00\", \"precipitation\": 0.0}, {\"date\": \"2023-02-25T00:00:00\", \"precipitation\": 0.017}, {\"date\": \"2023-02-26T00:00:00\", \"precipitation\": 0.0}, {\"date\": \"2023-02-27T00:00:00\", \"precipitation\": 0.0}, {\"date\": \"2023-02-28T00:00:00\", \"precipitation\": 0.0}, {\"date\": \"2023-03-01T00:00:00\", \"precipitation\": 0.0}, {\"date\": \"2023-03-02T00:00:00\", \"precipitation\": 0.0}, {\"date\": \"2023-03-03T00:00:00\", \"precipitation\": 0.0}, {\"date\": \"2023-03-04T00:00:00\", \"precipitation\": 0.306}, {\"date\": \"2023-03-05T00:00:00\", \"precipitation\": 0.0}, {\"date\": \"2023-03-06T00:00:00\", \"precipitation\": 0.0}, {\"date\": \"2023-03-07T00:00:00\", \"precipitation\": 13.651}, {\"date\": \"2023-03-08T00:00:00\", \"precipitation\": 0.0}, {\"date\": \"2023-03-09T00:00:00\", \"precipitation\": 0.051}, {\"date\": \"2023-03-10T00:00:00\", \"precipitation\": 0.0}, {\"date\": \"2023-03-11T00:00:00\", \"precipitation\": 0.0}, {\"date\": \"2023-03-12T00:00:00\", \"precipitation\": 0.0}, {\"date\": \"2023-03-13T00:00:00\", \"precipitation\": 0.0}, {\"date\": \"2023-03-14T00:00:00\", \"precipitation\": 0.0}, {\"date\": \"2023-03-15T00:00:00\", \"precipitation\": 0.0}, {\"date\": \"2023-03-16T00:00:00\", \"precipitation\": 3.349}, {\"date\": \"2023-03-17T00:00:00\", \"precipitation\": 0.0}, {\"date\": \"2023-03-18T00:00:00\", \"precipitation\": 8.111}, {\"date\": \"2023-03-19T00:00:00\", \"precipitation\": 0.0}, {\"date\": \"2023-03-20T00:00:00\", \"precipitation\": 0.0}, {\"date\": \"2023-03-21T00:00:00\", \"precipitation\": 0.0}, {\"date\": \"2023-03-22T00:00:00\", \"precipitation\": 3.774}, {\"date\": \"2023-03-23T00:00:00\", \"precipitation\": 2.26}, {\"date\": \"2023-03-24T00:00:00\", \"precipitation\": 0.545}, {\"date\": \"2023-03-25T00:00:00\", \"precipitation\": 0.0}, {\"date\": \"2023-03-26T00:00:00\", \"precipitation\": 0.0}, {\"date\": \"2023-03-27T00:00:00\", \"precipitation\": 0.0}, {\"date\": \"2023-03-28T00:00:00\", \"precipitation\": 0.0}, {\"date\": \"2023-03-29T00:00:00\", \"precipitation\": 0.0}, {\"date\": \"2023-03-30T00:00:00\", \"precipitation\": 0.0}, {\"date\": \"2023-03-31T00:00:00\", \"precipitation\": 0.0}, {\"date\": \"2023-04-01T00:00:00\", \"precipitation\": 0.0}, {\"date\": \"2023-04-02T00:00:00\", \"precipitation\": 0.0}, {\"date\": \"2023-04-03T00:00:00\", \"precipitation\": 0.0}, {\"date\": \"2023-04-04T00:00:00\", \"precipitation\": 7.362}, {\"date\": \"2023-04-05T00:00:00\", \"precipitation\": 0.0}, {\"date\": \"2023-04-06T00:00:00\", \"precipitation\": 0.0}, {\"date\": \"2023-04-07T00:00:00\", \"precipitation\": 0.0}, {\"date\": \"2023-04-08T00:00:00\", \"precipitation\": 2.004}, {\"date\": \"2023-04-09T00:00:00\", \"precipitation\": 0.034}, {\"date\": \"2023-04-10T00:00:00\", \"precipitation\": 0.0}, {\"date\": \"2023-04-11T00:00:00\", \"precipitation\": 0.0}, {\"date\": \"2023-04-12T00:00:00\", \"precipitation\": 0.255}, {\"date\": \"2023-04-13T00:00:00\", \"precipitation\": 0.0}, {\"date\": \"2023-04-14T00:00:00\", \"precipitation\": 0.0}, {\"date\": \"2023-04-15T00:00:00\", \"precipitation\": 0.0}, {\"date\": \"2023-04-16T00:00:00\", \"precipitation\": 0.0}, {\"date\": \"2023-04-17T00:00:00\", \"precipitation\": 1.413}, {\"date\": \"2023-04-18T00:00:00\", \"precipitation\": 0.0}, {\"date\": \"2023-04-19T00:00:00\", \"precipitation\": 0.0}, {\"date\": \"2023-04-20T00:00:00\", \"precipitation\": 0.0}, {\"date\": \"2023-04-21T00:00:00\", \"precipitation\": 0.0}, {\"date\": \"2023-04-22T00:00:00\", \"precipitation\": 0.0}, {\"date\": \"2023-04-23T00:00:00\", \"precipitation\": 0.0}, {\"date\": \"2023-04-24T00:00:00\", \"precipitation\": 2.906}, {\"date\": \"2023-04-25T00:00:00\", \"precipitation\": 0.0}, {\"date\": \"2023-04-26T00:00:00\", \"precipitation\": 0.0}, {\"date\": \"2023-04-27T00:00:00\", \"precipitation\": 2.328}, {\"date\": \"2023-04-28T00:00:00\", \"precipitation\": 0.051}, {\"date\": \"2023-04-29T00:00:00\", \"precipitation\": 3.826}, {\"date\": \"2023-04-30T00:00:00\", \"precipitation\": 0.051}, {\"date\": \"2023-05-01T00:00:00\", \"precipitation\": 0.0}, {\"date\": \"2023-05-02T00:00:00\", \"precipitation\": 0.0}, {\"date\": \"2023-05-03T00:00:00\", \"precipitation\": 0.0}, {\"date\": \"2023-05-04T00:00:00\", \"precipitation\": 0.0}, {\"date\": \"2023-05-05T00:00:00\", \"precipitation\": 0.0}, {\"date\": \"2023-05-06T00:00:00\", \"precipitation\": 0.0}, {\"date\": \"2023-05-07T00:00:00\", \"precipitation\": 0.0}, {\"date\": \"2023-05-08T00:00:00\", \"precipitation\": 0.0}, {\"date\": \"2023-05-09T00:00:00\", \"precipitation\": 0.0}, {\"date\": \"2023-05-10T00:00:00\", \"precipitation\": 0.034}, {\"date\": \"2023-05-11T00:00:00\", \"precipitation\": 0.136}, {\"date\": \"2023-05-12T00:00:00\", \"precipitation\": 0.97}, {\"date\": \"2023-05-13T00:00:00\", \"precipitation\": 0.0}, {\"date\": \"2023-05-14T00:00:00\", \"precipitation\": 0.0}, {\"date\": \"2023-05-15T00:00:00\", \"precipitation\": 4.2}, {\"date\": \"2023-05-16T00:00:00\", \"precipitation\": 0.17}, {\"date\": \"2023-05-17T00:00:00\", \"precipitation\": 0.0}, {\"date\": \"2023-05-18T00:00:00\", \"precipitation\": 1.953}, {\"date\": \"2023-05-19T00:00:00\", \"precipitation\": 0.068}, {\"date\": \"2023-05-20T00:00:00\", \"precipitation\": 0.374}, {\"date\": \"2023-05-21T00:00:00\", \"precipitation\": 0.0}, {\"date\": \"2023-05-22T00:00:00\", \"precipitation\": 0.034}, {\"date\": \"2023-05-23T00:00:00\", \"precipitation\": 0.0}, {\"date\": \"2023-05-24T00:00:00\", \"precipitation\": 0.0}, {\"date\": \"2023-05-25T00:00:00\", \"precipitation\": 1.936}, {\"date\": \"2023-05-26T00:00:00\", \"precipitation\": 0.017}, {\"date\": \"2023-05-27T00:00:00\", \"precipitation\": 0.221}, {\"date\": \"2023-05-28T00:00:00\", \"precipitation\": 0.017}, {\"date\": \"2023-05-29T00:00:00\", \"precipitation\": 1.447}, {\"date\": \"2023-05-30T00:00:00\", \"precipitation\": 0.0}, {\"date\": \"2023-05-31T00:00:00\", \"precipitation\": 2.6}, {\"date\": \"2023-06-01T00:00:00\", \"precipitation\": 3.638}, {\"date\": \"2023-06-02T00:00:00\", \"precipitation\": 1.987}, {\"date\": \"2023-06-03T00:00:00\", \"precipitation\": 0.204}, {\"date\": \"2023-06-04T00:00:00\", \"precipitation\": 0.085}, {\"date\": \"2023-06-05T00:00:00\", \"precipitation\": 0.0}, {\"date\": \"2023-06-06T00:00:00\", \"precipitation\": 0.0}, {\"date\": \"2023-06-07T00:00:00\", \"precipitation\": 0.289}, {\"date\": \"2023-06-08T00:00:00\", \"precipitation\": 0.255}, {\"date\": \"2023-06-09T00:00:00\", \"precipitation\": 0.306}, {\"date\": \"2023-06-10T00:00:00\", \"precipitation\": 0.0}, {\"date\": \"2023-06-11T00:00:00\", \"precipitation\": 1.328}, {\"date\": \"2023-06-12T00:00:00\", \"precipitation\": 0.0}, {\"date\": \"2023-06-13T00:00:00\", \"precipitation\": 0.0}, {\"date\": \"2023-06-14T00:00:00\", \"precipitation\": 0.0}, {\"date\": \"2023-06-15T00:00:00\", \"precipitation\": 0.0}, {\"date\": \"2023-06-16T00:00:00\", \"precipitation\": 0.0}, {\"date\": \"2023-06-17T00:00:00\", \"precipitation\": 0.0}, {\"date\": \"2023-06-18T00:00:00\", \"precipitation\": 0.0}, {\"date\": \"2023-06-19T00:00:00\", \"precipitation\": 1.328}, {\"date\": \"2023-06-20T00:00:00\", \"precipitation\": 0.0}, {\"date\": \"2023-06-21T00:00:00\", \"precipitation\": 0.0}, {\"date\": \"2023-06-22T00:00:00\", \"precipitation\": 0.017}, {\"date\": \"2023-06-23T00:00:00\", \"precipitation\": 0.63}, {\"date\": \"2023-06-24T00:00:00\", \"precipitation\": 0.119}, {\"date\": \"2023-06-25T00:00:00\", \"precipitation\": 0.306}, {\"date\": \"2023-06-26T00:00:00\", \"precipitation\": 0.0}, {\"date\": \"2023-06-27T00:00:00\", \"precipitation\": 0.0}, {\"date\": \"2023-06-28T00:00:00\", \"precipitation\": 0.0}, {\"date\": \"2023-06-29T00:00:00\", \"precipitation\": 0.0}, {\"date\": \"2023-06-30T00:00:00\", \"precipitation\": 0.0}, {\"date\": \"2023-07-01T00:00:00\", \"precipitation\": 0.0}, {\"date\": \"2023-07-02T00:00:00\", \"precipitation\": 0.0}, {\"date\": \"2023-07-03T00:00:00\", \"precipitation\": 0.0}, {\"date\": \"2023-07-04T00:00:00\", \"precipitation\": 0.0}, {\"date\": \"2023-07-05T00:00:00\", \"precipitation\": 0.0}, {\"date\": \"2023-07-06T00:00:00\", \"precipitation\": 0.0}, {\"date\": \"2023-07-07T00:00:00\", \"precipitation\": 0.426}, {\"date\": \"2023-07-08T00:00:00\", \"precipitation\": 1.157}, {\"date\": \"2023-07-09T00:00:00\", \"precipitation\": 0.936}, {\"date\": \"2023-07-10T00:00:00\", \"precipitation\": 0.017}, {\"date\": \"2023-07-11T00:00:00\", \"precipitation\": 0.017}, {\"date\": \"2023-07-12T00:00:00\", \"precipitation\": 1.26}]}}, {\"mode\": \"vega-lite\"});\n",
       "</script>"
      ],
      "text/plain": [
       "alt.Chart(...)"
      ]
     },
     "execution_count": 2,
     "metadata": {},
     "output_type": "execute_result"
    }
   ],
   "source": [
    "\n",
    "def load_precip_data():\n",
    "    df = pd.read_csv(\"timeseries.csv\", parse_dates=True, index_col=0).reset_index().rename(columns={\"Timestamp\" : \"date\", \"pr\": \"precipitation\"})\n",
    "    df.loc[:,'date'] = df['date'].dt.date\n",
    "    df = df.groupby('date').max().reset_index().dropna()\n",
    "    return df\n",
    "\n",
    "df = load_precip_data()\n",
    "\n",
    "chart =  alt.Chart(df).mark_line().encode(x=\"date\", y=\"precipitation\", tooltip=['precipitation', 'date']).properties(width=900, height=500).interactive()\n",
    "chart"
   ]
  },
  {
   "cell_type": "code",
   "execution_count": 5,
   "metadata": {},
   "outputs": [],
   "source": [
    "# import solara\n",
    "\n",
    "# # title = \"Altair visualization\"\n",
    "# source = df\n",
    "\n",
    "# selected_datum = solara.reactive(None)\n",
    "\n",
    "# @solara.component\n",
    "# def Page():\n",
    "\n",
    "#     def on_click(datum):\n",
    "#         selected_datum.value = datum\n",
    "\n",
    "#     chart = (\n",
    "#         alt.Chart(source, title=\"Daily Max Temperatures (C) in Seattle, WA\").mark_line().encode(x=\"date\", y=\"precipitation\", tooltip=['precipitation', 'date']).properties(width=900, height=500).interactive().configure_view(step=13, strokeWidth=0).configure_axis(domain=False)\n",
    "#     )\n",
    "#     with solara.Card(\"Annual Weather Heatmap for Seattle, WA\"):\n",
    "#         solara.AltairChart(chart, on_click=on_click)\n",
    "#         if selected_datum.value:\n",
    "#             month_date = selected_datum.value[\"monthdate_date_end\"]\n",
    "#             dt = pd.to_datetime(month_date)\n",
    "#             filtered_df = df[(df[\"date\"].dt.month == dt.month) & (df[\"date\"].dt.day == dt.day)]\n",
    "#             solara.Markdown(f\"Day of year: {dt.month_name()} - {dt.day}\")\n",
    "#             solara.Button(\"Clear selection\", on_click=lambda: selected_datum.set(None))\n",
    "#             solara.display(filtered_df)\n",
    "\n",
    "#             with solara.Details(\"Click data\"):\n",
    "#                 solara.Markdown(\n",
    "#                     f\"\"\"\n",
    "#                 Click data:\n",
    "\n",
    "#                 ```\n",
    "#                 {selected_datum.value}\n",
    "#                 ```\n",
    "#                 \"\"\"\n",
    "#                 )\n",
    "#         else:\n",
    "#             solara.Markdown(\"Click on the chart to see data for a specific day\")\n"
   ]
  },
  {
   "cell_type": "code",
   "execution_count": 6,
   "metadata": {},
   "outputs": [],
   "source": [
    "# Page()"
   ]
  },
  {
   "cell_type": "markdown",
   "metadata": {},
   "source": []
  },
  {
   "cell_type": "code",
   "execution_count": 7,
   "metadata": {},
   "outputs": [],
   "source": [
    "import ipyleaflet"
   ]
  },
  {
   "cell_type": "code",
   "execution_count": 8,
   "metadata": {},
   "outputs": [
    {
     "name": "stdout",
     "output_type": "stream",
     "text": [
      "API request: services/assets/v2/stations\n"
     ]
    }
   ],
   "source": [
    "import TAHMO\n",
    "\n",
    "# The demo credentials listed below give you access to three pre-defined stations. \n",
    "# Please use the API credentials provided to you to get access to all stations configured for you specifically.\n",
    "api = TAHMO.apiWrapper()\n",
    "api.setCredentials('demo', 'DemoPassword1!')\n",
    "\n",
    "TAHMO_station = 'TA00016'\n",
    "\n",
    "TAHMO_station_data = api.getStations()[TAHMO_station]"
   ]
  },
  {
   "cell_type": "code",
   "execution_count": 9,
   "metadata": {},
   "outputs": [],
   "source": [
    "import solara\n",
    "from ipywidgets import HTML"
   ]
  },
  {
   "cell_type": "code",
   "execution_count": 10,
   "metadata": {},
   "outputs": [],
   "source": [
    "zoom = solara.reactive(8)\n",
    "center = solara.reactive([5.53, -0.20])"
   ]
  },
  {
   "cell_type": "code",
   "execution_count": 11,
   "metadata": {},
   "outputs": [],
   "source": [
    "@solara.component\n",
    "def Page():\n",
    "    with solara.Column(style={\"min-width\": \"600px\", \"min-height\": \"500px\"}):\n",
    "        with solara.Card(\"Map\"):\n",
    "            \n",
    "            m = ipyleaflet.Map(center=center.value, zoom=zoom.value)\n",
    "\n",
    "            marker = ipyleaflet.Marker(location=(TAHMO_station_data['location']['latitude'], TAHMO_station_data['location']['longitude']), draggable=True)\n",
    "            marker.popup = HTML(str(TAHMO_station_data['location']['name']))\n",
    "            m.add_layer(marker)\n",
    "            \n",
    "            solara.display(m)\n"
   ]
  },
  {
   "cell_type": "code",
   "execution_count": 12,
   "metadata": {},
   "outputs": [
    {
     "data": {
      "application/vnd.jupyter.widget-view+json": {
       "model_id": "6d9b669c7dd94b65baf5ed30ea754480",
       "version_major": 2,
       "version_minor": 0
      },
      "text/html": [
       "Cannot show widget. You probably want to rerun the code cell above (<i>Click in the code cell, and press Shift+Enter <kbd>⇧</kbd>+<kbd>↩</kbd></i>)."
      ],
      "text/plain": [
       "Cannot show ipywidgets in text"
      ]
     },
     "metadata": {},
     "output_type": "display_data"
    }
   ],
   "source": [
    "Page()"
   ]
  },
  {
   "cell_type": "code",
   "execution_count": 15,
   "metadata": {},
   "outputs": [
    {
     "data": {
      "text/plain": [
       "(5.573103555, -0.244500082)"
      ]
     },
     "execution_count": 15,
     "metadata": {},
     "output_type": "execute_result"
    }
   ],
   "source": [
    "TAHMO_station_data['location']['latitude'], TAHMO_station_data['location']['longitude']"
   ]
  },
  {
   "cell_type": "code",
   "execution_count": null,
   "metadata": {},
   "outputs": [],
   "source": []
  }
 ],
 "metadata": {
  "kernelspec": {
   "display_name": "Python 3",
   "language": "python",
   "name": "python3"
  },
  "language_info": {
   "codemirror_mode": {
    "name": "ipython",
    "version": 3
   },
   "file_extension": ".py",
   "mimetype": "text/x-python",
   "name": "python",
   "nbconvert_exporter": "python",
   "pygments_lexer": "ipython3",
   "version": "3.10.13"
  }
 },
 "nbformat": 4,
 "nbformat_minor": 2
}
